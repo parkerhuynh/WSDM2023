{
 "cells": [
  {
   "cell_type": "markdown",
   "id": "815e24b6",
   "metadata": {
    "id": "815e24b6"
   },
   "source": [
    "# Packages"
   ]
  },
  {
   "cell_type": "code",
   "execution_count": 1,
   "id": "458e45c7",
   "metadata": {
    "id": "458e45c7"
   },
   "outputs": [],
   "source": [
    "#%%capture\n",
    "!pip install wget\n",
    "!pip install wandb\n",
    "!pip install plot_keras_history\n",
    "!pip install tensorflow-addons\n",
    "!jupyter nbextension enable --py widgetsnbextension"
   ]
  },
  {
   "cell_type": "code",
   "execution_count": 2,
   "id": "cadab368",
   "metadata": {
    "colab": {
     "base_uri": "https://localhost:8080/"
    },
    "id": "cadab368",
    "outputId": "cf47cb72-b452-4e04-ac8c-0a3ed724c340"
   },
   "outputs": [
    {
     "name": "stdout",
     "output_type": "stream",
     "text": [
      "/bin/bash: /home/ngoc/anaconda3/envs/py37/lib/libtinfo.so.6: no version information available (required by /bin/bash)\r\n"
     ]
    }
   ],
   "source": [
    "import os\n",
    "os.environ['TF_CPP_MIN_LOG_LEVEL'] = '2'\n",
    "os.environ['TF_ENABLE_ONEDNN_OPTS'] = '0'\n",
    "os.environ['TF_FORCE_GPU_ALLOW_GROWTH'] = 'true'\n",
    "!mkdir saved_images"
   ]
  },
  {
   "cell_type": "code",
   "execution_count": 4,
   "id": "3bb9c2de",
   "metadata": {
    "id": "3bb9c2de"
   },
   "outputs": [
    {
     "name": "stderr",
     "output_type": "stream",
     "text": [
      "2022-11-18 16:49:34.353276: E tensorflow/stream_executor/cuda/cuda_blas.cc:2981] Unable to register cuBLAS factory: Attempting to register factory for plugin cuBLAS when one has already been registered\n"
     ]
    }
   ],
   "source": [
    "import pandas as pd\n",
    "import cv2\n",
    "import wget\n",
    "import shutil\n",
    "from tensorflow.keras.applications import VGG16\n",
    "from tqdm.auto import tqdm\n",
    "from joblib import Parallel, delayed\n",
    "from collections import defaultdict\n",
    "import random\n",
    "import matplotlib.pyplot as plt\n",
    "import matplotlib.image as mpimg\n",
    "import numpy as np\n",
    "from PIL import Image\n",
    "import re\n",
    "import json\n",
    "import numpy as np\n",
    "from plot_keras_history import show_history, plot_history\n",
    "\n",
    "\n",
    "import tensorflow as tf\n",
    "from tensorflow import keras\n",
    "import tensorflow\n",
    "from tensorflow.keras.preprocessing.sequence import pad_sequences\n",
    "from tensorflow.keras import layers\n",
    "import tensorflow_addons as tfa\n",
    "import random\n",
    "from wandb.keras import WandbCallback\n",
    "import wandb\n",
    "import time\n",
    "from keras import backend as K\n"
   ]
  },
  {
   "cell_type": "code",
   "execution_count": 5,
   "id": "1bc4f6f3",
   "metadata": {
    "colab": {
     "base_uri": "https://localhost:8080/"
    },
    "id": "1bc4f6f3",
    "outputId": "ba7ca832-fe13-41cd-8181-ce79efbd5054"
   },
   "outputs": [],
   "source": [
    "!wget https://github.com/Toloka/WSDMCup2023/raw/main/train.csv"
   ]
  },
  {
   "cell_type": "code",
   "execution_count": 6,
   "id": "8bd90ccd",
   "metadata": {
    "id": "8bd90ccd"
   },
   "outputs": [],
   "source": [
    "DATA_DIR = \"/home/ngoc/data/WSDM2023/\" # change to /content/ if running on GG COLAB\n",
    "VISUALIZATION = False  \n",
    "BATCH_SIZE = 4              \n",
    "NUM_EPOCHS = 50           \n",
    "IMAGE_EMBEDIND_SIZE = 1024     \n",
    "WORD_EMBEDING_SIZE = 300        \n",
    "NUMBER_FC_LAYER = 2           \n",
    "HIDDEN_FC_SIZE = 1024        \n",
    "TEST_TRAINING  = False                       \n",
    "LEARNING_RATE =0.00001         \n",
    "MODEL = \"VQA\"                      \n",
    "IMAGE_SIZE = 640\n",
    "LOSS = \"MSLE\""
   ]
  },
  {
   "cell_type": "code",
   "execution_count": 7,
   "id": "b9337e67",
   "metadata": {
    "colab": {
     "base_uri": "https://localhost:8080/"
    },
    "id": "b9337e67",
    "outputId": "7128be44-6703-4bcd-bcaa-d99d795798ca"
   },
   "outputs": [
    {
     "name": "stdout",
     "output_type": "stream",
     "text": [
      "Num GPUs Available:  1\n"
     ]
    }
   ],
   "source": [
    "print(\"Num GPUs Available: \", len(tf.config.list_physical_devices('GPU')))"
   ]
  },
  {
   "cell_type": "code",
   "execution_count": 8,
   "id": "7590fe12",
   "metadata": {},
   "outputs": [
    {
     "name": "stderr",
     "output_type": "stream",
     "text": [
      "\u001b[34m\u001b[1mwandb\u001b[0m: Currently logged in as: \u001b[33mngocdunghuynh\u001b[0m. Use \u001b[1m`wandb login --relogin`\u001b[0m to force relogin\n"
     ]
    },
    {
     "data": {
      "text/html": [
       "Tracking run with wandb version 0.13.5"
      ],
      "text/plain": [
       "<IPython.core.display.HTML object>"
      ]
     },
     "metadata": {},
     "output_type": "display_data"
    },
    {
     "data": {
      "text/html": [
       "Run data is saved locally in <code>/home/ngoc/githubs/WSDM2023/wandb/run-20221118_164937-1ca63g2n</code>"
      ],
      "text/plain": [
       "<IPython.core.display.HTML object>"
      ]
     },
     "metadata": {},
     "output_type": "display_data"
    },
    {
     "data": {
      "text/html": [
       "Syncing run <strong><a href=\"https://wandb.ai/ngocdunghuynh/WSDM2023/runs/1ca63g2n\" target=\"_blank\">comic-wildflower-104</a></strong> to <a href=\"https://wandb.ai/ngocdunghuynh/WSDM2023\" target=\"_blank\">Weights & Biases</a> (<a href=\"https://wandb.me/run\" target=\"_blank\">docs</a>)<br/>"
      ],
      "text/plain": [
       "<IPython.core.display.HTML object>"
      ]
     },
     "metadata": {},
     "output_type": "display_data"
    },
    {
     "data": {
      "text/html": [
       "<button onClick=\"this.nextSibling.style.display='block';this.style.display='none';\">Display W&B run</button><iframe src=\"https://wandb.ai/ngocdunghuynh/WSDM2023/runs/1ca63g2n?jupyter=true\" style=\"border:none;width:100%;height:420px;display:none;\"></iframe>"
      ],
      "text/plain": [
       "<wandb.sdk.wandb_run.Run at 0x7f07b3b16990>"
      ]
     },
     "execution_count": 8,
     "metadata": {},
     "output_type": "execute_result"
    }
   ],
   "source": [
    "\n",
    "import wandb\n",
    "wandb.init(project=\"WSDM2023\",\n",
    "           entity=\"ngocdunghuynh\",\n",
    "            config = {\n",
    "                \"learning_rate\": LEARNING_RATE,\n",
    "                \"epochs\": NUM_EPOCHS,\n",
    "                \"batch_size\": BATCH_SIZE,\n",
    "                \"loss_function\": LOSS,\n",
    "            })\n",
    "#WandB key: 40448fdd0d7d5dd051f607a1fcdec27cd9b84996"
   ]
  },
  {
   "cell_type": "markdown",
   "id": "f4e5ed92",
   "metadata": {
    "id": "f4e5ed92"
   },
   "source": [
    "# Data Loader"
   ]
  },
  {
   "cell_type": "code",
   "execution_count": 9,
   "id": "ad0f2df4",
   "metadata": {
    "id": "ad0f2df4"
   },
   "outputs": [],
   "source": [
    "train = pd.read_csv(DATA_DIR  + 'train.csv')\n",
    "TRAIN_IMGS_DIR = DATA_DIR + \"train_imgs/\""
   ]
  },
  {
   "cell_type": "code",
   "execution_count": 10,
   "id": "e9f0d2b0",
   "metadata": {
    "colab": {
     "base_uri": "https://localhost:8080/",
     "height": 49,
     "referenced_widgets": [
      "0662ee4595f34c9e85327822edbcaa11",
      "df61bdd17d654c7a80a81dc9a18bff10",
      "3c8a38e0890845b1a4ca964b9a576134",
      "dbdd88c4af6b4658beb33a9071a4d465",
      "68dc90642ee144838e183c09f702a365",
      "0d956e2818dd4cb7b1faa3e00e5e6403",
      "5966ae2880be465ab6b0d54173faf8f1",
      "a90d8de2dc50453784df8f1229c293e0",
      "1c0b9157b1e446a9950f6becd39f40de",
      "90ee8d02cde54101ba121921f46ee1a5",
      "9b2c48ea9450446b91a9ce26001be3f6"
     ]
    },
    "id": "e9f0d2b0",
    "outputId": "f84074d4-9851-4bd8-8e7a-f8628b27acbd"
   },
   "outputs": [
    {
     "name": "stdout",
     "output_type": "stream",
     "text": [
      "the training set has been downloaded\n"
     ]
    }
   ],
   "source": [
    "# Download data\n",
    "try:\n",
    "    os.mkdir(TRAIN_IMGS_DIR)\n",
    "    img_paths = Parallel(\n",
    "    n_jobs=100)(delayed(wget.download)(img_url, out= TRAIN_IMGS_DIR) for img_url in tqdm(train.image)\n",
    "    )\n",
    "except:\n",
    "    print(\"the training set has been downloaded\")"
   ]
  },
  {
   "cell_type": "code",
   "execution_count": 11,
   "id": "7188dd62",
   "metadata": {
    "id": "7188dd62"
   },
   "outputs": [],
   "source": [
    "#Get the image path from URL\n",
    "train.image  = train.image.apply(lambda x: str(x.split(\"/\")[-1]))\n",
    "train.image  = train.image.apply(lambda x: TRAIN_IMGS_DIR + str(x))"
   ]
  },
  {
   "cell_type": "code",
   "execution_count": 12,
   "id": "58000096",
   "metadata": {
    "id": "58000096"
   },
   "outputs": [],
   "source": [
    "#Spit the original training set into 2 dataframes\n",
    "train_sample = int(len(train)*0.8)\n",
    "df_train = train[:int(len(train)*0.8)]\n",
    "df_val = train[int(len(train)*0.8):]\n",
    "\n",
    "df_train = df_train.reset_index(drop =True)\n",
    "df_val = df_val.reset_index(drop =True)\n",
    "\n",
    "if TEST_TRAINING:\n",
    "    df_train = df_train[:800*BATCH_SIZE]\n",
    "    df_val =  df_val[:80*BATCH_SIZE]"
   ]
  },
  {
   "cell_type": "markdown",
   "id": "1932736b",
   "metadata": {
    "id": "1932736b"
   },
   "source": [
    "## Image Processing"
   ]
  },
  {
   "cell_type": "code",
   "execution_count": 13,
   "id": "286067fe",
   "metadata": {
    "colab": {
     "base_uri": "https://localhost:8080/"
    },
    "id": "286067fe",
    "outputId": "205a88a1-aa58-4beb-de36-3a6e4b73aa2f"
   },
   "outputs": [
    {
     "name": "stdout",
     "output_type": "stream",
     "text": [
      "Populating the interactive namespace from numpy and matplotlib\n"
     ]
    },
    {
     "name": "stderr",
     "output_type": "stream",
     "text": [
      "/home/ngoc/anaconda3/envs/tf/lib/python3.7/site-packages/IPython/core/magics/pylab.py:160: UserWarning: pylab import has clobbered these variables: ['random']\n",
      "`%matplotlib` prevents importing * from pylab and numpy\n",
      "  \"\\n`%matplotlib` prevents importing * from pylab and numpy\"\n"
     ]
    }
   ],
   "source": [
    "%pylab inline\n",
    "from concurrent.futures import process\n",
    "\n",
    "\n",
    "def create_mask(bb, x):\n",
    "    \"\"\"Creates a mask for the bounding box of same shape as image\"\"\"\n",
    "    cols, rows,*_ = x.shape\n",
    "    Y = np.zeros((cols, rows))\n",
    "    bb = bb.astype(np.int64)\n",
    "    Y[bb[1]:bb[3], bb[0]:bb[2]] = 1.\n",
    "    return Y\n",
    "\n",
    "def mask_to_bb(Y):\n",
    "    \"\"\"Convert mask Y to a bounding box, assumes 0 as background nonzero object\"\"\"\n",
    "    rows , cols = np.nonzero(Y)\n",
    "    if len(cols)==0: \n",
    "        return np.zeros(4, dtype=np.float32)\n",
    "    top_row = np.min(rows)\n",
    "    left_col = np.min(cols)\n",
    "    bottom_row = np.max(rows)\n",
    "    right_col = np.max(cols)\n",
    "    return np.array([left_col, top_row, right_col, bottom_row], dtype=np.int64)\n",
    "\n",
    "def xyxy2xywh(box): #Convert box format [xmin ymin xmax ymax] --> [x center, y center, width, height] and normalize the box\n",
    "    xmin, ymin, xmax, ymax = box\n",
    "    w = xmax - xmin         # Width of the box\n",
    "    h = ymax - ymin         # Height of the box\n",
    "    x_center = (xmin + (w/2))/IMAGE_SIZE \n",
    "    y_center = (ymin + (h/2))/IMAGE_SIZE \n",
    "    new_w = w/ IMAGE_SIZE \n",
    "    new_h = h/IMAGE_SIZE\n",
    "    return np.array([x_center,y_center, new_w, new_h], dtype=np.float32)\n",
    "\n",
    "def resize_image_bb(img_path,bb,sz, question, show_example):\n",
    "    \"\"\"Resize an image and its bounding box and write image to new path\"\"\"\n",
    "    img = cv2.cvtColor(cv2.imread(str(img_path)), cv2.COLOR_BGR2RGB)\n",
    "    mask = create_mask(bb, img)\n",
    "    if show_example:\n",
    "        result = img.copy()\n",
    "        cv2.rectangle(result, (bb[0], bb[1]), (bb[2], bb[3]), (0, 255, 0), 5)\n",
    "        plt.figure()\n",
    "        plt.title(\"Original Image\")\n",
    "        plt.xlabel(f\"{question} \\n bb: {bb}\")\n",
    "        plt.imshow(result)\n",
    "        plt.show\n",
    "    \n",
    "    img_resized = cv2.resize(img, (sz, sz))\n",
    "    mask_resized = cv2.resize(mask, (sz, sz))\n",
    "    bb_resized = mask_to_bb(mask_resized)\n",
    "    x_center,y_center, new_w, new_h = xyxy2xywh(bb_resized)\n",
    "    processed_box = np.array([x_center,y_center, new_w, new_h], dtype=np.float32)\n",
    "    if show_example:\n",
    "\n",
    "        new_result = img_resized.copy()\n",
    "        cv2.rectangle(new_result, (bb_resized[0], bb_resized[1]), (bb_resized[2], bb_resized[3]), (0, 255, 0), 5)\n",
    "        plt.figure()\n",
    "        plt.title(\"Resized Image\")\n",
    "        plt.imshow(new_result)\n",
    "        plt.xlabel(f\"{question} \\n bb: {bb_resized} \\n processed_box: {processed_box}\")\n",
    "        plt.show\n",
    "    return np.array(img_resized, dtype = np.float32), bb_resized, processed_box\n",
    "\n",
    "\n",
    "\n",
    "def xywh2xyxy(box): #Convert box format [x center, y center, width, height]  --> [xmin ymin xmax ymax] and normalize the box\n",
    "    x_center,y_center, new_w, new_h = box*IMAGE_SIZE\n",
    "    xmin = x_center - (new_w/2)\n",
    "    ymin = y_center - (new_h/2)\n",
    "    xmax = x_center + (new_w/2)\n",
    "    ymax = y_center + (new_h/2)\n",
    "    return np.array([xmin, ymin, xmax, ymax], dtype=np.int64)\n",
    "\n",
    "def image_box_processing(image_path, box, question = None, show_example = True):\n",
    "        img_resized, bb_resized , processed_box = resize_image_bb(image_path, box,IMAGE_SIZE, question, show_example)\n",
    "        return img_resized, bb_resized, processed_box"
   ]
  },
  {
   "cell_type": "markdown",
   "id": "25e89c5d",
   "metadata": {
    "id": "25e89c5d"
   },
   "source": [
    "## Question Processing"
   ]
  },
  {
   "cell_type": "code",
   "execution_count": 14,
   "id": "689a71ce",
   "metadata": {
    "id": "689a71ce"
   },
   "outputs": [],
   "source": [
    "class Text_Dict:\n",
    "\n",
    "    \"\"\"Aim to convert index to word or word to index\"\"\"\n",
    "\n",
    "    def __init__(self, vocab):\n",
    "        \n",
    "        self.word_list = vocab\n",
    "        self.word2idx_dict = {w:n_w for n_w, w in enumerate(self.word_list)}\n",
    "        self.vocab_size = len(self.word_list)\n",
    "        self.unk2idx = self.word2idx_dict['<unk>'] if '<unk>' in self.word2idx_dict else None\n",
    "\n",
    "    def idx2word(self, n_w):\n",
    "\n",
    "        return self.word_list[n_w]\n",
    "\n",
    "    def word2idx(self, w):\n",
    "        if w in self.word2idx_dict:\n",
    "            return self.word2idx_dict[w]\n",
    "        elif self.unk2idx is not None:\n",
    "            return self.unk2idx\n",
    "        else:\n",
    "            raise ValueError(f'word {w} not in dictionary (while dictionary does not contain <unk>)')\n",
    "\n",
    "    def tokenize_and_index(self, sentence):\n",
    "        inds = [self.word2idx(w) for w in tokenize(sentence)]\n",
    "\n",
    "        return inds"
   ]
  },
  {
   "cell_type": "markdown",
   "id": "e6ce2de3",
   "metadata": {
    "id": "e6ce2de3"
   },
   "source": [
    "## Data Pipeline Loaders"
   ]
  },
  {
   "cell_type": "code",
   "execution_count": 15,
   "id": "d7a28dfe",
   "metadata": {
    "id": "d7a28dfe"
   },
   "outputs": [],
   "source": [
    "class DataGenerator(keras.utils.Sequence):\n",
    "    'Generates data for Keras'\n",
    "    def __init__(self, dataset, question_vocab, batch_size=32):\n",
    "        'Initialization'\n",
    "        self.dataset = dataset\n",
    "        self.batch_size = batch_size\n",
    "        self.question_vocab = question_vocab\n",
    "        self.question_dict = Text_Dict(self.question_vocab)\n",
    "        self.on_epoch_end()\n",
    "\n",
    "    def __len__(self):\n",
    "        'Denotes the number of batches per epoch'\n",
    "        return int(np.floor(len(self.dataset) / self.batch_size))\n",
    "\n",
    "\n",
    "    def make_vocab_questions(self, questions):\n",
    "        \"\"\"Make dictionary for questions and save them into text file.\"\"\"\n",
    "\n",
    "        print(\"- Creating a vocab list for questions\")\n",
    "        vocab_set = set()\n",
    "        SENTENCE_SPLIT_REGEX = re.compile(r'(\\W+)')\n",
    "        question_length = []\n",
    "\n",
    "        set_question_length = [None]*len(questions)\n",
    "        for iquestion, question in enumerate(questions):\n",
    "            words = SENTENCE_SPLIT_REGEX.split(question.lower())\n",
    "            words = [w.strip() for w in words if len(w.strip()) > 0]\n",
    "            vocab_set.update(words)\n",
    "            set_question_length[iquestion] = len(words)\n",
    "        question_length += set_question_length\n",
    "\n",
    "        vocab_list = list(vocab_set)\n",
    "        vocab_list.sort()\n",
    "        vocab_list.insert(0, '')\n",
    "        vocab_list.insert(1, '')\n",
    "        print(f'    + The size of Question vocabbulary {len(vocab_list)}.')\n",
    "        print(f'    + Maximum length of question: {np.max(question_length)}')\n",
    "        return vocab_list\n",
    "\n",
    "\n",
    "    def tokenize(self, sentence):\n",
    "\n",
    "        \"\"\"Split string lines into lists\"\"\"\n",
    "        \n",
    "        SENTENCE_SPLIT_REGEX = re.compile(r'(\\W+)')\n",
    "        tokens = SENTENCE_SPLIT_REGEX.split(sentence.lower())\n",
    "        tokens = [t.strip() for t in tokens if len(t.strip()) > 0]\n",
    "        return tokens\n",
    "\n",
    "    def question_processing(self, question):\n",
    "        question_token = self.tokenize(question)\n",
    "        question_2_idx = [self.question_dict.word2idx(w) for w in question_token ]\n",
    "        return  question_2_idx\n",
    "    \n",
    "\n",
    "\n",
    "    def on_epoch_end(self):\n",
    "        'Updates indexes after each epoch'\n",
    "        self.indexes = np.arange(len(self.dataset))\n",
    "\n",
    "\n",
    "\n",
    "    def __getitem__(self, index):\n",
    "        'Generate one batch of data'\n",
    "        # Generate indexes of the batch\n",
    "        indexes = self.indexes[index*self.batch_size:(index+1)*self.batch_size]\n",
    "        batch_data = [self.dataset.iloc[k] for k in indexes]\n",
    "        images, questions, boxes = self.__data_generation(batch_data)\n",
    "        return [{\n",
    "            'input_image': np.array(images, dtype =np.float32),\n",
    "            'input_question': np.array(questions, dtype =int)},\n",
    "            {\"output\": np.array(boxes, dtype =np.float32)}]\n",
    "\n",
    "    def __data_generation(self, batch_data):\n",
    "        images = []\n",
    "        questions = []\n",
    "        boxes = []\n",
    "        question_len = []\n",
    "        for image_path, width, hieght, left, top, right, bottom, question in batch_data:\n",
    "            box = np.array([left, top, right, bottom],dtype = np.float32)\n",
    "            resized_image, resized_box, processed_box = image_box_processing(image_path, box, question = None, show_example = False)\n",
    "\n",
    "            question = self.question_processing(question)\n",
    "            question_len.append(len(question))\n",
    "\n",
    "            questions.append(question)\n",
    "            boxes.append(processed_box)\n",
    "            images.append(resized_image/225)\n",
    "        questions = pad_sequences(questions, maxlen = max(question_len), dtype='float32', value=0, padding='pre')\n",
    "        return images, questions, boxes\n"
   ]
  },
  {
   "cell_type": "code",
   "execution_count": 16,
   "id": "7838111a",
   "metadata": {},
   "outputs": [],
   "source": [
    "def make_vocab_questions(questions):\n",
    "        \"\"\"Make dictionary for questions and save them into text file.\"\"\"\n",
    "\n",
    "        print(\"- Creating a vocab list for questions\")\n",
    "        vocab_set = set()\n",
    "        SENTENCE_SPLIT_REGEX = re.compile(r'(\\W+)')\n",
    "        question_length = []\n",
    "\n",
    "        set_question_length = [None]*len(questions)\n",
    "        for iquestion, question in enumerate(questions):\n",
    "            words = SENTENCE_SPLIT_REGEX.split(question.lower())\n",
    "            words = [w.strip() for w in words if len(w.strip()) > 0]\n",
    "            vocab_set.update(words)\n",
    "            set_question_length[iquestion] = len(words)\n",
    "        question_length += set_question_length\n",
    "\n",
    "        vocab_list = list(vocab_set)\n",
    "        vocab_list.sort()\n",
    "        vocab_list.insert(0, '')\n",
    "        vocab_list.insert(1, '')\n",
    "        print(f'    + The size of Question vocabbulary {len(vocab_list)}.')\n",
    "        print(f'    + Maximum length of question: {np.max(question_length)}')\n",
    "        return vocab_list"
   ]
  },
  {
   "cell_type": "code",
   "execution_count": 17,
   "id": "aebd4aa4",
   "metadata": {},
   "outputs": [
    {
     "name": "stdout",
     "output_type": "stream",
     "text": [
      "- Creating a vocab list for questions\n",
      "    + The size of Question vocabbulary 7494.\n",
      "    + Maximum length of question: 41\n"
     ]
    }
   ],
   "source": [
    "question_vocab = make_vocab_questions(train[\"question\"])"
   ]
  },
  {
   "cell_type": "markdown",
   "id": "7de26939",
   "metadata": {
    "id": "7de26939"
   },
   "source": [
    "# Model"
   ]
  },
  {
   "cell_type": "code",
   "execution_count": 19,
   "id": "06081a80",
   "metadata": {},
   "outputs": [],
   "source": [
    "def iou(y_true, y_pred, xyxy = False):\n",
    "    # iou as metric for bounding box regression\n",
    "    \n",
    "    if not xyxy:\n",
    "        # convert input to be as [x1, y1, x2, y2]\n",
    "        y_true = y_true*IMAGE_SIZE\n",
    "        y_true_xmin, y_true_ymin  = y_true[:,0] - y_true[:,2]/2, y_true[:,1] - y_true[:,3]/2\n",
    "        y_true_xmax, y_true_ymax  = y_true[:,0] + y_true[:,2]/2, y_true[:,1] + y_true[:,3]/2\n",
    "        y_true = tf.stack([y_true_xmin, y_true_ymin, y_true_xmax, y_true_ymax], 1)\n",
    "    \n",
    "        # convert predictions to be as [x1, y1, x2, y2]\n",
    "        y_pred = y_pred*IMAGE_SIZE\n",
    "        y_pred_xmin, y_pred_ymin  = y_pred[:,0] - y_pred[:,2]/2, y_pred[:,1] - y_pred[:,3]/2\n",
    "        y_pred_xmax, y_pred_ymax  = y_pred[:,0] + y_pred[:,2]/2, y_pred[:,1] + y_pred[:,3]/2\n",
    "        y_pred = tf.stack([y_pred_xmin, y_pred_ymin, y_pred_xmax, y_pred_ymax], 1)\n",
    "    # AOG = Area of Groundtruth box\n",
    "    AoG = K.abs(K.transpose(y_true)[2] - K.transpose(y_true)[0] + 1) * K.abs(K.transpose(y_true)[3] - K.transpose(y_true)[1] + 1)\n",
    "    # AOP = Area of Predicted box\n",
    "    AoP = K.abs(K.transpose(y_pred)[2] - K.transpose(y_pred)[0] + 1) * K.abs(K.transpose(y_pred)[3] - K.transpose(y_pred)[1] + 1)\n",
    "\n",
    "    # overlaps are the co-ordinates of intersection box\n",
    "    overlap_0 = K.maximum(K.transpose(y_true)[0], K.transpose(y_pred)[0])\n",
    "    overlap_1 = K.maximum(K.transpose(y_true)[1], K.transpose(y_pred)[1])\n",
    "    overlap_2 = K.minimum(K.transpose(y_true)[2], K.transpose(y_pred)[2])\n",
    "    overlap_3 = K.minimum(K.transpose(y_true)[3], K.transpose(y_pred)[3])\n",
    "\n",
    "    # intersection area\n",
    "    intersection = (overlap_2 - overlap_0 + 1) * (overlap_3 - overlap_1 + 1)\n",
    "\n",
    "    # area of union of both boxes\n",
    "    union = AoG + AoP - intersection\n",
    "    \n",
    "    # iou calculation\n",
    "    iou = intersection / union\n",
    "\n",
    "    # bounding values of iou to (0,1)\n",
    "    iou = K.clip(iou, 0.0 + K.epsilon(), 1.0 - K.epsilon())\n",
    "\n",
    "    return iou"
   ]
  },
  {
   "cell_type": "code",
   "execution_count": 20,
   "id": "da5a1869",
   "metadata": {},
   "outputs": [],
   "source": [
    "def save_prediction(img, img_dix, pred_bb, gt_bb, question, epoch, mode, xyxy = False):\n",
    "    cv2.imwrite(f'./saved_images/{mode}_img_{img_dix}.jpg', img)\n",
    "    img = cv2.cvtColor(cv2.imread(f'./saved_images/{mode}_img_{img_dix}.jpg'), cv2.COLOR_BGR2RGB)\n",
    "    result = img.copy()\n",
    "    cv2.rectangle(result, (int(gt_bb[0]), int(gt_bb[1])), (int(gt_bb[2]), int(gt_bb[3])), (0, 255, 0), 3)\n",
    "    cv2.rectangle(result, (int(pred_bb[0]), int(pred_bb[1])), (int(pred_bb[2]), int(pred_bb[3])), (255, 0, 0), 3)\n",
    "    plt.figure(figsize=(12, 8))\n",
    "    plt.imshow(cv2.cvtColor(result, cv2.COLOR_BGR2RGB))\n",
    "    plt.title(question)\n",
    "    plt.savefig(f\"./saved_images/{mode}_img_{img_dix}_epoch_{epoch}.jpg\")\n",
    "    plt.close()"
   ]
  },
  {
   "cell_type": "code",
   "execution_count": 21,
   "id": "d5081037",
   "metadata": {},
   "outputs": [],
   "source": [
    "columns=[\"epoch\", \"dataset\", \"image\", \"iou\"]\n",
    "train_table = wandb.Table(columns=columns)\n",
    "val_table = wandb.Table(columns=columns)\n",
    "class Log_Img_Callback(keras.callbacks.Callback):\n",
    "    \n",
    "    #SAVE PREDICTIONS ON WANDB\n",
    "    def __init__(self, train_generator,val_generator):\n",
    "        super().__init__()\n",
    "        self.train_samples = train_generator[0]\n",
    "        self.val_samples = val_generator[0]\n",
    "        self.train_generator = train_generator\n",
    "        \n",
    "    def iou(self, box_predicted, box_truth):\n",
    "        # get (x, y) coordinates of intersection of bounding boxes\n",
    "        top_x_intersect = max(box_predicted[0], box_truth[0])\n",
    "        top_y_intersect = max(box_predicted[1], box_truth[1])\n",
    "        bottom_x_intersect = min(box_predicted[2], box_truth[2])\n",
    "        bottom_y_intersect = min(box_predicted[3], box_truth[3])\n",
    "\n",
    "        # calculate area of the intersection bb (bounding box)\n",
    "        intersection_area = max(0, bottom_x_intersect - top_x_intersect + 1) * max(\n",
    "            0, bottom_y_intersect - top_y_intersect + 1\n",
    "        )\n",
    "\n",
    "        # calculate area of the prediction bb and ground-truth bb\n",
    "        box_predicted_area = (box_predicted[2] - box_predicted[0] + 1) * (\n",
    "            box_predicted[3] - box_predicted[1] + 1\n",
    "        )\n",
    "        box_truth_area = (box_truth[2] - box_truth[0] + 1) * (\n",
    "            box_truth[3] - box_truth[1] + 1\n",
    "        )\n",
    "\n",
    "        # calculate intersection over union by taking intersection\n",
    "        # area and dividing it by the sum of predicted bb and ground truth\n",
    "        # bb areas subtracted by  the interesection area\n",
    "\n",
    "        # return ioU\n",
    "        return intersection_area / float(\n",
    "            box_predicted_area + box_truth_area - intersection_area\n",
    "        )\n",
    "    \n",
    "    def xywh_to_xyxy(self, bboxes):\n",
    "        bboxes = bboxes*IMAGE_SIZE\n",
    "        bboxes[:,0], bboxes[:,2] = bboxes[:,0] - bboxes[:,2]/2,bboxes[:,0] + bboxes[:,2]/2\n",
    "        bboxes[:,1], bboxes[:,3] = bboxes[:,1] - bboxes[:,3]/2, bboxes[:,1] + bboxes[:,3]/2\n",
    "        return bboxes\n",
    "        \n",
    "\n",
    "    def on_epoch_end(self, epoch, logs=None):\n",
    "        print(epoch)\n",
    "        if (epoch+1) % 10 == 0:\n",
    "            train_input, train_output = self.train_samples\n",
    "            train_predictions = self.model.predict(train_input, verbose = 0)\n",
    "            train_predictions =self.xywh_to_xyxy(train_predictions)\n",
    "            train_output = self.xywh_to_xyxy(train_output[\"output\"])\n",
    "            for i in range(len(train_predictions)):\n",
    "                iou = self.iou(train_predictions[i], train_output[i])\n",
    "                img = train_input[\"input_image\"][i]*225\n",
    "                text = \"\"\n",
    "                for idx in train_input[\"input_question\"][i]:\n",
    "                    text += train_generator.question_dict.idx2word(idx)\n",
    "                    text += \" \"\n",
    "                save_prediction(img, i, train_predictions[i], train_output[i], text, epoch+1, \"train\")\n",
    "                train_table.add_data(epoch+1, \"train\", wandb.Image(f\"./saved_images/train_img_{i}_epoch_{epoch+1}.jpg\"), iou)\n",
    "            \n",
    "            val_input, val_output = self.val_samples\n",
    "            val_predictions = self.model.predict(val_input, verbose = 0)\n",
    "            val_predictions =self.xywh_to_xyxy(val_predictions)\n",
    "            val_output = self.xywh_to_xyxy(val_output[\"output\"])\n",
    "            for i in range(len(val_predictions)):\n",
    "                iou = self.iou(val_predictions[i], val_output[i])\n",
    "                img = val_input[\"input_image\"][i]*225\n",
    "                text = \"\"\n",
    "                for idx in val_input[\"input_question\"][i]:\n",
    "                    text += train_generator.question_dict.idx2word(idx)\n",
    "                    text += \" \"\n",
    "                save_prediction(img, i, val_predictions[i], val_output[i], text, epoch+1, \"val\")\n",
    "                val_table.add_data(epoch+1, \"val\", wandb.Image(f\"./saved_images/val_img_{i}_epoch_{epoch+1}.jpg\"), iou)"
   ]
  },
  {
   "cell_type": "code",
   "execution_count": 22,
   "id": "0b147cf8",
   "metadata": {},
   "outputs": [],
   "source": [
    "\n",
    "def build_model(conv_base, img_size, vocab_size):\n",
    "    # Define the VGG16 conv_base to extract image features\n",
    "    img_input = keras.Input(shape=(img_size, img_size, 3), name=\"input_image\")\n",
    "    img = conv_base(img_input)\n",
    "    img = layers.Flatten()(img)\n",
    "    img = layers.Dense(256, activation='relu')(img)\n",
    "    img = layers.Dense(64, activation='relu')(img)\n",
    "    \n",
    "    #Use LSTM to extract sequence features\n",
    "    q_input = keras.Input(shape=(None,), name=\"input_question\")\n",
    "    q = layers.Embedding(input_dim=vocab_size, output_dim=20)(q_input)\n",
    "    q = layers.LSTM(64)(q)\n",
    "    # Combine CNN and RNN\n",
    "    mrg = layers.Multiply()([img, q])\n",
    "    # Output    \n",
    "    output = layers.Dense(4, activation='sigmoid', name=\"output\")(mrg)\n",
    "    vqa_model = keras.Model(inputs=[img_input, q_input], outputs=output)\n",
    "    return vqa_model\n"
   ]
  },
  {
   "cell_type": "markdown",
   "id": "c5b5eb08",
   "metadata": {},
   "source": [
    "# Traning"
   ]
  },
  {
   "cell_type": "code",
   "execution_count": 23,
   "id": "b2e9c04f",
   "metadata": {
    "colab": {
     "base_uri": "https://localhost:8080/"
    },
    "id": "b2e9c04f",
    "outputId": "5d8f3bd8-44ca-4c59-c77f-4f4f9cd9bf72"
   },
   "outputs": [
    {
     "name": "stderr",
     "output_type": "stream",
     "text": [
      "\u001b[34m\u001b[1mwandb\u001b[0m: \u001b[33mWARNING\u001b[0m The save_model argument by default saves the model in the HDF5 format that cannot save custom objects like subclassed models and custom layers. This behavior will be deprecated in a future release in favor of the SavedModel format. Meanwhile, the HDF5 model is saved as W&B files and the SavedModel as W&B Artifacts.\n"
     ]
    },
    {
     "name": "stdout",
     "output_type": "stream",
     "text": [
      "Epoch 1/100\n",
      "800/800 [==============================] - ETA: 0s - loss: 0.0226 - iou: 0.1137 - mae: 0.1657 - root_mean_squared_error: 0.2075"
     ]
    },
    {
     "name": "stderr",
     "output_type": "stream",
     "text": [
      "WARNING:absl:Found untraced functions such as _jit_compiled_convolution_op, _jit_compiled_convolution_op, _jit_compiled_convolution_op, _jit_compiled_convolution_op, _jit_compiled_convolution_op while saving (showing 5 of 15). These functions will not be directly callable after loading.\n"
     ]
    },
    {
     "name": "stdout",
     "output_type": "stream",
     "text": [
      "INFO:tensorflow:Assets written to: /home/ngoc/githubs/WSDM2023/wandb/run-20221118_164937-1ca63g2n/files/model-best/assets\n"
     ]
    },
    {
     "name": "stderr",
     "output_type": "stream",
     "text": [
      "INFO:tensorflow:Assets written to: /home/ngoc/githubs/WSDM2023/wandb/run-20221118_164937-1ca63g2n/files/model-best/assets\n",
      "\u001b[34m\u001b[1mwandb\u001b[0m: Adding directory to artifact (/home/ngoc/githubs/WSDM2023/wandb/run-20221118_164937-1ca63g2n/files/model-best)... Done. 1.6s\n"
     ]
    },
    {
     "name": "stdout",
     "output_type": "stream",
     "text": [
      "0\n",
      "800/800 [==============================] - 74s 85ms/step - loss: 0.0226 - iou: 0.1137 - mae: 0.1657 - root_mean_squared_error: 0.2075 - val_loss: 0.0195 - val_iou: 0.1290 - val_mae: 0.1553 - val_root_mean_squared_error: 0.1950\n",
      "Epoch 2/100\n",
      "800/800 [==============================] - ETA: 0s - loss: 0.0188 - iou: 0.1208 - mae: 0.1499 - root_mean_squared_error: 0.19221\n",
      "800/800 [==============================] - 64s 79ms/step - loss: 0.0188 - iou: 0.1208 - mae: 0.1499 - root_mean_squared_error: 0.1922 - val_loss: 0.0190 - val_iou: 0.1269 - val_mae: 0.1519 - val_root_mean_squared_error: 0.1920\n",
      "Epoch 3/100\n",
      "800/800 [==============================] - ETA: 0s - loss: 0.0180 - iou: 0.1193 - mae: 0.1465 - root_mean_squared_error: 0.18852\n",
      "800/800 [==============================] - 61s 77ms/step - loss: 0.0180 - iou: 0.1193 - mae: 0.1465 - root_mean_squared_error: 0.1885 - val_loss: 0.0186 - val_iou: 0.1192 - val_mae: 0.1508 - val_root_mean_squared_error: 0.1900\n",
      "Epoch 4/100\n",
      "800/800 [==============================] - ETA: 0s - loss: 0.0173 - iou: 0.1221 - mae: 0.1434 - root_mean_squared_error: 0.18473\n",
      "800/800 [==============================] - 63s 78ms/step - loss: 0.0173 - iou: 0.1221 - mae: 0.1434 - root_mean_squared_error: 0.1847 - val_loss: 0.0184 - val_iou: 0.1073 - val_mae: 0.1490 - val_root_mean_squared_error: 0.1893\n",
      "Epoch 5/100\n",
      "800/800 [==============================] - ETA: 0s - loss: 0.0165 - iou: 0.1170 - mae: 0.1396 - root_mean_squared_error: 0.18044\n",
      "800/800 [==============================] - 62s 77ms/step - loss: 0.0165 - iou: 0.1170 - mae: 0.1396 - root_mean_squared_error: 0.1804 - val_loss: 0.0182 - val_iou: 0.1066 - val_mae: 0.1468 - val_root_mean_squared_error: 0.1892\n",
      "Epoch 6/100\n",
      "800/800 [==============================] - ETA: 0s - loss: 0.0155 - iou: 0.1217 - mae: 0.1352 - root_mean_squared_error: 0.17535\n",
      "800/800 [==============================] - 63s 79ms/step - loss: 0.0155 - iou: 0.1217 - mae: 0.1352 - root_mean_squared_error: 0.1753 - val_loss: 0.0179 - val_iou: 0.1037 - val_mae: 0.1447 - val_root_mean_squared_error: 0.1870\n",
      "Epoch 7/100\n",
      "800/800 [==============================] - ETA: 0s - loss: 0.0144 - iou: 0.1228 - mae: 0.1297 - root_mean_squared_error: 0.16906\n",
      "800/800 [==============================] - 62s 77ms/step - loss: 0.0144 - iou: 0.1228 - mae: 0.1297 - root_mean_squared_error: 0.1690 - val_loss: 0.0177 - val_iou: 0.1021 - val_mae: 0.1450 - val_root_mean_squared_error: 0.1853\n",
      "Epoch 8/100\n",
      "800/800 [==============================] - ETA: 0s - loss: 0.0131 - iou: 0.1258 - mae: 0.1231 - root_mean_squared_error: 0.16117\n",
      "800/800 [==============================] - 64s 79ms/step - loss: 0.0131 - iou: 0.1258 - mae: 0.1231 - root_mean_squared_error: 0.1611 - val_loss: 0.0176 - val_iou: 0.1027 - val_mae: 0.1445 - val_root_mean_squared_error: 0.1853\n",
      "Epoch 9/100\n",
      "800/800 [==============================] - ETA: 0s - loss: 0.0116 - iou: 0.1351 - mae: 0.1152 - root_mean_squared_error: 0.15138\n",
      "800/800 [==============================] - 61s 77ms/step - loss: 0.0116 - iou: 0.1351 - mae: 0.1152 - root_mean_squared_error: 0.1513 - val_loss: 0.0181 - val_iou: 0.0884 - val_mae: 0.1432 - val_root_mean_squared_error: 0.1890\n",
      "Epoch 10/100\n",
      "800/800 [==============================] - ETA: 0s - loss: 0.0098 - iou: 0.1421 - mae: 0.1054 - root_mean_squared_error: 0.13929\n",
      "800/800 [==============================] - 63s 79ms/step - loss: 0.0098 - iou: 0.1421 - mae: 0.1054 - root_mean_squared_error: 0.1392 - val_loss: 0.0182 - val_iou: 0.1163 - val_mae: 0.1453 - val_root_mean_squared_error: 0.1884\n",
      "Epoch 11/100\n",
      "800/800 [==============================] - ETA: 0s - loss: 0.0080 - iou: 0.1588 - mae: 0.0944 - root_mean_squared_error: 0.125210\n",
      "800/800 [==============================] - 61s 77ms/step - loss: 0.0080 - iou: 0.1588 - mae: 0.0944 - root_mean_squared_error: 0.1252 - val_loss: 0.0186 - val_iou: 0.1088 - val_mae: 0.1440 - val_root_mean_squared_error: 0.1898\n",
      "Epoch 12/100\n",
      "800/800 [==============================] - ETA: 0s - loss: 0.0062 - iou: 0.1840 - mae: 0.0827 - root_mean_squared_error: 0.110311\n",
      "800/800 [==============================] - 63s 78ms/step - loss: 0.0062 - iou: 0.1840 - mae: 0.0827 - root_mean_squared_error: 0.1103 - val_loss: 0.0187 - val_iou: 0.1091 - val_mae: 0.1449 - val_root_mean_squared_error: 0.1907\n",
      "Epoch 13/100\n",
      "800/800 [==============================] - ETA: 0s - loss: 0.0048 - iou: 0.2065 - mae: 0.0721 - root_mean_squared_error: 0.096712\n",
      "800/800 [==============================] - 61s 77ms/step - loss: 0.0048 - iou: 0.2065 - mae: 0.0721 - root_mean_squared_error: 0.0967 - val_loss: 0.0190 - val_iou: 0.1121 - val_mae: 0.1462 - val_root_mean_squared_error: 0.1919\n",
      "Epoch 14/100\n",
      "800/800 [==============================] - ETA: 0s - loss: 0.0037 - iou: 0.2426 - mae: 0.0626 - root_mean_squared_error: 0.084313\n",
      "800/800 [==============================] - 63s 79ms/step - loss: 0.0037 - iou: 0.2426 - mae: 0.0626 - root_mean_squared_error: 0.0843 - val_loss: 0.0193 - val_iou: 0.1178 - val_mae: 0.1473 - val_root_mean_squared_error: 0.1936\n",
      "Epoch 15/100\n",
      "800/800 [==============================] - ETA: 0s - loss: 0.0029 - iou: 0.2712 - mae: 0.0551 - root_mean_squared_error: 0.074614\n",
      "800/800 [==============================] - 62s 77ms/step - loss: 0.0029 - iou: 0.2712 - mae: 0.0551 - root_mean_squared_error: 0.0746 - val_loss: 0.0195 - val_iou: 0.1206 - val_mae: 0.1477 - val_root_mean_squared_error: 0.1946\n",
      "Epoch 16/100\n",
      "800/800 [==============================] - ETA: 0s - loss: 0.0022 - iou: 0.3083 - mae: 0.0483 - root_mean_squared_error: 0.065715\n",
      "800/800 [==============================] - 63s 79ms/step - loss: 0.0022 - iou: 0.3083 - mae: 0.0483 - root_mean_squared_error: 0.0657 - val_loss: 0.0199 - val_iou: 0.1111 - val_mae: 0.1486 - val_root_mean_squared_error: 0.1966\n",
      "Epoch 17/100\n",
      "800/800 [==============================] - ETA: 0s - loss: 0.0018 - iou: 0.3354 - mae: 0.0430 - root_mean_squared_error: 0.058716\n",
      "800/800 [==============================] - 61s 77ms/step - loss: 0.0018 - iou: 0.3354 - mae: 0.0430 - root_mean_squared_error: 0.0587 - val_loss: 0.0201 - val_iou: 0.1269 - val_mae: 0.1505 - val_root_mean_squared_error: 0.1977\n",
      "Epoch 18/100\n",
      "800/800 [==============================] - ETA: 0s - loss: 0.0015 - iou: 0.3631 - mae: 0.0386 - root_mean_squared_error: 0.0534"
     ]
    },
    {
     "name": "stderr",
     "output_type": "stream",
     "text": [
      "WARNING:absl:Found untraced functions such as _jit_compiled_convolution_op, _jit_compiled_convolution_op, _jit_compiled_convolution_op, _jit_compiled_convolution_op, _jit_compiled_convolution_op while saving (showing 5 of 15). These functions will not be directly callable after loading.\n"
     ]
    },
    {
     "name": "stdout",
     "output_type": "stream",
     "text": [
      "INFO:tensorflow:Assets written to: /home/ngoc/githubs/WSDM2023/wandb/run-20221118_164937-1ca63g2n/files/model-best/assets\n"
     ]
    },
    {
     "name": "stderr",
     "output_type": "stream",
     "text": [
      "INFO:tensorflow:Assets written to: /home/ngoc/githubs/WSDM2023/wandb/run-20221118_164937-1ca63g2n/files/model-best/assets\n",
      "\u001b[34m\u001b[1mwandb\u001b[0m: Adding directory to artifact (/home/ngoc/githubs/WSDM2023/wandb/run-20221118_164937-1ca63g2n/files/model-best)... Done. 1.6s\n"
     ]
    },
    {
     "name": "stdout",
     "output_type": "stream",
     "text": [
      "17\n",
      "800/800 [==============================] - 70s 88ms/step - loss: 0.0015 - iou: 0.3631 - mae: 0.0386 - root_mean_squared_error: 0.0534 - val_loss: 0.0199 - val_iou: 0.1342 - val_mae: 0.1486 - val_root_mean_squared_error: 0.1963\n",
      "Epoch 19/100\n",
      "800/800 [==============================] - ETA: 0s - loss: 0.0012 - iou: 0.3875 - mae: 0.0352 - root_mean_squared_error: 0.048718\n",
      "800/800 [==============================] - 61s 77ms/step - loss: 0.0012 - iou: 0.3875 - mae: 0.0352 - root_mean_squared_error: 0.0487 - val_loss: 0.0196 - val_iou: 0.1139 - val_mae: 0.1488 - val_root_mean_squared_error: 0.1953\n",
      "Epoch 20/100\n",
      "800/800 [==============================] - ETA: 0s - loss: 9.9889e-04 - iou: 0.4185 - mae: 0.0314 - root_mean_squared_error: 0.043919\n",
      "800/800 [==============================] - 63s 78ms/step - loss: 9.9889e-04 - iou: 0.4185 - mae: 0.0314 - root_mean_squared_error: 0.0439 - val_loss: 0.0200 - val_iou: 0.1187 - val_mae: 0.1496 - val_root_mean_squared_error: 0.1970\n",
      "Epoch 21/100\n",
      "800/800 [==============================] - ETA: 0s - loss: 8.2215e-04 - iou: 0.4413 - mae: 0.0283 - root_mean_squared_error: 0.039920\n",
      "800/800 [==============================] - 62s 77ms/step - loss: 8.2215e-04 - iou: 0.4413 - mae: 0.0283 - root_mean_squared_error: 0.0399 - val_loss: 0.0202 - val_iou: 0.1281 - val_mae: 0.1514 - val_root_mean_squared_error: 0.1974\n",
      "Epoch 22/100\n",
      "800/800 [==============================] - ETA: 0s - loss: 7.3813e-04 - iou: 0.4515 - mae: 0.0267 - root_mean_squared_error: 0.038021\n",
      "800/800 [==============================] - 63s 79ms/step - loss: 7.3813e-04 - iou: 0.4515 - mae: 0.0267 - root_mean_squared_error: 0.0380 - val_loss: 0.0219 - val_iou: 0.1186 - val_mae: 0.1551 - val_root_mean_squared_error: 0.2065\n",
      "Epoch 23/100\n",
      "800/800 [==============================] - ETA: 0s - loss: 6.8542e-04 - iou: 0.4620 - mae: 0.0255 - root_mean_squared_error: 0.036622\n",
      "800/800 [==============================] - 62s 77ms/step - loss: 6.8542e-04 - iou: 0.4620 - mae: 0.0255 - root_mean_squared_error: 0.0366 - val_loss: 0.0200 - val_iou: 0.1254 - val_mae: 0.1502 - val_root_mean_squared_error: 0.1968\n",
      "Epoch 24/100\n",
      "800/800 [==============================] - ETA: 0s - loss: 6.3782e-04 - iou: 0.4710 - mae: 0.0247 - root_mean_squared_error: 0.035423\n",
      "800/800 [==============================] - 63s 79ms/step - loss: 6.3782e-04 - iou: 0.4710 - mae: 0.0247 - root_mean_squared_error: 0.0354 - val_loss: 0.0201 - val_iou: 0.1233 - val_mae: 0.1502 - val_root_mean_squared_error: 0.1976\n",
      "Epoch 25/100\n",
      "800/800 [==============================] - ETA: 0s - loss: 5.1758e-04 - iou: 0.4982 - mae: 0.0223 - root_mean_squared_error: 0.031824\n",
      "800/800 [==============================] - 61s 77ms/step - loss: 5.1758e-04 - iou: 0.4982 - mae: 0.0223 - root_mean_squared_error: 0.0318 - val_loss: 0.0201 - val_iou: 0.1202 - val_mae: 0.1493 - val_root_mean_squared_error: 0.1975\n",
      "Epoch 26/100\n",
      "800/800 [==============================] - ETA: 0s - loss: 4.7597e-04 - iou: 0.5083 - mae: 0.0212 - root_mean_squared_error: 0.030525\n",
      "800/800 [==============================] - 63s 78ms/step - loss: 4.7597e-04 - iou: 0.5083 - mae: 0.0212 - root_mean_squared_error: 0.0305 - val_loss: 0.0203 - val_iou: 0.1187 - val_mae: 0.1504 - val_root_mean_squared_error: 0.1983\n",
      "Epoch 27/100\n",
      "800/800 [==============================] - ETA: 0s - loss: 4.9158e-04 - iou: 0.5019 - mae: 0.0214 - root_mean_squared_error: 0.0310"
     ]
    },
    {
     "name": "stderr",
     "output_type": "stream",
     "text": [
      "WARNING:absl:Found untraced functions such as _jit_compiled_convolution_op, _jit_compiled_convolution_op, _jit_compiled_convolution_op, _jit_compiled_convolution_op, _jit_compiled_convolution_op while saving (showing 5 of 15). These functions will not be directly callable after loading.\n"
     ]
    },
    {
     "name": "stdout",
     "output_type": "stream",
     "text": [
      "INFO:tensorflow:Assets written to: /home/ngoc/githubs/WSDM2023/wandb/run-20221118_164937-1ca63g2n/files/model-best/assets\n"
     ]
    },
    {
     "name": "stderr",
     "output_type": "stream",
     "text": [
      "INFO:tensorflow:Assets written to: /home/ngoc/githubs/WSDM2023/wandb/run-20221118_164937-1ca63g2n/files/model-best/assets\n",
      "\u001b[34m\u001b[1mwandb\u001b[0m: Adding directory to artifact (/home/ngoc/githubs/WSDM2023/wandb/run-20221118_164937-1ca63g2n/files/model-best)... Done. 1.6s\n"
     ]
    },
    {
     "name": "stdout",
     "output_type": "stream",
     "text": [
      "26\n",
      "800/800 [==============================] - 69s 86ms/step - loss: 4.9158e-04 - iou: 0.5019 - mae: 0.0214 - root_mean_squared_error: 0.0310 - val_loss: 0.0204 - val_iou: 0.1369 - val_mae: 0.1508 - val_root_mean_squared_error: 0.1992\n",
      "Epoch 28/100\n",
      "800/800 [==============================] - ETA: 0s - loss: 4.1913e-04 - iou: 0.5226 - mae: 0.0199 - root_mean_squared_error: 0.028727\n",
      "800/800 [==============================] - 63s 78ms/step - loss: 4.1913e-04 - iou: 0.5226 - mae: 0.0199 - root_mean_squared_error: 0.0287 - val_loss: 0.0200 - val_iou: 0.1200 - val_mae: 0.1496 - val_root_mean_squared_error: 0.1968\n",
      "Epoch 29/100\n",
      "800/800 [==============================] - ETA: 0s - loss: 3.3316e-04 - iou: 0.5510 - mae: 0.0177 - root_mean_squared_error: 0.025428\n",
      "800/800 [==============================] - 61s 77ms/step - loss: 3.3316e-04 - iou: 0.5510 - mae: 0.0177 - root_mean_squared_error: 0.0254 - val_loss: 0.0201 - val_iou: 0.1160 - val_mae: 0.1497 - val_root_mean_squared_error: 0.1975\n",
      "Epoch 30/100\n",
      "800/800 [==============================] - ETA: 0s - loss: 3.2610e-04 - iou: 0.5464 - mae: 0.0176 - root_mean_squared_error: 0.025429\n",
      "800/800 [==============================] - 63s 78ms/step - loss: 3.2610e-04 - iou: 0.5464 - mae: 0.0176 - root_mean_squared_error: 0.0254 - val_loss: 0.0200 - val_iou: 0.1214 - val_mae: 0.1499 - val_root_mean_squared_error: 0.1970\n",
      "Epoch 31/100\n",
      "800/800 [==============================] - ETA: 0s - loss: 3.5394e-04 - iou: 0.5483 - mae: 0.0181 - root_mean_squared_error: 0.026330\n",
      "800/800 [==============================] - 61s 77ms/step - loss: 3.5394e-04 - iou: 0.5483 - mae: 0.0181 - root_mean_squared_error: 0.0263 - val_loss: 0.0200 - val_iou: 0.1198 - val_mae: 0.1498 - val_root_mean_squared_error: 0.1974\n",
      "Epoch 32/100\n",
      "800/800 [==============================] - ETA: 0s - loss: 3.5149e-04 - iou: 0.5428 - mae: 0.0180 - root_mean_squared_error: 0.026331\n",
      "800/800 [==============================] - 63s 78ms/step - loss: 3.5149e-04 - iou: 0.5428 - mae: 0.0180 - root_mean_squared_error: 0.0263 - val_loss: 0.0201 - val_iou: 0.1219 - val_mae: 0.1504 - val_root_mean_squared_error: 0.1974\n",
      "Epoch 33/100\n",
      "800/800 [==============================] - ETA: 0s - loss: 2.9958e-04 - iou: 0.5622 - mae: 0.0167 - root_mean_squared_error: 0.024332\n",
      "800/800 [==============================] - 62s 77ms/step - loss: 2.9958e-04 - iou: 0.5622 - mae: 0.0167 - root_mean_squared_error: 0.0243 - val_loss: 0.0201 - val_iou: 0.1210 - val_mae: 0.1501 - val_root_mean_squared_error: 0.1975\n",
      "Epoch 34/100\n",
      "800/800 [==============================] - ETA: 0s - loss: 2.7852e-04 - iou: 0.5716 - mae: 0.0160 - root_mean_squared_error: 0.023433\n",
      "800/800 [==============================] - 63s 79ms/step - loss: 2.7852e-04 - iou: 0.5716 - mae: 0.0160 - root_mean_squared_error: 0.0234 - val_loss: 0.0200 - val_iou: 0.1135 - val_mae: 0.1502 - val_root_mean_squared_error: 0.1972\n",
      "Epoch 35/100\n",
      "800/800 [==============================] - ETA: 0s - loss: 3.1414e-04 - iou: 0.5668 - mae: 0.0170 - root_mean_squared_error: 0.024834\n",
      "800/800 [==============================] - 61s 77ms/step - loss: 3.1414e-04 - iou: 0.5668 - mae: 0.0170 - root_mean_squared_error: 0.0248 - val_loss: 0.0204 - val_iou: 0.1233 - val_mae: 0.1513 - val_root_mean_squared_error: 0.1989\n",
      "Epoch 36/100\n",
      "800/800 [==============================] - ETA: 0s - loss: 3.0036e-04 - iou: 0.5644 - mae: 0.0166 - root_mean_squared_error: 0.024335\n",
      "800/800 [==============================] - 63s 78ms/step - loss: 3.0036e-04 - iou: 0.5644 - mae: 0.0166 - root_mean_squared_error: 0.0243 - val_loss: 0.0200 - val_iou: 0.1202 - val_mae: 0.1499 - val_root_mean_squared_error: 0.1971\n",
      "Epoch 37/100\n",
      "800/800 [==============================] - ETA: 0s - loss: 2.8616e-04 - iou: 0.5703 - mae: 0.0160 - root_mean_squared_error: 0.023936\n",
      "800/800 [==============================] - 61s 77ms/step - loss: 2.8616e-04 - iou: 0.5703 - mae: 0.0160 - root_mean_squared_error: 0.0239 - val_loss: 0.0200 - val_iou: 0.1204 - val_mae: 0.1491 - val_root_mean_squared_error: 0.1971\n",
      "Epoch 38/100\n",
      "800/800 [==============================] - ETA: 0s - loss: 2.5051e-04 - iou: 0.5880 - mae: 0.0150 - root_mean_squared_error: 0.022337\n",
      "800/800 [==============================] - 63s 79ms/step - loss: 2.5051e-04 - iou: 0.5880 - mae: 0.0150 - root_mean_squared_error: 0.0223 - val_loss: 0.0203 - val_iou: 0.1241 - val_mae: 0.1518 - val_root_mean_squared_error: 0.1985\n",
      "Epoch 39/100\n",
      "800/800 [==============================] - ETA: 0s - loss: 2.5012e-04 - iou: 0.5796 - mae: 0.0150 - root_mean_squared_error: 0.022438\n",
      "800/800 [==============================] - 62s 77ms/step - loss: 2.5012e-04 - iou: 0.5796 - mae: 0.0150 - root_mean_squared_error: 0.0224 - val_loss: 0.0201 - val_iou: 0.1241 - val_mae: 0.1500 - val_root_mean_squared_error: 0.1977\n",
      "Epoch 40/100\n",
      "800/800 [==============================] - ETA: 0s - loss: 2.2236e-04 - iou: 0.5893 - mae: 0.0144 - root_mean_squared_error: 0.021039\n",
      "800/800 [==============================] - 63s 79ms/step - loss: 2.2236e-04 - iou: 0.5893 - mae: 0.0144 - root_mean_squared_error: 0.0210 - val_loss: 0.0200 - val_iou: 0.1227 - val_mae: 0.1496 - val_root_mean_squared_error: 0.1972\n",
      "Epoch 41/100\n",
      "800/800 [==============================] - ETA: 0s - loss: 2.3551e-04 - iou: 0.5845 - mae: 0.0147 - root_mean_squared_error: 0.021840\n",
      "800/800 [==============================] - 62s 77ms/step - loss: 2.3551e-04 - iou: 0.5845 - mae: 0.0147 - root_mean_squared_error: 0.0218 - val_loss: 0.0202 - val_iou: 0.1325 - val_mae: 0.1497 - val_root_mean_squared_error: 0.1978\n",
      "Epoch 42/100\n",
      "800/800 [==============================] - ETA: 0s - loss: 2.4443e-04 - iou: 0.5812 - mae: 0.0149 - root_mean_squared_error: 0.022141\n",
      "800/800 [==============================] - 63s 79ms/step - loss: 2.4443e-04 - iou: 0.5812 - mae: 0.0149 - root_mean_squared_error: 0.0221 - val_loss: 0.0200 - val_iou: 0.1224 - val_mae: 0.1505 - val_root_mean_squared_error: 0.1975\n",
      "Epoch 43/100\n",
      "800/800 [==============================] - ETA: 0s - loss: 2.1069e-04 - iou: 0.6016 - mae: 0.0140 - root_mean_squared_error: 0.020542\n",
      "800/800 [==============================] - 61s 77ms/step - loss: 2.1069e-04 - iou: 0.6016 - mae: 0.0140 - root_mean_squared_error: 0.0205 - val_loss: 0.0201 - val_iou: 0.1220 - val_mae: 0.1497 - val_root_mean_squared_error: 0.1978\n",
      "Epoch 44/100\n",
      "800/800 [==============================] - ETA: 0s - loss: 2.0252e-04 - iou: 0.6076 - mae: 0.0135 - root_mean_squared_error: 0.020143\n",
      "800/800 [==============================] - 63s 78ms/step - loss: 2.0252e-04 - iou: 0.6076 - mae: 0.0135 - root_mean_squared_error: 0.0201 - val_loss: 0.0201 - val_iou: 0.1309 - val_mae: 0.1499 - val_root_mean_squared_error: 0.1974\n",
      "Epoch 45/100\n",
      "800/800 [==============================] - ETA: 0s - loss: 1.9700e-04 - iou: 0.6056 - mae: 0.0135 - root_mean_squared_error: 0.019844\n",
      "800/800 [==============================] - 61s 77ms/step - loss: 1.9700e-04 - iou: 0.6056 - mae: 0.0135 - root_mean_squared_error: 0.0198 - val_loss: 0.0200 - val_iou: 0.1184 - val_mae: 0.1497 - val_root_mean_squared_error: 0.1971\n",
      "Epoch 46/100\n",
      "800/800 [==============================] - ETA: 0s - loss: 2.0587e-04 - iou: 0.6034 - mae: 0.0138 - root_mean_squared_error: 0.020145\n",
      "800/800 [==============================] - 63s 78ms/step - loss: 2.0587e-04 - iou: 0.6034 - mae: 0.0138 - root_mean_squared_error: 0.0201 - val_loss: 0.0200 - val_iou: 0.1188 - val_mae: 0.1504 - val_root_mean_squared_error: 0.1974\n",
      "Epoch 47/100\n",
      "800/800 [==============================] - ETA: 0s - loss: 2.2104e-04 - iou: 0.5886 - mae: 0.0145 - root_mean_squared_error: 0.020946\n",
      "800/800 [==============================] - 61s 76ms/step - loss: 2.2104e-04 - iou: 0.5886 - mae: 0.0145 - root_mean_squared_error: 0.0209 - val_loss: 0.0200 - val_iou: 0.1234 - val_mae: 0.1494 - val_root_mean_squared_error: 0.1973\n",
      "Epoch 48/100\n",
      "800/800 [==============================] - ETA: 0s - loss: 2.0424e-04 - iou: 0.5998 - mae: 0.0140 - root_mean_squared_error: 0.020147\n",
      "800/800 [==============================] - 63s 79ms/step - loss: 2.0424e-04 - iou: 0.5998 - mae: 0.0140 - root_mean_squared_error: 0.0201 - val_loss: 0.0199 - val_iou: 0.1127 - val_mae: 0.1498 - val_root_mean_squared_error: 0.1969\n",
      "Epoch 49/100\n",
      "800/800 [==============================] - ETA: 0s - loss: 1.9308e-04 - iou: 0.6051 - mae: 0.0134 - root_mean_squared_error: 0.019748\n",
      "800/800 [==============================] - 61s 76ms/step - loss: 1.9308e-04 - iou: 0.6051 - mae: 0.0134 - root_mean_squared_error: 0.0197 - val_loss: 0.0200 - val_iou: 0.1209 - val_mae: 0.1495 - val_root_mean_squared_error: 0.1972\n",
      "Epoch 50/100\n",
      "800/800 [==============================] - ETA: 0s - loss: 1.8025e-04 - iou: 0.6099 - mae: 0.0130 - root_mean_squared_error: 0.019049\n",
      "800/800 [==============================] - 63s 79ms/step - loss: 1.8025e-04 - iou: 0.6099 - mae: 0.0130 - root_mean_squared_error: 0.0190 - val_loss: 0.0201 - val_iou: 0.1294 - val_mae: 0.1494 - val_root_mean_squared_error: 0.1977\n",
      "Epoch 51/100\n",
      "800/800 [==============================] - ETA: 0s - loss: 1.9081e-04 - iou: 0.5972 - mae: 0.0134 - root_mean_squared_error: 0.019650\n",
      "800/800 [==============================] - 62s 77ms/step - loss: 1.9081e-04 - iou: 0.5972 - mae: 0.0134 - root_mean_squared_error: 0.0196 - val_loss: 0.0200 - val_iou: 0.1189 - val_mae: 0.1496 - val_root_mean_squared_error: 0.1972\n",
      "Epoch 52/100\n",
      "800/800 [==============================] - ETA: 0s - loss: 1.8646e-04 - iou: 0.6088 - mae: 0.0132 - root_mean_squared_error: 0.019451\n",
      "800/800 [==============================] - 63s 78ms/step - loss: 1.8646e-04 - iou: 0.6088 - mae: 0.0132 - root_mean_squared_error: 0.0194 - val_loss: 0.0201 - val_iou: 0.1215 - val_mae: 0.1499 - val_root_mean_squared_error: 0.1977\n",
      "Epoch 53/100\n",
      "800/800 [==============================] - ETA: 0s - loss: 1.8365e-04 - iou: 0.6144 - mae: 0.0131 - root_mean_squared_error: 0.019152\n",
      "800/800 [==============================] - 61s 76ms/step - loss: 1.8365e-04 - iou: 0.6144 - mae: 0.0131 - root_mean_squared_error: 0.0191 - val_loss: 0.0201 - val_iou: 0.1240 - val_mae: 0.1494 - val_root_mean_squared_error: 0.1978\n",
      "Epoch 54/100\n",
      "800/800 [==============================] - ETA: 0s - loss: 1.7819e-04 - iou: 0.6116 - mae: 0.0130 - root_mean_squared_error: 0.018853\n",
      "800/800 [==============================] - 63s 79ms/step - loss: 1.7819e-04 - iou: 0.6116 - mae: 0.0130 - root_mean_squared_error: 0.0188 - val_loss: 0.0200 - val_iou: 0.1251 - val_mae: 0.1500 - val_root_mean_squared_error: 0.1968\n",
      "Epoch 55/100\n",
      "800/800 [==============================] - ETA: 0s - loss: 1.6232e-04 - iou: 0.6224 - mae: 0.0123 - root_mean_squared_error: 0.018054\n",
      "800/800 [==============================] - 61s 76ms/step - loss: 1.6232e-04 - iou: 0.6224 - mae: 0.0123 - root_mean_squared_error: 0.0180 - val_loss: 0.0200 - val_iou: 0.1227 - val_mae: 0.1497 - val_root_mean_squared_error: 0.1974\n",
      "Epoch 56/100\n",
      "800/800 [==============================] - ETA: 0s - loss: 1.5752e-04 - iou: 0.6173 - mae: 0.0122 - root_mean_squared_error: 0.017955\n",
      "800/800 [==============================] - 63s 78ms/step - loss: 1.5752e-04 - iou: 0.6173 - mae: 0.0122 - root_mean_squared_error: 0.0179 - val_loss: 0.0200 - val_iou: 0.1241 - val_mae: 0.1498 - val_root_mean_squared_error: 0.1970\n",
      "Epoch 57/100\n",
      "800/800 [==============================] - ETA: 0s - loss: 1.5735e-04 - iou: 0.6124 - mae: 0.0122 - root_mean_squared_error: 0.017956\n",
      "800/800 [==============================] - 61s 77ms/step - loss: 1.5735e-04 - iou: 0.6124 - mae: 0.0122 - root_mean_squared_error: 0.0179 - val_loss: 0.0202 - val_iou: 0.1221 - val_mae: 0.1505 - val_root_mean_squared_error: 0.1979\n",
      "Epoch 58/100\n",
      "800/800 [==============================] - ETA: 0s - loss: 1.6051e-04 - iou: 0.6200 - mae: 0.0122 - root_mean_squared_error: 0.018057\n",
      "800/800 [==============================] - 63s 79ms/step - loss: 1.6051e-04 - iou: 0.6200 - mae: 0.0122 - root_mean_squared_error: 0.0180 - val_loss: 0.0200 - val_iou: 0.1185 - val_mae: 0.1495 - val_root_mean_squared_error: 0.1973\n",
      "Epoch 59/100\n",
      "800/800 [==============================] - ETA: 0s - loss: 1.7326e-04 - iou: 0.6136 - mae: 0.0126 - root_mean_squared_error: 0.018858\n",
      "800/800 [==============================] - 61s 77ms/step - loss: 1.7326e-04 - iou: 0.6136 - mae: 0.0126 - root_mean_squared_error: 0.0188 - val_loss: 0.0202 - val_iou: 0.1272 - val_mae: 0.1502 - val_root_mean_squared_error: 0.1980\n",
      "Epoch 60/100\n",
      "800/800 [==============================] - ETA: 0s - loss: 1.5840e-04 - iou: 0.6242 - mae: 0.0121 - root_mean_squared_error: 0.017959\n",
      "800/800 [==============================] - 63s 78ms/step - loss: 1.5840e-04 - iou: 0.6242 - mae: 0.0121 - root_mean_squared_error: 0.0179 - val_loss: 0.0199 - val_iou: 0.1189 - val_mae: 0.1493 - val_root_mean_squared_error: 0.1969\n",
      "Epoch 61/100\n",
      "800/800 [==============================] - ETA: 0s - loss: 1.5661e-04 - iou: 0.6208 - mae: 0.0121 - root_mean_squared_error: 0.017760\n",
      "800/800 [==============================] - 61s 77ms/step - loss: 1.5661e-04 - iou: 0.6208 - mae: 0.0121 - root_mean_squared_error: 0.0177 - val_loss: 0.0199 - val_iou: 0.1281 - val_mae: 0.1490 - val_root_mean_squared_error: 0.1967\n",
      "Epoch 62/100\n",
      "800/800 [==============================] - ETA: 0s - loss: 1.5578e-04 - iou: 0.6253 - mae: 0.0121 - root_mean_squared_error: 0.017761\n",
      "800/800 [==============================] - 63s 78ms/step - loss: 1.5578e-04 - iou: 0.6253 - mae: 0.0121 - root_mean_squared_error: 0.0177 - val_loss: 0.0201 - val_iou: 0.1262 - val_mae: 0.1496 - val_root_mean_squared_error: 0.1973\n",
      "Epoch 63/100\n",
      "800/800 [==============================] - ETA: 0s - loss: 1.4222e-04 - iou: 0.6333 - mae: 0.0116 - root_mean_squared_error: 0.016962\n",
      "800/800 [==============================] - 62s 77ms/step - loss: 1.4222e-04 - iou: 0.6333 - mae: 0.0116 - root_mean_squared_error: 0.0169 - val_loss: 0.0200 - val_iou: 0.1203 - val_mae: 0.1499 - val_root_mean_squared_error: 0.1972\n",
      "Epoch 64/100\n",
      "800/800 [==============================] - ETA: 0s - loss: 1.4403e-04 - iou: 0.6372 - mae: 0.0116 - root_mean_squared_error: 0.016963\n",
      "800/800 [==============================] - 63s 78ms/step - loss: 1.4403e-04 - iou: 0.6372 - mae: 0.0116 - root_mean_squared_error: 0.0169 - val_loss: 0.0200 - val_iou: 0.1225 - val_mae: 0.1498 - val_root_mean_squared_error: 0.1973\n",
      "Epoch 65/100\n",
      "800/800 [==============================] - ETA: 0s - loss: 1.3882e-04 - iou: 0.6403 - mae: 0.0114 - root_mean_squared_error: 0.016764\n",
      "800/800 [==============================] - 61s 76ms/step - loss: 1.3882e-04 - iou: 0.6403 - mae: 0.0114 - root_mean_squared_error: 0.0167 - val_loss: 0.0202 - val_iou: 0.1220 - val_mae: 0.1496 - val_root_mean_squared_error: 0.1978\n",
      "Epoch 66/100\n",
      "800/800 [==============================] - ETA: 0s - loss: 1.4112e-04 - iou: 0.6364 - mae: 0.0116 - root_mean_squared_error: 0.016865\n",
      "800/800 [==============================] - 63s 78ms/step - loss: 1.4112e-04 - iou: 0.6364 - mae: 0.0116 - root_mean_squared_error: 0.0168 - val_loss: 0.0201 - val_iou: 0.1261 - val_mae: 0.1498 - val_root_mean_squared_error: 0.1974\n",
      "Epoch 67/100\n",
      "800/800 [==============================] - ETA: 0s - loss: 1.3460e-04 - iou: 0.6375 - mae: 0.0113 - root_mean_squared_error: 0.016566\n",
      "800/800 [==============================] - 61s 76ms/step - loss: 1.3460e-04 - iou: 0.6375 - mae: 0.0113 - root_mean_squared_error: 0.0165 - val_loss: 0.0199 - val_iou: 0.1228 - val_mae: 0.1493 - val_root_mean_squared_error: 0.1966\n",
      "Epoch 68/100\n",
      "800/800 [==============================] - ETA: 0s - loss: 1.3402e-04 - iou: 0.6422 - mae: 0.0114 - root_mean_squared_error: 0.016467\n",
      "800/800 [==============================] - 63s 78ms/step - loss: 1.3402e-04 - iou: 0.6422 - mae: 0.0114 - root_mean_squared_error: 0.0164 - val_loss: 0.0202 - val_iou: 0.1266 - val_mae: 0.1506 - val_root_mean_squared_error: 0.1985\n",
      "Epoch 69/100\n",
      "800/800 [==============================] - ETA: 0s - loss: 1.3376e-04 - iou: 0.6466 - mae: 0.0113 - root_mean_squared_error: 0.016368\n",
      "800/800 [==============================] - 61s 76ms/step - loss: 1.3376e-04 - iou: 0.6466 - mae: 0.0113 - root_mean_squared_error: 0.0163 - val_loss: 0.0199 - val_iou: 0.1263 - val_mae: 0.1499 - val_root_mean_squared_error: 0.1967\n",
      "Epoch 70/100\n",
      "800/800 [==============================] - ETA: 0s - loss: 1.3992e-04 - iou: 0.6490 - mae: 0.0114 - root_mean_squared_error: 0.016669\n",
      "800/800 [==============================] - 63s 79ms/step - loss: 1.3992e-04 - iou: 0.6490 - mae: 0.0114 - root_mean_squared_error: 0.0166 - val_loss: 0.0200 - val_iou: 0.1192 - val_mae: 0.1496 - val_root_mean_squared_error: 0.1972\n"
     ]
    },
    {
     "name": "stdout",
     "output_type": "stream",
     "text": [
      "Epoch 71/100\n",
      "800/800 [==============================] - ETA: 0s - loss: 1.3568e-04 - iou: 0.6498 - mae: 0.0113 - root_mean_squared_error: 0.016570\n",
      "800/800 [==============================] - 61s 77ms/step - loss: 1.3568e-04 - iou: 0.6498 - mae: 0.0113 - root_mean_squared_error: 0.0165 - val_loss: 0.0201 - val_iou: 0.1264 - val_mae: 0.1504 - val_root_mean_squared_error: 0.1977\n",
      "Epoch 72/100\n",
      "800/800 [==============================] - ETA: 0s - loss: 1.2849e-04 - iou: 0.6477 - mae: 0.0110 - root_mean_squared_error: 0.016171\n",
      "800/800 [==============================] - 63s 78ms/step - loss: 1.2849e-04 - iou: 0.6477 - mae: 0.0110 - root_mean_squared_error: 0.0161 - val_loss: 0.0201 - val_iou: 0.1210 - val_mae: 0.1494 - val_root_mean_squared_error: 0.1977\n",
      "Epoch 73/100\n",
      "800/800 [==============================] - ETA: 0s - loss: 1.2232e-04 - iou: 0.6538 - mae: 0.0107 - root_mean_squared_error: 0.015772\n",
      "800/800 [==============================] - 61s 77ms/step - loss: 1.2232e-04 - iou: 0.6538 - mae: 0.0107 - root_mean_squared_error: 0.0157 - val_loss: 0.0200 - val_iou: 0.1214 - val_mae: 0.1495 - val_root_mean_squared_error: 0.1972\n",
      "Epoch 74/100\n",
      "800/800 [==============================] - ETA: 0s - loss: 1.3441e-04 - iou: 0.6348 - mae: 0.0113 - root_mean_squared_error: 0.016573\n",
      "800/800 [==============================] - 63s 78ms/step - loss: 1.3441e-04 - iou: 0.6348 - mae: 0.0113 - root_mean_squared_error: 0.0165 - val_loss: 0.0199 - val_iou: 0.1204 - val_mae: 0.1492 - val_root_mean_squared_error: 0.1968\n",
      "Epoch 75/100\n",
      "800/800 [==============================] - ETA: 0s - loss: 1.4179e-04 - iou: 0.6224 - mae: 0.0118 - root_mean_squared_error: 0.016974\n",
      "800/800 [==============================] - 61s 77ms/step - loss: 1.4179e-04 - iou: 0.6224 - mae: 0.0118 - root_mean_squared_error: 0.0169 - val_loss: 0.0199 - val_iou: 0.1229 - val_mae: 0.1502 - val_root_mean_squared_error: 0.1968\n",
      "Epoch 76/100\n",
      "800/800 [==============================] - ETA: 0s - loss: 1.3598e-04 - iou: 0.6361 - mae: 0.0114 - root_mean_squared_error: 0.016575\n",
      "800/800 [==============================] - 63s 78ms/step - loss: 1.3598e-04 - iou: 0.6361 - mae: 0.0114 - root_mean_squared_error: 0.0165 - val_loss: 0.0200 - val_iou: 0.1192 - val_mae: 0.1494 - val_root_mean_squared_error: 0.1973\n",
      "Epoch 77/100\n",
      "800/800 [==============================] - ETA: 0s - loss: 1.2292e-04 - iou: 0.6526 - mae: 0.0108 - root_mean_squared_error: 0.015776\n",
      "800/800 [==============================] - 61s 76ms/step - loss: 1.2292e-04 - iou: 0.6526 - mae: 0.0108 - root_mean_squared_error: 0.0157 - val_loss: 0.0200 - val_iou: 0.1219 - val_mae: 0.1495 - val_root_mean_squared_error: 0.1970\n",
      "Epoch 78/100\n",
      "800/800 [==============================] - ETA: 0s - loss: 1.1240e-04 - iou: 0.6574 - mae: 0.0103 - root_mean_squared_error: 0.015177\n",
      "800/800 [==============================] - 63s 78ms/step - loss: 1.1240e-04 - iou: 0.6574 - mae: 0.0103 - root_mean_squared_error: 0.0151 - val_loss: 0.0200 - val_iou: 0.1327 - val_mae: 0.1494 - val_root_mean_squared_error: 0.1968\n",
      "Epoch 79/100\n",
      "800/800 [==============================] - ETA: 0s - loss: 1.0571e-04 - iou: 0.6723 - mae: 0.0100 - root_mean_squared_error: 0.014578\n",
      "800/800 [==============================] - 61s 77ms/step - loss: 1.0571e-04 - iou: 0.6723 - mae: 0.0100 - root_mean_squared_error: 0.0145 - val_loss: 0.0199 - val_iou: 0.1226 - val_mae: 0.1486 - val_root_mean_squared_error: 0.1965\n",
      "Epoch 80/100\n",
      "800/800 [==============================] - ETA: 0s - loss: 1.2128e-04 - iou: 0.6574 - mae: 0.0106 - root_mean_squared_error: 0.015679\n",
      "800/800 [==============================] - 63s 78ms/step - loss: 1.2128e-04 - iou: 0.6574 - mae: 0.0106 - root_mean_squared_error: 0.0156 - val_loss: 0.0199 - val_iou: 0.1231 - val_mae: 0.1497 - val_root_mean_squared_error: 0.1967\n",
      "Epoch 81/100\n",
      "800/800 [==============================] - ETA: 0s - loss: 1.3209e-04 - iou: 0.6441 - mae: 0.0110 - root_mean_squared_error: 0.016380\n",
      "800/800 [==============================] - 62s 77ms/step - loss: 1.3209e-04 - iou: 0.6441 - mae: 0.0110 - root_mean_squared_error: 0.0163 - val_loss: 0.0200 - val_iou: 0.1240 - val_mae: 0.1500 - val_root_mean_squared_error: 0.1971\n",
      "Epoch 82/100\n",
      "800/800 [==============================] - ETA: 0s - loss: 1.1919e-04 - iou: 0.6545 - mae: 0.0105 - root_mean_squared_error: 0.015581\n",
      "800/800 [==============================] - 63s 78ms/step - loss: 1.1919e-04 - iou: 0.6545 - mae: 0.0105 - root_mean_squared_error: 0.0155 - val_loss: 0.0200 - val_iou: 0.1208 - val_mae: 0.1496 - val_root_mean_squared_error: 0.1972\n",
      "Epoch 83/100\n",
      "800/800 [==============================] - ETA: 0s - loss: 1.0607e-04 - iou: 0.6661 - mae: 0.0101 - root_mean_squared_error: 0.014582\n",
      "800/800 [==============================] - 61s 77ms/step - loss: 1.0607e-04 - iou: 0.6661 - mae: 0.0101 - root_mean_squared_error: 0.0145 - val_loss: 0.0199 - val_iou: 0.1177 - val_mae: 0.1498 - val_root_mean_squared_error: 0.1971\n",
      "Epoch 84/100\n",
      "800/800 [==============================] - ETA: 0s - loss: 1.1003e-04 - iou: 0.6642 - mae: 0.0103 - root_mean_squared_error: 0.014883\n",
      "800/800 [==============================] - 63s 78ms/step - loss: 1.1003e-04 - iou: 0.6642 - mae: 0.0103 - root_mean_squared_error: 0.0148 - val_loss: 0.0199 - val_iou: 0.1211 - val_mae: 0.1493 - val_root_mean_squared_error: 0.1967\n",
      "Epoch 85/100\n",
      "800/800 [==============================] - ETA: 0s - loss: 1.1446e-04 - iou: 0.6526 - mae: 0.0104 - root_mean_squared_error: 0.015284\n",
      "800/800 [==============================] - 61s 77ms/step - loss: 1.1446e-04 - iou: 0.6526 - mae: 0.0104 - root_mean_squared_error: 0.0152 - val_loss: 0.0200 - val_iou: 0.1303 - val_mae: 0.1489 - val_root_mean_squared_error: 0.1969\n",
      "Epoch 86/100\n",
      "800/800 [==============================] - ETA: 0s - loss: 1.1869e-04 - iou: 0.6446 - mae: 0.0107 - root_mean_squared_error: 0.015585\n",
      "800/800 [==============================] - 63s 79ms/step - loss: 1.1869e-04 - iou: 0.6446 - mae: 0.0107 - root_mean_squared_error: 0.0155 - val_loss: 0.0200 - val_iou: 0.1189 - val_mae: 0.1492 - val_root_mean_squared_error: 0.1972\n",
      "Epoch 87/100\n",
      "800/800 [==============================] - ETA: 0s - loss: 1.2404e-04 - iou: 0.6429 - mae: 0.0109 - root_mean_squared_error: 0.015886\n",
      "800/800 [==============================] - 62s 77ms/step - loss: 1.2404e-04 - iou: 0.6429 - mae: 0.0109 - root_mean_squared_error: 0.0158 - val_loss: 0.0200 - val_iou: 0.1275 - val_mae: 0.1491 - val_root_mean_squared_error: 0.1973\n",
      "Epoch 88/100\n",
      "800/800 [==============================] - ETA: 0s - loss: 1.1279e-04 - iou: 0.6540 - mae: 0.0104 - root_mean_squared_error: 0.015187\n",
      "800/800 [==============================] - 63s 79ms/step - loss: 1.1279e-04 - iou: 0.6540 - mae: 0.0104 - root_mean_squared_error: 0.0151 - val_loss: 0.0202 - val_iou: 0.1258 - val_mae: 0.1498 - val_root_mean_squared_error: 0.1978\n",
      "Epoch 89/100\n",
      "800/800 [==============================] - ETA: 0s - loss: 1.0134e-04 - iou: 0.6638 - mae: 0.0099 - root_mean_squared_error: 0.014388\n",
      "800/800 [==============================] - 61s 77ms/step - loss: 1.0134e-04 - iou: 0.6638 - mae: 0.0099 - root_mean_squared_error: 0.0143 - val_loss: 0.0200 - val_iou: 0.1241 - val_mae: 0.1499 - val_root_mean_squared_error: 0.1971\n",
      "Epoch 90/100\n",
      "800/800 [==============================] - ETA: 0s - loss: 9.6820e-05 - iou: 0.6782 - mae: 0.0096 - root_mean_squared_error: 0.013989\n",
      "800/800 [==============================] - 63s 79ms/step - loss: 9.6820e-05 - iou: 0.6782 - mae: 0.0096 - root_mean_squared_error: 0.0139 - val_loss: 0.0199 - val_iou: 0.1236 - val_mae: 0.1499 - val_root_mean_squared_error: 0.1968\n",
      "Epoch 91/100\n",
      "800/800 [==============================] - ETA: 0s - loss: 9.7913e-05 - iou: 0.6839 - mae: 0.0097 - root_mean_squared_error: 0.013990\n",
      "800/800 [==============================] - 61s 76ms/step - loss: 9.7913e-05 - iou: 0.6839 - mae: 0.0097 - root_mean_squared_error: 0.0139 - val_loss: 0.0201 - val_iou: 0.1149 - val_mae: 0.1489 - val_root_mean_squared_error: 0.1974\n",
      "Epoch 92/100\n",
      "800/800 [==============================] - ETA: 0s - loss: 1.1051e-04 - iou: 0.6776 - mae: 0.0102 - root_mean_squared_error: 0.014791\n",
      "800/800 [==============================] - 63s 78ms/step - loss: 1.1051e-04 - iou: 0.6776 - mae: 0.0102 - root_mean_squared_error: 0.0147 - val_loss: 0.0202 - val_iou: 0.1223 - val_mae: 0.1491 - val_root_mean_squared_error: 0.1981\n"
     ]
    },
    {
     "name": "stdout",
     "output_type": "stream",
     "text": [
      "Epoch 93/100\n",
      "800/800 [==============================] - ETA: 0s - loss: 1.1972e-04 - iou: 0.6666 - mae: 0.0106 - root_mean_squared_error: 0.015392\n",
      "800/800 [==============================] - 62s 77ms/step - loss: 1.1972e-04 - iou: 0.6666 - mae: 0.0106 - root_mean_squared_error: 0.0153 - val_loss: 0.0200 - val_iou: 0.1225 - val_mae: 0.1495 - val_root_mean_squared_error: 0.1968\n",
      "Epoch 94/100\n",
      "800/800 [==============================] - ETA: 0s - loss: 1.2022e-04 - iou: 0.6673 - mae: 0.0108 - root_mean_squared_error: 0.015393\n",
      "800/800 [==============================] - 63s 79ms/step - loss: 1.2022e-04 - iou: 0.6673 - mae: 0.0108 - root_mean_squared_error: 0.0153 - val_loss: 0.0201 - val_iou: 0.1229 - val_mae: 0.1491 - val_root_mean_squared_error: 0.1976\n",
      "Epoch 95/100\n",
      "800/800 [==============================] - ETA: 0s - loss: 1.0341e-04 - iou: 0.6853 - mae: 0.0100 - root_mean_squared_error: 0.014294\n",
      "800/800 [==============================] - 61s 76ms/step - loss: 1.0341e-04 - iou: 0.6853 - mae: 0.0100 - root_mean_squared_error: 0.0142 - val_loss: 0.0203 - val_iou: 0.1298 - val_mae: 0.1503 - val_root_mean_squared_error: 0.1984\n",
      "Epoch 96/100\n",
      "800/800 [==============================] - ETA: 0s - loss: 1.0286e-04 - iou: 0.6779 - mae: 0.0101 - root_mean_squared_error: 0.014295\n",
      "800/800 [==============================] - 64s 79ms/step - loss: 1.0286e-04 - iou: 0.6779 - mae: 0.0101 - root_mean_squared_error: 0.0142 - val_loss: 0.0200 - val_iou: 0.1282 - val_mae: 0.1491 - val_root_mean_squared_error: 0.1969\n",
      "Epoch 97/100\n",
      "800/800 [==============================] - ETA: 0s - loss: 9.9564e-05 - iou: 0.6809 - mae: 0.0098 - root_mean_squared_error: 0.014196\n",
      "800/800 [==============================] - 62s 77ms/step - loss: 9.9564e-05 - iou: 0.6809 - mae: 0.0098 - root_mean_squared_error: 0.0141 - val_loss: 0.0198 - val_iou: 0.1218 - val_mae: 0.1490 - val_root_mean_squared_error: 0.1962\n",
      "Epoch 98/100\n",
      "800/800 [==============================] - ETA: 0s - loss: 9.1404e-05 - iou: 0.6860 - mae: 0.0093 - root_mean_squared_error: 0.013597\n",
      "800/800 [==============================] - 63s 78ms/step - loss: 9.1404e-05 - iou: 0.6860 - mae: 0.0093 - root_mean_squared_error: 0.0135 - val_loss: 0.0199 - val_iou: 0.1358 - val_mae: 0.1493 - val_root_mean_squared_error: 0.1966\n",
      "Epoch 99/100\n",
      "800/800 [==============================] - ETA: 0s - loss: 9.9862e-05 - iou: 0.6751 - mae: 0.0098 - root_mean_squared_error: 0.014198\n",
      "800/800 [==============================] - 62s 77ms/step - loss: 9.9862e-05 - iou: 0.6751 - mae: 0.0098 - root_mean_squared_error: 0.0141 - val_loss: 0.0199 - val_iou: 0.1242 - val_mae: 0.1489 - val_root_mean_squared_error: 0.1967\n",
      "Epoch 100/100\n",
      "800/800 [==============================] - ETA: 0s - loss: 1.1017e-04 - iou: 0.6624 - mae: 0.0104 - root_mean_squared_error: 0.014899\n",
      "800/800 [==============================] - 63s 78ms/step - loss: 1.1017e-04 - iou: 0.6624 - mae: 0.0104 - root_mean_squared_error: 0.0148 - val_loss: 0.0201 - val_iou: 0.1212 - val_mae: 0.1490 - val_root_mean_squared_error: 0.1976\n"
     ]
    }
   ],
   "source": [
    "strategy = tf.distribute.OneDeviceStrategy(device=\"/GPU:0\")\n",
    "with strategy.scope():\n",
    "    #Data Generation\n",
    "    train_generator = DataGenerator(df_train,question_vocab, BATCH_SIZE)\n",
    "    val_generator = DataGenerator(df_val,question_vocab, BATCH_SIZE)\n",
    "    \n",
    "    #VGG16 base\n",
    "    conv_base = VGG16(weights='imagenet',\n",
    "                  include_top=False,\n",
    "                  input_shape=(640, 640, 3))\n",
    "    #Freeze the weight\n",
    "    conv_base.trainable = False\n",
    "    \n",
    "    #Get vocal size of questrion\n",
    "    vocab_size = train_generator.question_dict.vocab_size\n",
    "    \n",
    "    #Create VQA model\n",
    "    vqa_model = build_model(conv_base, IMAGE_SIZE, vocab_size)\n",
    "    \n",
    "    vqa_model.compile(keras.optimizers.Adam(learning_rate=0.00001),\n",
    "                      loss=tf.keras.losses.MeanSquaredLogarithmicError(), metrics = [iou, 'mae', tf.keras.metrics.RootMeanSquaredError()])\n",
    "    stop_early_callback = tf.keras.callbacks.EarlyStopping(monitor='loss', patience=5)\n",
    "    img_callback = Log_Img_Callback(train_generator, val_generator)\n",
    "    history = vqa_model.fit(\n",
    "        train_generator,\n",
    "        epochs=NUM_EPOCHS,\n",
    "        callbacks = [WandbCallback(monitor=\"val_iou\", mode=\"max\"), img_callback],\n",
    "        #callbacks = [img_callback],\n",
    "        verbose = 1,\n",
    "        validation_data = val_generator,\n",
    "    )"
   ]
  },
  {
   "cell_type": "code",
   "execution_count": 24,
   "id": "f5b4442c",
   "metadata": {},
   "outputs": [
    {
     "data": {
      "text/plain": [
       "(<Figure size 2000x500 with 4 Axes>,\n",
       " array([<AxesSubplot:title={'center':'Loss'}, xlabel='Epochs', ylabel='Loss'>,\n",
       "        <AxesSubplot:title={'center':'Iou'}, xlabel='Epochs', ylabel='Iou'>,\n",
       "        <AxesSubplot:title={'center':'Mae'}, xlabel='Epochs', ylabel='Mae'>,\n",
       "        <AxesSubplot:title={'center':'Root MSE'}, xlabel='Epochs', ylabel='Root MSE'>],\n",
       "       dtype=object))"
      ]
     },
     "execution_count": 24,
     "metadata": {},
     "output_type": "execute_result"
    },
    {
     "data": {
      "image/png": "[encoded data removed]",
      "text/plain": [
       "<Figure size 2000x500 with 4 Axes>"
      ]
     },
     "metadata": {},
     "output_type": "display_data"
    }
   ],
   "source": [
    "plot_history(history)"
   ]
  },
  {
   "cell_type": "code",
   "execution_count": 25,
   "id": "cbb53c49",
   "metadata": {
    "id": "cbb53c49"
   },
   "outputs": [
    {
     "data": {
      "text/html": [
       "Waiting for W&B process to finish... <strong style=\"color:green\">(success).</strong>"
      ],
      "text/plain": [
       "<IPython.core.display.HTML object>"
      ]
     },
     "metadata": {},
     "output_type": "display_data"
    },
    {
     "data": {
      "text/html": [
       "<style>\n",
       "    table.wandb td:nth-child(1) { padding: 0 10px; text-align: left ; width: auto;} td:nth-child(2) {text-align: left ; width: 100%}\n",
       "    .wandb-row { display: flex; flex-direction: row; flex-wrap: wrap; justify-content: flex-start; width: 100% }\n",
       "    .wandb-col { display: flex; flex-direction: column; flex-basis: 100%; flex: 1; padding: 10px; }\n",
       "    </style>\n",
       "<div class=\"wandb-row\"><div class=\"wandb-col\"><h3>Run history:</h3><br/><table class=\"wandb\"><tr><td>epoch</td><td>▁▁▁▁▂▂▂▂▂▃▃▃▃▃▃▄▄▄▄▄▅▅▅▅▅▅▆▆▆▆▆▇▇▇▇▇▇███</td></tr><tr><td>iou</td><td>▁▁▁▁▂▂▃▄▅▅▆▆▆▇▇▇▇▇▇▇▇▇▇▇▇▇▇██▇██████████</td></tr><tr><td>loss</td><td>█▇▆▅▃▂▂▁▁▁▁▁▁▁▁▁▁▁▁▁▁▁▁▁▁▁▁▁▁▁▁▁▁▁▁▁▁▁▁▁</td></tr><tr><td>mae</td><td>█▇▇▆▅▄▃▂▂▂▂▁▁▁▁▁▁▁▁▁▁▁▁▁▁▁▁▁▁▁▁▁▁▁▁▁▁▁▁▁</td></tr><tr><td>root_mean_squared_error</td><td>█▇▇▆▅▄▃▂▂▂▂▂▁▁▁▁▁▁▁▁▁▁▁▁▁▁▁▁▁▁▁▁▁▁▁▁▁▁▁▁</td></tr><tr><td>val_iou</td><td>▇▅▁▁▂▃▃█▇▆▅▅▅▃▅▆█▇▅▅▅▆▆▆▇▅▅▆▅▅▅▅▅▅▇▆▅▆▅▅</td></tr><tr><td>val_loss</td><td>▆▄▂▁▃▅▇▇█▇█▇▇▇▇▇█▇▇▇▇▇▇█▇▇▇▇█▇▇▇▇▇▇▇█▇▇▇</td></tr><tr><td>val_mae</td><td>█▅▁▁▁▂▄▄▆▅▅▄▅▅▅▅▅▅▅▄▄▅▅▅▄▅▄▅▄▄▄▄▄▄▄▅▄▄▄▄</td></tr><tr><td>val_root_mean_squared_error</td><td>▆▄▂▁▃▅▇▇█▇█▇█▇▇████▇▇▇▇█▇▇▇▇█▇▇▇▇▇▇▇██▇█</td></tr></table><br/></div><div class=\"wandb-col\"><h3>Run summary:</h3><br/><table class=\"wandb\"><tr><td>best_epoch</td><td>26</td></tr><tr><td>best_val_iou</td><td>0.13694</td></tr><tr><td>epoch</td><td>99</td></tr><tr><td>iou</td><td>0.66239</td></tr><tr><td>loss</td><td>0.00011</td></tr><tr><td>mae</td><td>0.01036</td></tr><tr><td>root_mean_squared_error</td><td>0.01482</td></tr><tr><td>val_iou</td><td>0.12118</td></tr><tr><td>val_loss</td><td>0.02009</td></tr><tr><td>val_mae</td><td>0.14904</td></tr><tr><td>val_root_mean_squared_error</td><td>0.19761</td></tr></table><br/></div></div>"
      ],
      "text/plain": [
       "<IPython.core.display.HTML object>"
      ]
     },
     "metadata": {},
     "output_type": "display_data"
    },
    {
     "data": {
      "text/html": [
       "Synced <strong style=\"color:#cdcd00\">comic-wildflower-104</strong>: <a href=\"https://wandb.ai/ngocdunghuynh/WSDM2023/runs/1ca63g2n\" target=\"_blank\">https://wandb.ai/ngocdunghuynh/WSDM2023/runs/1ca63g2n</a><br/>Synced 7 W&B file(s), 3 media file(s), 415 artifact file(s) and 2 other file(s)"
      ],
      "text/plain": [
       "<IPython.core.display.HTML object>"
      ]
     },
     "metadata": {},
     "output_type": "display_data"
    },
    {
     "data": {
      "text/html": [
       "Find logs at: <code>./wandb/run-20221118_164937-1ca63g2n/logs</code>"
      ],
      "text/plain": [
       "<IPython.core.display.HTML object>"
      ]
     },
     "metadata": {},
     "output_type": "display_data"
    }
   ],
   "source": [
    "wandb.log({\"train example\": train_table})\n",
    "wandb.log({\"val example\": val_table})\n",
    "#os.system('rm -rf saved_images')\n",
    "wandb.finish()\n"
   ]
  },
  {
   "cell_type": "code",
   "execution_count": null,
   "id": "d35d236f",
   "metadata": {},
   "outputs": [],
   "source": []
  }
 ],
 "metadata": {
  "accelerator": "GPU",
  "colab": {
   "provenance": []
  },
  "gpuClass": "standard",
  "kernelspec": {
   "display_name": "Python 3 (ipykernel)",
   "language": "python",
   "name": "python3"
  },
  "language_info": {
   "codemirror_mode": {
    "name": "ipython",
    "version": 3
   },
   "file_extension": ".py",
   "mimetype": "text/x-python",
   "name": "python",
   "nbconvert_exporter": "python",
   "pygments_lexer": "ipython3",
   "version": "3.7.15"
  },
  "vscode": {
   "interpreter": {
    "hash": "916dbcbb3f70747c44a77c7bcd40155683ae19c65e1c03b4aa3499c5328201f1"
   }
  },
  "widgets": {
   "application/vnd.jupyter.widget-state+json": {
    "0662ee4595f34c9e85327822edbcaa11": {
     "model_module": "@jupyter-widgets/controls",
     "model_module_version": "1.5.0",
     "model_name": "HBoxModel",
     "state": {
      "_dom_classes": [],
      "_model_module": "@jupyter-widgets/controls",
      "_model_module_version": "1.5.0",
      "_model_name": "HBoxModel",
      "_view_count": null,
      "_view_module": "@jupyter-widgets/controls",
      "_view_module_version": "1.5.0",
      "_view_name": "HBoxView",
      "box_style": "",
      "children": [
       "IPY_MODEL_df61bdd17d654c7a80a81dc9a18bff10",
       "IPY_MODEL_3c8a38e0890845b1a4ca964b9a576134",
       "IPY_MODEL_dbdd88c4af6b4658beb33a9071a4d465"
      ],
      "layout": "IPY_MODEL_68dc90642ee144838e183c09f702a365"
     }
    },
    "0d956e2818dd4cb7b1faa3e00e5e6403": {
     "model_module": "@jupyter-widgets/base",
     "model_module_version": "1.2.0",
     "model_name": "LayoutModel",
     "state": {
      "_model_module": "@jupyter-widgets/base",
      "_model_module_version": "1.2.0",
      "_model_name": "LayoutModel",
      "_view_count": null,
      "_view_module": "@jupyter-widgets/base",
      "_view_module_version": "1.2.0",
      "_view_name": "LayoutView",
      "align_content": null,
      "align_items": null,
      "align_self": null,
      "border": null,
      "bottom": null,
      "display": null,
      "flex": null,
      "flex_flow": null,
      "grid_area": null,
      "grid_auto_columns": null,
      "grid_auto_flow": null,
      "grid_auto_rows": null,
      "grid_column": null,
      "grid_gap": null,
      "grid_row": null,
      "grid_template_areas": null,
      "grid_template_columns": null,
      "grid_template_rows": null,
      "height": null,
      "justify_content": null,
      "justify_items": null,
      "left": null,
      "margin": null,
      "max_height": null,
      "max_width": null,
      "min_height": null,
      "min_width": null,
      "object_fit": null,
      "object_position": null,
      "order": null,
      "overflow": null,
      "overflow_x": null,
      "overflow_y": null,
      "padding": null,
      "right": null,
      "top": null,
      "visibility": null,
      "width": null
     }
    },
    "1c0b9157b1e446a9950f6becd39f40de": {
     "model_module": "@jupyter-widgets/controls",
     "model_module_version": "1.5.0",
     "model_name": "ProgressStyleModel",
     "state": {
      "_model_module": "@jupyter-widgets/controls",
      "_model_module_version": "1.5.0",
      "_model_name": "ProgressStyleModel",
      "_view_count": null,
      "_view_module": "@jupyter-widgets/base",
      "_view_module_version": "1.2.0",
      "_view_name": "StyleView",
      "bar_color": null,
      "description_width": ""
     }
    },
    "3c8a38e0890845b1a4ca964b9a576134": {
     "model_module": "@jupyter-widgets/controls",
     "model_module_version": "1.5.0",
     "model_name": "FloatProgressModel",
     "state": {
      "_dom_classes": [],
      "_model_module": "@jupyter-widgets/controls",
      "_model_module_version": "1.5.0",
      "_model_name": "FloatProgressModel",
      "_view_count": null,
      "_view_module": "@jupyter-widgets/controls",
      "_view_module_version": "1.5.0",
      "_view_name": "ProgressView",
      "bar_style": "success",
      "description": "",
      "description_tooltip": null,
      "layout": "IPY_MODEL_a90d8de2dc50453784df8f1229c293e0",
      "max": 5000,
      "min": 0,
      "orientation": "horizontal",
      "style": "IPY_MODEL_1c0b9157b1e446a9950f6becd39f40de",
      "value": 5000
     }
    },
    "5966ae2880be465ab6b0d54173faf8f1": {
     "model_module": "@jupyter-widgets/controls",
     "model_module_version": "1.5.0",
     "model_name": "DescriptionStyleModel",
     "state": {
      "_model_module": "@jupyter-widgets/controls",
      "_model_module_version": "1.5.0",
      "_model_name": "DescriptionStyleModel",
      "_view_count": null,
      "_view_module": "@jupyter-widgets/base",
      "_view_module_version": "1.2.0",
      "_view_name": "StyleView",
      "description_width": ""
     }
    },
    "68dc90642ee144838e183c09f702a365": {
     "model_module": "@jupyter-widgets/base",
     "model_module_version": "1.2.0",
     "model_name": "LayoutModel",
     "state": {
      "_model_module": "@jupyter-widgets/base",
      "_model_module_version": "1.2.0",
      "_model_name": "LayoutModel",
      "_view_count": null,
      "_view_module": "@jupyter-widgets/base",
      "_view_module_version": "1.2.0",
      "_view_name": "LayoutView",
      "align_content": null,
      "align_items": null,
      "align_self": null,
      "border": null,
      "bottom": null,
      "display": null,
      "flex": null,
      "flex_flow": null,
      "grid_area": null,
      "grid_auto_columns": null,
      "grid_auto_flow": null,
      "grid_auto_rows": null,
      "grid_column": null,
      "grid_gap": null,
      "grid_row": null,
      "grid_template_areas": null,
      "grid_template_columns": null,
      "grid_template_rows": null,
      "height": null,
      "justify_content": null,
      "justify_items": null,
      "left": null,
      "margin": null,
      "max_height": null,
      "max_width": null,
      "min_height": null,
      "min_width": null,
      "object_fit": null,
      "object_position": null,
      "order": null,
      "overflow": null,
      "overflow_x": null,
      "overflow_y": null,
      "padding": null,
      "right": null,
      "top": null,
      "visibility": null,
      "width": null
     }
    },
    "90ee8d02cde54101ba121921f46ee1a5": {
     "model_module": "@jupyter-widgets/base",
     "model_module_version": "1.2.0",
     "model_name": "LayoutModel",
     "state": {
      "_model_module": "@jupyter-widgets/base",
      "_model_module_version": "1.2.0",
      "_model_name": "LayoutModel",
      "_view_count": null,
      "_view_module": "@jupyter-widgets/base",
      "_view_module_version": "1.2.0",
      "_view_name": "LayoutView",
      "align_content": null,
      "align_items": null,
      "align_self": null,
      "border": null,
      "bottom": null,
      "display": null,
      "flex": null,
      "flex_flow": null,
      "grid_area": null,
      "grid_auto_columns": null,
      "grid_auto_flow": null,
      "grid_auto_rows": null,
      "grid_column": null,
      "grid_gap": null,
      "grid_row": null,
      "grid_template_areas": null,
      "grid_template_columns": null,
      "grid_template_rows": null,
      "height": null,
      "justify_content": null,
      "justify_items": null,
      "left": null,
      "margin": null,
      "max_height": null,
      "max_width": null,
      "min_height": null,
      "min_width": null,
      "object_fit": null,
      "object_position": null,
      "order": null,
      "overflow": null,
      "overflow_x": null,
      "overflow_y": null,
      "padding": null,
      "right": null,
      "top": null,
      "visibility": null,
      "width": null
     }
    },
    "9b2c48ea9450446b91a9ce26001be3f6": {
     "model_module": "@jupyter-widgets/controls",
     "model_module_version": "1.5.0",
     "model_name": "DescriptionStyleModel",
     "state": {
      "_model_module": "@jupyter-widgets/controls",
      "_model_module_version": "1.5.0",
      "_model_name": "DescriptionStyleModel",
      "_view_count": null,
      "_view_module": "@jupyter-widgets/base",
      "_view_module_version": "1.2.0",
      "_view_name": "StyleView",
      "description_width": ""
     }
    },
    "a90d8de2dc50453784df8f1229c293e0": {
     "model_module": "@jupyter-widgets/base",
     "model_module_version": "1.2.0",
     "model_name": "LayoutModel",
     "state": {
      "_model_module": "@jupyter-widgets/base",
      "_model_module_version": "1.2.0",
      "_model_name": "LayoutModel",
      "_view_count": null,
      "_view_module": "@jupyter-widgets/base",
      "_view_module_version": "1.2.0",
      "_view_name": "LayoutView",
      "align_content": null,
      "align_items": null,
      "align_self": null,
      "border": null,
      "bottom": null,
      "display": null,
      "flex": null,
      "flex_flow": null,
      "grid_area": null,
      "grid_auto_columns": null,
      "grid_auto_flow": null,
      "grid_auto_rows": null,
      "grid_column": null,
      "grid_gap": null,
      "grid_row": null,
      "grid_template_areas": null,
      "grid_template_columns": null,
      "grid_template_rows": null,
      "height": null,
      "justify_content": null,
      "justify_items": null,
      "left": null,
      "margin": null,
      "max_height": null,
      "max_width": null,
      "min_height": null,
      "min_width": null,
      "object_fit": null,
      "object_position": null,
      "order": null,
      "overflow": null,
      "overflow_x": null,
      "overflow_y": null,
      "padding": null,
      "right": null,
      "top": null,
      "visibility": null,
      "width": null
     }
    },
    "dbdd88c4af6b4658beb33a9071a4d465": {
     "model_module": "@jupyter-widgets/controls",
     "model_module_version": "1.5.0",
     "model_name": "HTMLModel",
     "state": {
      "_dom_classes": [],
      "_model_module": "@jupyter-widgets/controls",
      "_model_module_version": "1.5.0",
      "_model_name": "HTMLModel",
      "_view_count": null,
      "_view_module": "@jupyter-widgets/controls",
      "_view_module_version": "1.5.0",
      "_view_name": "HTMLView",
      "description": "",
      "description_tooltip": null,
      "layout": "IPY_MODEL_90ee8d02cde54101ba121921f46ee1a5",
      "placeholder": "​",
      "style": "IPY_MODEL_9b2c48ea9450446b91a9ce26001be3f6",
      "value": " 5000/5000 [01:05&lt;00:00, 138.96it/s]"
     }
    },
    "df61bdd17d654c7a80a81dc9a18bff10": {
     "model_module": "@jupyter-widgets/controls",
     "model_module_version": "1.5.0",
     "model_name": "HTMLModel",
     "state": {
      "_dom_classes": [],
      "_model_module": "@jupyter-widgets/controls",
      "_model_module_version": "1.5.0",
      "_model_name": "HTMLModel",
      "_view_count": null,
      "_view_module": "@jupyter-widgets/controls",
      "_view_module_version": "1.5.0",
      "_view_name": "HTMLView",
      "description": "",
      "description_tooltip": null,
      "layout": "IPY_MODEL_0d956e2818dd4cb7b1faa3e00e5e6403",
      "placeholder": "​",
      "style": "IPY_MODEL_5966ae2880be465ab6b0d54173faf8f1",
      "value": "100%"
     }
    }
   }
  }
 },
 "nbformat": 4,
 "nbformat_minor": 5
}
