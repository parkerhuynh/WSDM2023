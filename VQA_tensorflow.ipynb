{
 "cells": [
  {
   "cell_type": "markdown",
   "id": "815e24b6",
   "metadata": {
    "id": "815e24b6"
   },
   "source": [
    "# Packages"
   ]
  },
  {
   "cell_type": "code",
   "execution_count": 1,
   "id": "458e45c7",
   "metadata": {
    "execution": {
     "iopub.execute_input": "2022-11-23T02:12:39.004275Z",
     "iopub.status.busy": "2022-11-23T02:12:39.003555Z",
     "iopub.status.idle": "2022-11-23T02:12:39.011054Z",
     "shell.execute_reply": "2022-11-23T02:12:39.009867Z"
    },
    "id": "458e45c7"
   },
   "outputs": [],
   "source": [
    "#%%capture\n",
    "#!pip install wget\n",
    "#!pip install wandb\n",
    "#!pip install plot_keras_history\n",
    "#!jupyter nbextension enable --py widgetsnbextension\n",
    "#!pip install plot_keras_history"
   ]
  },
  {
   "cell_type": "code",
   "execution_count": 2,
   "id": "cadab368",
   "metadata": {
    "colab": {
     "base_uri": "https://localhost:8080/"
    },
    "execution": {
     "iopub.execute_input": "2022-11-23T02:12:39.017417Z",
     "iopub.status.busy": "2022-11-23T02:12:39.016804Z",
     "iopub.status.idle": "2022-11-23T02:12:39.146850Z",
     "shell.execute_reply": "2022-11-23T02:12:39.145153Z"
    },
    "id": "cadab368",
    "outputId": "cf47cb72-b452-4e04-ac8c-0a3ed724c340"
   },
   "outputs": [],
   "source": [
    "import os\n",
    "os.environ['TF_CPP_MIN_LOG_LEVEL'] = '2'\n",
    "os.environ['TF_ENABLE_ONEDNN_OPTS'] = '0'\n",
    "os.environ['TF_FORCE_GPU_ALLOW_GROWTH'] = 'true'\n",
    "!mkdir saved_images"
   ]
  },
  {
   "cell_type": "code",
   "execution_count": 7,
   "id": "3bb9c2de",
   "metadata": {
    "execution": {
     "iopub.execute_input": "2022-11-23T02:12:39.153791Z",
     "iopub.status.busy": "2022-11-23T02:12:39.153078Z",
     "iopub.status.idle": "2022-11-23T02:12:41.230027Z",
     "shell.execute_reply": "2022-11-23T02:12:41.229036Z"
    },
    "id": "3bb9c2de"
   },
   "outputs": [],
   "source": [
    "import pandas as pd\n",
    "import cv2\n",
    "import wget\n",
    "import shutil\n",
    "from tensorflow.keras.applications import VGG16\n",
    "from tqdm.auto import tqdm\n",
    "from joblib import Parallel, delayed\n",
    "from collections import defaultdict\n",
    "import random\n",
    "import matplotlib.pyplot as plt\n",
    "import matplotlib.image as mpimg\n",
    "import numpy as np\n",
    "from PIL import Image\n",
    "import re\n",
    "import json\n",
    "import numpy as np\n",
    "from plot_keras_history import show_history, plot_history\n",
    "\n",
    "\n",
    "import tensorflow as tf\n",
    "tf.config.run_functions_eagerly(True)\n",
    "from tensorflow import keras\n",
    "import tensorflow\n",
    "from tensorflow.keras.preprocessing.sequence import pad_sequences\n",
    "from tensorflow.keras import layers\n",
    "import random\n",
    "from wandb.keras import WandbCallback\n",
    "import wandb\n",
    "import time\n",
    "from keras import backend as K\n"
   ]
  },
  {
   "cell_type": "code",
   "execution_count": 8,
   "id": "1bc4f6f3",
   "metadata": {
    "colab": {
     "base_uri": "https://localhost:8080/"
    },
    "execution": {
     "iopub.execute_input": "2022-11-23T02:12:41.236427Z",
     "iopub.status.busy": "2022-11-23T02:12:41.235871Z",
     "iopub.status.idle": "2022-11-23T02:12:41.240671Z",
     "shell.execute_reply": "2022-11-23T02:12:41.239837Z"
    },
    "id": "1bc4f6f3",
    "outputId": "ba7ca832-fe13-41cd-8181-ce79efbd5054"
   },
   "outputs": [],
   "source": [
    "#!"
   ]
  },
  {
   "cell_type": "code",
   "execution_count": 15,
   "id": "8bd90ccd",
   "metadata": {
    "execution": {
     "iopub.execute_input": "2022-11-23T02:12:41.246561Z",
     "iopub.status.busy": "2022-11-23T02:12:41.245985Z",
     "iopub.status.idle": "2022-11-23T02:12:41.252942Z",
     "shell.execute_reply": "2022-11-23T02:12:41.252043Z"
    },
    "id": "8bd90ccd"
   },
   "outputs": [],
   "source": [
    "DATA_DIR = \"/home/parker/data/WSDM2023/\" # change to /content/ if running on GG COLAB\n",
    "VISUALIZATION = False  \n",
    "BATCH_SIZE = 8              \n",
    "NUM_EPOCHS = 100           \n",
    "EMBEDIND_SIZE = 256     \n",
    "WORD_EMBEDING_SIZE = 32                        \n",
    "LEARNING_RATE = 0.001         \n",
    "MODEL = \"VQA\"                      \n",
    "IMAGE_SIZE = 480\n",
    "LOSS = \"MSLE\"\n",
    "RNN_HIDDEN_SIZE = 128\n",
    "ATT_EMBEDDING_SIZE = 256"
   ]
  },
  {
   "cell_type": "code",
   "execution_count": 24,
   "id": "b9337e67",
   "metadata": {
    "colab": {
     "base_uri": "https://localhost:8080/"
    },
    "execution": {
     "iopub.execute_input": "2022-11-23T02:12:41.258424Z",
     "iopub.status.busy": "2022-11-23T02:12:41.257949Z",
     "iopub.status.idle": "2022-11-23T02:12:41.338468Z",
     "shell.execute_reply": "2022-11-23T02:12:41.337190Z"
    },
    "id": "b9337e67",
    "outputId": "7128be44-6703-4bcd-bcaa-d99d795798ca"
   },
   "outputs": [
    {
     "name": "stdout",
     "output_type": "stream",
     "text": [
      "Num GPUs Available:  0\n"
     ]
    }
   ],
   "source": [
    "print(\"Num GPUs Available: \", len(tf.config.list_physical_devices('GPU')))"
   ]
  },
  {
   "cell_type": "code",
   "execution_count": 25,
   "id": "4c469947",
   "metadata": {
    "execution": {
     "iopub.execute_input": "2022-11-23T02:12:41.345016Z",
     "iopub.status.busy": "2022-11-23T02:12:41.344516Z",
     "iopub.status.idle": "2022-11-23T02:12:41.350366Z",
     "shell.execute_reply": "2022-11-23T02:12:41.349212Z"
    }
   },
   "outputs": [],
   "source": [
    "TEST_TRAINING  = False\n",
    "WANDB_LOG = True"
   ]
  },
  {
   "cell_type": "markdown",
   "id": "f4e5ed92",
   "metadata": {
    "id": "f4e5ed92"
   },
   "source": [
    "# Data Loader"
   ]
  },
  {
   "cell_type": "code",
   "execution_count": 26,
   "id": "16f42fa2",
   "metadata": {},
   "outputs": [
    {
     "name": "stderr",
     "output_type": "stream",
     "text": [
      "--2022-11-29 12:04:04--  https://github.com/Toloka/WSDMCup2023/raw/main/train.csv\n",
      "Resolving github.com (github.com)... 20.248.137.48\n",
      "Connecting to github.com (github.com)|20.248.137.48|:443... connected.\n",
      "HTTP request sent, awaiting response... 302 Found\n",
      "Location: https://raw.githubusercontent.com/Toloka/WSDMCup2023/main/train.csv [following]\n",
      "--2022-11-29 12:04:04--  https://raw.githubusercontent.com/Toloka/WSDMCup2023/main/train.csv\n",
      "Resolving raw.githubusercontent.com (raw.githubusercontent.com)... 185.199.108.133, 185.199.109.133, 185.199.110.133, ...\n",
      "Connecting to raw.githubusercontent.com (raw.githubusercontent.com)|185.199.108.133|:443... connected.\n",
      "HTTP request sent, awaiting response... 200 OK\n",
      "Length: 4808783 (4.6M) [text/plain]\n",
      "Saving to: '/home/parker/data/WSDM2023/train.csv.1’\n",
      "\n",
      "     0K .......... .......... .......... .......... ..........  1% 2.23M 2s\n",
      "    50K .......... .......... .......... .......... ..........  2% 2.55M 2s\n",
      "   100K .......... .......... .......... .......... ..........  3% 2.67M 2s\n",
      "   150K .......... .......... .......... .......... ..........  4% 2.88M 2s\n",
      "   200K .......... .......... .......... .......... ..........  5% 2.58M 2s\n",
      "   250K .......... .......... .......... .......... ..........  6% 2.35M 2s\n",
      "   300K .......... .......... .......... .......... ..........  7% 2.85M 2s\n",
      "   350K .......... .......... .......... .......... ..........  8% 2.45M 2s\n",
      "   400K .......... .......... .......... .......... ..........  9% 2.82M 2s\n",
      "   450K .......... .......... .......... .......... .......... 10% 2.53M 2s\n",
      "   500K .......... .......... .......... .......... .......... 11% 3.05M 2s\n",
      "   550K .......... .......... .......... .......... .......... 12% 3.25M 2s\n",
      "   600K .......... .......... .......... .......... .......... 13% 2.16M 2s\n",
      "   650K .......... .......... .......... .......... .......... 14% 2.80M 1s\n",
      "   700K .......... .......... .......... .......... .......... 15% 2.95M 1s\n",
      "   750K .......... .......... .......... .......... .......... 17% 3.22M 1s\n",
      "   800K .......... .......... .......... .......... .......... 18% 3.30M 1s\n",
      "   850K .......... .......... .......... .......... .......... 19% 3.21M 1s\n",
      "   900K .......... .......... .......... .......... .......... 20% 3.69M 1s\n",
      "   950K .......... .......... .......... .......... .......... 21% 2.61M 1s\n",
      "  1000K .......... .......... .......... .......... .......... 22% 3.35M 1s\n",
      "  1050K .......... .......... .......... .......... .......... 23% 2.68M 1s\n",
      "  1100K .......... .......... .......... .......... .......... 24% 3.11M 1s\n",
      "  1150K .......... .......... .......... .......... .......... 25% 2.63M 1s\n",
      "  1200K .......... .......... .......... .......... .......... 26% 2.69M 1s\n",
      "  1250K .......... .......... .......... .......... .......... 27% 2.23M 1s\n",
      "  1300K .......... .......... .......... .......... .......... 28% 3.04M 1s\n",
      "  1350K .......... .......... .......... .......... .......... 29% 3.06M 1s\n",
      "  1400K .......... .......... .......... .......... .......... 30% 2.72M 1s\n",
      "  1450K .......... .......... .......... .......... .......... 31% 3.12M 1s\n",
      "  1500K .......... .......... .......... .......... .......... 33% 3.70M 1s\n",
      "  1550K .......... .......... .......... .......... .......... 34% 2.58M 1s\n",
      "  1600K .......... .......... .......... .......... .......... 35% 3.09M 1s\n",
      "  1650K .......... .......... .......... .......... .......... 36% 3.06M 1s\n",
      "  1700K .......... .......... .......... .......... .......... 37% 3.45M 1s\n",
      "  1750K .......... .......... .......... .......... .......... 38% 3.63M 1s\n",
      "  1800K .......... .......... .......... .......... .......... 39% 2.40M 1s\n",
      "  1850K .......... .......... .......... .......... .......... 40% 3.37M 1s\n",
      "  1900K .......... .......... .......... .......... .......... 41% 3.15M 1s\n",
      "  1950K .......... .......... .......... .......... .......... 42% 3.56M 1s\n",
      "  2000K .......... .......... .......... .......... .......... 43% 3.37M 1s\n",
      "  2050K .......... .......... .......... .......... .......... 44% 2.53M 1s\n",
      "  2100K .......... .......... .......... .......... .......... 45% 3.17M 1s\n",
      "  2150K .......... .......... .......... .......... .......... 46% 3.23M 1s\n",
      "  2200K .......... .......... .......... .......... .......... 47% 3.27M 1s\n",
      "  2250K .......... .......... .......... .......... .......... 48% 3.64M 1s\n",
      "  2300K .......... .......... .......... .......... .......... 50% 2.47M 1s\n",
      "  2350K .......... .......... .......... .......... .......... 51% 3.52M 1s\n",
      "  2400K .......... .......... .......... .......... .......... 52% 2.87M 1s\n",
      "  2450K .......... .......... .......... .......... .......... 53% 3.19M 1s\n",
      "  2500K .......... .......... .......... .......... .......... 54% 2.94M 1s\n",
      "  2550K .......... .......... .......... .......... .......... 55% 2.93M 1s\n",
      "  2600K .......... .......... .......... .......... .......... 56% 3.46M 1s\n",
      "  2650K .......... .......... .......... .......... .......... 57% 3.28M 1s\n",
      "  2700K .......... .......... .......... .......... .......... 58% 3.26M 1s\n",
      "  2750K .......... .......... .......... .......... .......... 59% 2.60M 1s\n",
      "  2800K .......... .......... .......... .......... .......... 60% 3.45M 1s\n",
      "  2850K .......... .......... .......... .......... .......... 61% 3.20M 1s\n",
      "  2900K .......... .......... .......... .......... .......... 62% 2.68M 1s\n",
      "  2950K .......... .......... .......... .......... .......... 63% 3.07M 1s\n",
      "  3000K .......... .......... .......... .......... .......... 64% 3.03M 1s\n",
      "  3050K .......... .......... .......... .......... .......... 66% 3.19M 1s\n",
      "  3100K .......... .......... .......... .......... .......... 67% 3.28M 1s\n",
      "  3150K .......... .......... .......... .......... .......... 68% 2.32M 0s\n",
      "  3200K .......... .......... .......... .......... .......... 69% 3.22M 0s\n",
      "  3250K .......... .......... .......... .......... .......... 70% 3.24M 0s\n",
      "  3300K .......... .......... .......... .......... .......... 71% 3.58M 0s\n",
      "  3350K .......... .......... .......... .......... .......... 72% 3.04M 0s\n",
      "  3400K .......... .......... .......... .......... .......... 73% 2.89M 0s\n",
      "  3450K .......... .......... .......... .......... .......... 74% 2.51M 0s\n",
      "  3500K .......... .......... .......... .......... .......... 75% 3.18M 0s\n",
      "  3550K .......... .......... .......... .......... .......... 76% 3.89M 0s\n",
      "  3600K .......... .......... .......... .......... .......... 77% 3.05M 0s\n",
      "  3650K .......... .......... .......... .......... .......... 78% 3.23M 0s\n",
      "  3700K .......... .......... .......... .......... .......... 79% 2.51M 0s\n",
      "  3750K .......... .......... .......... .......... .......... 80% 3.45M 0s\n",
      "  3800K .......... .......... .......... .......... .......... 81% 3.21M 0s\n",
      "  3850K .......... .......... .......... .......... .......... 83% 3.06M 0s\n",
      "  3900K .......... .......... .......... .......... .......... 84% 3.03M 0s\n",
      "  3950K .......... .......... .......... .......... .......... 85% 3.02M 0s\n",
      "  4000K .......... .......... .......... .......... .......... 86% 3.07M 0s\n",
      "  4050K .......... .......... .......... .......... .......... 87% 3.21M 0s\n",
      "  4100K .......... .......... .......... .......... .......... 88% 2.36M 0s\n",
      "  4150K .......... .......... .......... .......... .......... 89% 3.11M 0s\n",
      "  4200K .......... .......... .......... .......... .......... 90% 3.34M 0s\n",
      "  4250K .......... .......... .......... .......... .......... 91% 2.95M 0s\n",
      "  4300K .......... .......... .......... .......... .......... 92% 2.60M 0s\n",
      "  4350K .......... .......... .......... .......... .......... 93% 3.06M 0s\n",
      "  4400K .......... .......... .......... .......... .......... 94% 3.22M 0s\n",
      "  4450K .......... .......... .......... .......... .......... 95% 3.19M 0s\n",
      "  4500K .......... .......... .......... .......... .......... 96% 3.17M 0s\n",
      "  4550K .......... .......... .......... .......... .......... 97% 3.47M 0s\n",
      "  4600K .......... .......... .......... .......... .......... 99% 2.45M 0s\n",
      "  4650K .......... .......... .......... .......... ......    100% 4.00M=1.5s\n",
      "\n",
      "2022-11-29 12:04:06 (2.97 MB/s) - '/home/parker/data/WSDM2023/train.csv.1’ saved [4808783/4808783]\n",
      "\n"
     ]
    },
    {
     "data": {
      "text/plain": [
       "0"
      ]
     },
     "execution_count": 26,
     "metadata": {},
     "output_type": "execute_result"
    }
   ],
   "source": [
    "os.system(f'wget -P {DATA_DIR} https://github.com/Toloka/WSDMCup2023/raw/main/train.csv')"
   ]
  },
  {
   "cell_type": "code",
   "execution_count": 27,
   "id": "ad0f2df4",
   "metadata": {
    "execution": {
     "iopub.execute_input": "2022-11-23T02:12:47.094447Z",
     "iopub.status.busy": "2022-11-23T02:12:47.094115Z",
     "iopub.status.idle": "2022-11-23T02:12:47.171079Z",
     "shell.execute_reply": "2022-11-23T02:12:47.170264Z"
    },
    "id": "ad0f2df4"
   },
   "outputs": [],
   "source": [
    "train = pd.read_csv(DATA_DIR  + 'train.csv')\n",
    "TRAIN_IMGS_DIR = DATA_DIR + \"train_imgs/\"\n",
    "if TEST_TRAINING:\n",
    "    train = train[:5000]"
   ]
  },
  {
   "cell_type": "code",
   "execution_count": 28,
   "id": "e9f0d2b0",
   "metadata": {
    "colab": {
     "base_uri": "https://localhost:8080/",
     "height": 49,
     "referenced_widgets": [
      "0662ee4595f34c9e85327822edbcaa11",
      "df61bdd17d654c7a80a81dc9a18bff10",
      "3c8a38e0890845b1a4ca964b9a576134",
      "dbdd88c4af6b4658beb33a9071a4d465",
      "68dc90642ee144838e183c09f702a365",
      "0d956e2818dd4cb7b1faa3e00e5e6403",
      "5966ae2880be465ab6b0d54173faf8f1",
      "a90d8de2dc50453784df8f1229c293e0",
      "1c0b9157b1e446a9950f6becd39f40de",
      "90ee8d02cde54101ba121921f46ee1a5",
      "9b2c48ea9450446b91a9ce26001be3f6"
     ]
    },
    "execution": {
     "iopub.execute_input": "2022-11-23T02:12:47.175705Z",
     "iopub.status.busy": "2022-11-23T02:12:47.175399Z",
     "iopub.status.idle": "2022-11-23T02:12:47.182657Z",
     "shell.execute_reply": "2022-11-23T02:12:47.181871Z"
    },
    "id": "e9f0d2b0",
    "outputId": "f84074d4-9851-4bd8-8e7a-f8628b27acbd"
   },
   "outputs": [
    {
     "name": "stdout",
     "output_type": "stream",
     "text": [
      "the training set has been downloaded\n"
     ]
    }
   ],
   "source": [
    "# Download data\n",
    "try:\n",
    "    os.mkdir(TRAIN_IMGS_DIR)\n",
    "    img_paths = Parallel(\n",
    "    n_jobs=100)(delayed(wget.download)(img_url, out= TRAIN_IMGS_DIR) for img_url in tqdm(train.image)\n",
    "    )\n",
    "except:\n",
    "    print(\"the training set has been downloaded\")"
   ]
  },
  {
   "cell_type": "code",
   "execution_count": 29,
   "id": "7188dd62",
   "metadata": {
    "execution": {
     "iopub.execute_input": "2022-11-23T02:12:47.186981Z",
     "iopub.status.busy": "2022-11-23T02:12:47.186669Z",
     "iopub.status.idle": "2022-11-23T02:12:47.220966Z",
     "shell.execute_reply": "2022-11-23T02:12:47.220227Z"
    },
    "id": "7188dd62"
   },
   "outputs": [],
   "source": [
    "#Get the image path from URL\n",
    "train.image  = train.image.apply(lambda x: str(x.split(\"/\")[-1]))\n",
    "train.image  = train.image.apply(lambda x: TRAIN_IMGS_DIR + str(x))"
   ]
  },
  {
   "cell_type": "code",
   "execution_count": 30,
   "id": "58000096",
   "metadata": {
    "execution": {
     "iopub.execute_input": "2022-11-23T02:12:47.225650Z",
     "iopub.status.busy": "2022-11-23T02:12:47.225010Z",
     "iopub.status.idle": "2022-11-23T02:12:47.236645Z",
     "shell.execute_reply": "2022-11-23T02:12:47.235710Z"
    },
    "id": "58000096"
   },
   "outputs": [],
   "source": [
    "#Spit the original training set into 2 dataframes\n",
    "train_sample = int(len(train)*0.8)\n",
    "df_train = train[:int(len(train)*0.8)]\n",
    "df_val = train[int(len(train)*0.8):]\n",
    "\n",
    "df_train = df_train.reset_index(drop =True)\n",
    "df_val = df_val.reset_index(drop =True)\n",
    "\n",
    "if TEST_TRAINING:\n",
    "    df_train = df_train[:10*BATCH_SIZE]\n",
    "    df_val =  df_val[:10*BATCH_SIZE]"
   ]
  },
  {
   "cell_type": "markdown",
   "id": "1932736b",
   "metadata": {
    "id": "1932736b"
   },
   "source": [
    "## Image Processing"
   ]
  },
  {
   "cell_type": "code",
   "execution_count": 13,
   "id": "286067fe",
   "metadata": {
    "colab": {
     "base_uri": "https://localhost:8080/"
    },
    "execution": {
     "iopub.execute_input": "2022-11-23T02:12:47.242025Z",
     "iopub.status.busy": "2022-11-23T02:12:47.241462Z",
     "iopub.status.idle": "2022-11-23T02:12:47.280942Z",
     "shell.execute_reply": "2022-11-23T02:12:47.280168Z"
    },
    "id": "286067fe",
    "outputId": "205a88a1-aa58-4beb-de36-3a6e4b73aa2f"
   },
   "outputs": [
    {
     "name": "stdout",
     "output_type": "stream",
     "text": [
      "Populating the interactive namespace from numpy and matplotlib\n"
     ]
    },
    {
     "name": "stderr",
     "output_type": "stream",
     "text": [
      "/home/ngoc/anaconda3/envs/tf/lib/python3.7/site-packages/IPython/core/magics/pylab.py:160: UserWarning: pylab import has clobbered these variables: ['random']\n",
      "`%matplotlib` prevents importing * from pylab and numpy\n",
      "  \"\\n`%matplotlib` prevents importing * from pylab and numpy\"\n"
     ]
    }
   ],
   "source": [
    "%pylab inline\n",
    "from concurrent.futures import process\n",
    "\n",
    "\n",
    "def create_mask(bb, x):\n",
    "    \"\"\"Creates a mask for the bounding box of same shape as image\"\"\"\n",
    "    cols, rows,*_ = x.shape\n",
    "    Y = np.zeros((cols, rows))\n",
    "    bb = bb.astype(np.int64)\n",
    "    Y[bb[1]:bb[3], bb[0]:bb[2]] = 1.\n",
    "    return Y\n",
    "\n",
    "def mask_to_bb(Y):\n",
    "    \"\"\"Convert mask Y to a bounding box, assumes 0 as background nonzero object\"\"\"\n",
    "    rows , cols = np.nonzero(Y)\n",
    "    if len(cols)==0: \n",
    "        return np.zeros(4, dtype=np.float32)\n",
    "    top_row = np.min(rows)\n",
    "    left_col = np.min(cols)\n",
    "    bottom_row = np.max(rows)\n",
    "    right_col = np.max(cols)\n",
    "    return np.array([left_col, top_row, right_col, bottom_row], dtype=np.int64)\n",
    "\n",
    "def xyxy2xywh(box): #Convert box format [xmin ymin xmax ymax] --> [x center, y center, width, height] and normalize the box\n",
    "    xmin, ymin, xmax, ymax = box\n",
    "    w = xmax - xmin         # Width of the box\n",
    "    h = ymax - ymin         # Height of the box\n",
    "    x_center = (xmin + (w/2))/IMAGE_SIZE \n",
    "    y_center = (ymin + (h/2))/IMAGE_SIZE \n",
    "    new_w = w/ IMAGE_SIZE \n",
    "    new_h = h/IMAGE_SIZE\n",
    "    return np.array([x_center,y_center, new_w, new_h], dtype=np.float32)\n",
    "\n",
    "def resize_image_bb(img_path,bb,sz, question, show_example):\n",
    "    \"\"\"Resize an image and its bounding box and write image to new path\"\"\"\n",
    "    img = cv2.cvtColor(cv2.imread(str(img_path)), cv2.COLOR_BGR2RGB)\n",
    "    mask = create_mask(bb, img)\n",
    "    if show_example:\n",
    "        result = img.copy()\n",
    "        cv2.rectangle(result, (bb[0], bb[1]), (bb[2], bb[3]), (0, 255, 0), 5)\n",
    "        plt.figure()\n",
    "        plt.title(\"Original Image\")\n",
    "        plt.xlabel(f\"{question} \\n bb: {bb}\")\n",
    "        plt.imshow(result)\n",
    "        plt.show\n",
    "    \n",
    "    img_resized = cv2.resize(img, (sz, sz))\n",
    "    mask_resized = cv2.resize(mask, (sz, sz))\n",
    "    bb_resized = mask_to_bb(mask_resized)\n",
    "    x_center,y_center, new_w, new_h = xyxy2xywh(bb_resized)\n",
    "    processed_box = np.array([x_center,y_center, new_w, new_h], dtype=np.float32)\n",
    "    if show_example:\n",
    "\n",
    "        new_result = img_resized.copy()\n",
    "        cv2.rectangle(new_result, (bb_resized[0], bb_resized[1]), (bb_resized[2], bb_resized[3]), (0, 255, 0), 5)\n",
    "        plt.figure()\n",
    "        plt.title(\"Resized Image\")\n",
    "        plt.imshow(new_result)\n",
    "        plt.xlabel(f\"{question} \\n bb: {bb_resized} \\n processed_box: {processed_box}\")\n",
    "        plt.show\n",
    "    return np.array(img_resized, dtype = np.float32), bb_resized, processed_box\n",
    "\n",
    "\n",
    "\n",
    "def xywh2xyxy(box): #Convert box format [x center, y center, width, height]  --> [xmin ymin xmax ymax] and normalize the box\n",
    "    x_center,y_center, new_w, new_h = box*IMAGE_SIZE\n",
    "    xmin = x_center - (new_w/2)\n",
    "    ymin = y_center - (new_h/2)\n",
    "    xmax = x_center + (new_w/2)\n",
    "    ymax = y_center + (new_h/2)\n",
    "    return np.array([xmin, ymin, xmax, ymax], dtype=np.int64)\n",
    "\n",
    "def image_box_processing(image_path, box, question = None, show_example = True):\n",
    "        img_resized, bb_resized , processed_box = resize_image_bb(image_path, box,IMAGE_SIZE, question, show_example)\n",
    "        return img_resized, bb_resized, processed_box"
   ]
  },
  {
   "cell_type": "markdown",
   "id": "25e89c5d",
   "metadata": {
    "id": "25e89c5d"
   },
   "source": [
    "## Question Processing"
   ]
  },
  {
   "cell_type": "code",
   "execution_count": 14,
   "id": "689a71ce",
   "metadata": {
    "execution": {
     "iopub.execute_input": "2022-11-23T02:12:47.287171Z",
     "iopub.status.busy": "2022-11-23T02:12:47.286872Z",
     "iopub.status.idle": "2022-11-23T02:12:47.293030Z",
     "shell.execute_reply": "2022-11-23T02:12:47.292282Z"
    },
    "id": "689a71ce"
   },
   "outputs": [],
   "source": [
    "class Text_Dict:\n",
    "\n",
    "    \"\"\"Aim to convert index to word or word to index\"\"\"\n",
    "\n",
    "    def __init__(self, vocab):\n",
    "        \n",
    "        self.word_list = vocab\n",
    "        self.word2idx_dict = {w:n_w for n_w, w in enumerate(self.word_list)}\n",
    "        self.vocab_size = len(self.word_list)\n",
    "        self.unk2idx = self.word2idx_dict['<unk>'] if '<unk>' in self.word2idx_dict else None\n",
    "\n",
    "    def idx2word(self, n_w):\n",
    "\n",
    "        return self.word_list[n_w]\n",
    "\n",
    "    def word2idx(self, w):\n",
    "        if w in self.word2idx_dict:\n",
    "            return self.word2idx_dict[w]\n",
    "        elif self.unk2idx is not None:\n",
    "            return self.unk2idx\n",
    "        else:\n",
    "            raise ValueError(f'word {w} not in dictionary (while dictionary does not contain <unk>)')\n",
    "\n",
    "    def tokenize_and_index(self, sentence):\n",
    "        inds = [self.word2idx(w) for w in tokenize(sentence)]\n",
    "\n",
    "        return inds"
   ]
  },
  {
   "cell_type": "markdown",
   "id": "e6ce2de3",
   "metadata": {
    "id": "e6ce2de3"
   },
   "source": [
    "## Data Pipeline Loaders"
   ]
  },
  {
   "cell_type": "code",
   "execution_count": 15,
   "id": "d7a28dfe",
   "metadata": {
    "execution": {
     "iopub.execute_input": "2022-11-23T02:12:47.297253Z",
     "iopub.status.busy": "2022-11-23T02:12:47.296837Z",
     "iopub.status.idle": "2022-11-23T02:12:47.314431Z",
     "shell.execute_reply": "2022-11-23T02:12:47.313649Z"
    },
    "id": "d7a28dfe"
   },
   "outputs": [],
   "source": [
    "class DataGenerator(keras.utils.Sequence):\n",
    "    'Generates data for Keras'\n",
    "    def __init__(self, dataset, question_vocab, batch_size=32):\n",
    "        'Initialization'\n",
    "        self.dataset = dataset\n",
    "        self.batch_size = batch_size\n",
    "        self.question_vocab = question_vocab\n",
    "        self.question_dict = Text_Dict(self.question_vocab)\n",
    "        self.on_epoch_end()\n",
    "\n",
    "    def __len__(self):\n",
    "        'Denotes the number of batches per epoch'\n",
    "        return int(np.floor(len(self.dataset) / self.batch_size))\n",
    "\n",
    "\n",
    "    def make_vocab_questions(self, questions):\n",
    "        \"\"\"Make dictionary for questions and save them into text file.\"\"\"\n",
    "\n",
    "        print(\"- Creating a vocab list for questions\")\n",
    "        vocab_set = set()\n",
    "        SENTENCE_SPLIT_REGEX = re.compile(r'(\\W+)')\n",
    "        question_length = []\n",
    "\n",
    "        set_question_length = [None]*len(questions)\n",
    "        for iquestion, question in enumerate(questions):\n",
    "            words = SENTENCE_SPLIT_REGEX.split(question.lower())\n",
    "            words = [w.strip() for w in words if len(w.strip()) > 0]\n",
    "            vocab_set.update(words)\n",
    "            set_question_length[iquestion] = len(words)\n",
    "        question_length += set_question_length\n",
    "\n",
    "        vocab_list = list(vocab_set)\n",
    "        vocab_list.sort()\n",
    "        vocab_list.insert(0, '')\n",
    "        vocab_list.insert(1, '')\n",
    "        print(f'    + The size of Question vocabbulary {len(vocab_list)}.')\n",
    "        print(f'    + Maximum length of question: {np.max(question_length)}')\n",
    "        return vocab_list\n",
    "\n",
    "\n",
    "    def tokenize(self, sentence):\n",
    "\n",
    "        \"\"\"Split string lines into lists\"\"\"\n",
    "        \n",
    "        SENTENCE_SPLIT_REGEX = re.compile(r'(\\W+)')\n",
    "        tokens = SENTENCE_SPLIT_REGEX.split(sentence.lower())\n",
    "        tokens = [t.strip() for t in tokens if len(t.strip()) > 0]\n",
    "        return tokens\n",
    "\n",
    "    def question_processing(self, question):\n",
    "        question_token = self.tokenize(question)\n",
    "        question_2_idx = [self.question_dict.word2idx(w) for w in question_token ]\n",
    "        return  question_2_idx\n",
    "    \n",
    "\n",
    "\n",
    "    def on_epoch_end(self):\n",
    "        'Updates indexes after each epoch'\n",
    "        self.indexes = np.arange(len(self.dataset))\n",
    "\n",
    "\n",
    "\n",
    "    def __getitem__(self, index):\n",
    "        'Generate one batch of data'\n",
    "        # Generate indexes of the batch\n",
    "        indexes = self.indexes[index*self.batch_size:(index+1)*self.batch_size]\n",
    "        batch_data = [self.dataset.iloc[k] for k in indexes]\n",
    "        images, questions, boxes = self.__data_generation(batch_data)\n",
    "        return [{\n",
    "            'input_image': np.array(images, dtype =np.float32),\n",
    "            'input_question': np.array(questions, dtype =int)},\n",
    "            np.array(boxes, dtype =np.float32)]\n",
    "\n",
    "    def __data_generation(self, batch_data):\n",
    "        images = []\n",
    "        questions = []\n",
    "        boxes = []\n",
    "        question_len = []\n",
    "        for image_path, width, hieght, left, top, right, bottom, question in batch_data:\n",
    "            box = np.array([left, top, right, bottom],dtype = np.float32)\n",
    "            resized_image, resized_box, processed_box = image_box_processing(image_path, box, question = None, show_example = False)\n",
    "\n",
    "            question = self.question_processing(question)\n",
    "            question_len.append(len(question))\n",
    "\n",
    "            questions.append(question)\n",
    "            boxes.append(processed_box)\n",
    "            images.append(resized_image/225)\n",
    "        questions = pad_sequences(questions, maxlen = max(question_len), dtype='float32', value=0, padding='pre')\n",
    "        return images, questions, boxes\n"
   ]
  },
  {
   "cell_type": "code",
   "execution_count": 16,
   "id": "7838111a",
   "metadata": {
    "execution": {
     "iopub.execute_input": "2022-11-23T02:12:47.318212Z",
     "iopub.status.busy": "2022-11-23T02:12:47.317926Z",
     "iopub.status.idle": "2022-11-23T02:12:47.324072Z",
     "shell.execute_reply": "2022-11-23T02:12:47.323330Z"
    }
   },
   "outputs": [],
   "source": [
    "def make_vocab_questions(questions):\n",
    "        \"\"\"Make dictionary for questions and save them into text file.\"\"\"\n",
    "\n",
    "        print(\"- Creating a vocab list for questions\")\n",
    "        vocab_set = set()\n",
    "        SENTENCE_SPLIT_REGEX = re.compile(r'(\\W+)')\n",
    "        question_length = []\n",
    "\n",
    "        set_question_length = [None]*len(questions)\n",
    "        for iquestion, question in enumerate(questions):\n",
    "            words = SENTENCE_SPLIT_REGEX.split(question.lower())\n",
    "            words = [w.strip() for w in words if len(w.strip()) > 0]\n",
    "            vocab_set.update(words)\n",
    "            set_question_length[iquestion] = len(words)\n",
    "        question_length += set_question_length\n",
    "\n",
    "        vocab_list = list(vocab_set)\n",
    "        vocab_list.sort()\n",
    "        vocab_list.insert(0, '')\n",
    "        vocab_list.insert(1, '')\n",
    "        print(f'    + The size of Question vocabbulary {len(vocab_list)}.')\n",
    "        print(f'    + Maximum length of question: {np.max(question_length)}')\n",
    "        return vocab_list"
   ]
  },
  {
   "cell_type": "code",
   "execution_count": 17,
   "id": "aebd4aa4",
   "metadata": {
    "execution": {
     "iopub.execute_input": "2022-11-23T02:12:47.329664Z",
     "iopub.status.busy": "2022-11-23T02:12:47.329080Z",
     "iopub.status.idle": "2022-11-23T02:12:47.550324Z",
     "shell.execute_reply": "2022-11-23T02:12:47.548909Z"
    }
   },
   "outputs": [
    {
     "name": "stdout",
     "output_type": "stream",
     "text": [
      "- Creating a vocab list for questions\n",
      "    + The size of Question vocabbulary 7494.\n",
      "    + Maximum length of question: 41\n"
     ]
    }
   ],
   "source": [
    "question_vocab = make_vocab_questions(train[\"question\"])"
   ]
  },
  {
   "cell_type": "markdown",
   "id": "7de26939",
   "metadata": {
    "id": "7de26939"
   },
   "source": [
    "# Model"
   ]
  },
  {
   "cell_type": "code",
   "execution_count": 18,
   "id": "06081a80",
   "metadata": {
    "execution": {
     "iopub.execute_input": "2022-11-23T02:12:47.556554Z",
     "iopub.status.busy": "2022-11-23T02:12:47.555926Z",
     "iopub.status.idle": "2022-11-23T02:12:47.577667Z",
     "shell.execute_reply": "2022-11-23T02:12:47.576703Z"
    }
   },
   "outputs": [],
   "source": [
    "def iou(y_true, y_pred, xyxy = False):\n",
    "    # iou as metric for bounding box regression\n",
    "    \n",
    "    if not xyxy:\n",
    "        # convert input to be as [x1, y1, x2, y2]\n",
    "        y_true = y_true*IMAGE_SIZE\n",
    "        y_true_xmin, y_true_ymin  = y_true[:,0] - y_true[:,2]/2, y_true[:,1] - y_true[:,3]/2\n",
    "        y_true_xmax, y_true_ymax  = y_true[:,0] + y_true[:,2]/2, y_true[:,1] + y_true[:,3]/2\n",
    "        y_true = tf.stack([y_true_xmin, y_true_ymin, y_true_xmax, y_true_ymax], 1)\n",
    "    \n",
    "        # convert predictions to be as [x1, y1, x2, y2]\n",
    "        y_pred = y_pred*IMAGE_SIZE\n",
    "        y_pred_xmin, y_pred_ymin  = y_pred[:,0] - y_pred[:,2]/2, y_pred[:,1] - y_pred[:,3]/2\n",
    "        y_pred_xmax, y_pred_ymax  = y_pred[:,0] + y_pred[:,2]/2, y_pred[:,1] + y_pred[:,3]/2\n",
    "        y_pred = tf.stack([y_pred_xmin, y_pred_ymin, y_pred_xmax, y_pred_ymax], 1)\n",
    "    # AOG = Area of Groundtruth box\n",
    "    AoG = K.abs(K.transpose(y_true)[2] - K.transpose(y_true)[0] + 1) * K.abs(K.transpose(y_true)[3] - K.transpose(y_true)[1] + 1)\n",
    "    # AOP = Area of Predicted box\n",
    "    AoP = K.abs(K.transpose(y_pred)[2] - K.transpose(y_pred)[0] + 1) * K.abs(K.transpose(y_pred)[3] - K.transpose(y_pred)[1] + 1)\n",
    "\n",
    "    # overlaps are the co-ordinates of intersection box\n",
    "    overlap_0 = K.maximum(K.transpose(y_true)[0], K.transpose(y_pred)[0])\n",
    "    overlap_1 = K.maximum(K.transpose(y_true)[1], K.transpose(y_pred)[1])\n",
    "    overlap_2 = K.minimum(K.transpose(y_true)[2], K.transpose(y_pred)[2])\n",
    "    overlap_3 = K.minimum(K.transpose(y_true)[3], K.transpose(y_pred)[3])\n",
    "\n",
    "    # intersection area\n",
    "    intersection = (overlap_2 - overlap_0 + 1) * (overlap_3 - overlap_1 + 1)\n",
    "\n",
    "    # area of union of both boxes\n",
    "    union = AoG + AoP - intersection\n",
    "    \n",
    "    # iou calculation\n",
    "    iou = intersection / union\n",
    "\n",
    "    # bounding values of iou to (0,1)\n",
    "    iou = K.clip(iou, 0.0 + K.epsilon(), 1.0 - K.epsilon())\n",
    "\n",
    "    return iou"
   ]
  },
  {
   "cell_type": "code",
   "execution_count": 19,
   "id": "da5a1869",
   "metadata": {
    "execution": {
     "iopub.execute_input": "2022-11-23T02:12:47.582964Z",
     "iopub.status.busy": "2022-11-23T02:12:47.582490Z",
     "iopub.status.idle": "2022-11-23T02:12:47.594026Z",
     "shell.execute_reply": "2022-11-23T02:12:47.593098Z"
    }
   },
   "outputs": [],
   "source": [
    "def save_prediction(img, img_dix, pred_bb, gt_bb, question, epoch, mode, xyxy = False):\n",
    "    cv2.imwrite(f'./saved_images/{mode}_img_{img_dix}.jpg', img)\n",
    "    img = cv2.cvtColor(cv2.imread(f'./saved_images/{mode}_img_{img_dix}.jpg'), cv2.COLOR_BGR2RGB)\n",
    "    result = img.copy()\n",
    "    cv2.rectangle(result, (int(gt_bb[0]), int(gt_bb[1])), (int(gt_bb[2]), int(gt_bb[3])), (0, 255, 0), 3)\n",
    "    cv2.rectangle(result, (int(pred_bb[0]), int(pred_bb[1])), (int(pred_bb[2]), int(pred_bb[3])), (255, 0, 0), 3)\n",
    "    plt.figure(figsize=(12, 8))\n",
    "    plt.imshow(cv2.cvtColor(result, cv2.COLOR_BGR2RGB))\n",
    "    plt.title(question)\n",
    "    plt.savefig(f\"./saved_images/{mode}_img_{img_dix}_epoch_{epoch}.jpg\")\n",
    "    plt.close()"
   ]
  },
  {
   "cell_type": "code",
   "execution_count": 20,
   "id": "d5081037",
   "metadata": {
    "execution": {
     "iopub.execute_input": "2022-11-23T02:12:47.599704Z",
     "iopub.status.busy": "2022-11-23T02:12:47.599276Z",
     "iopub.status.idle": "2022-11-23T02:12:47.622644Z",
     "shell.execute_reply": "2022-11-23T02:12:47.621725Z"
    }
   },
   "outputs": [],
   "source": [
    "columns=[\"epoch\", \"dataset\", \"image\", \"iou\"]\n",
    "train_table = wandb.Table(columns=columns)\n",
    "val_table = wandb.Table(columns=columns)\n",
    "class Log_Img_Callback(keras.callbacks.Callback):\n",
    "    \n",
    "    #SAVE PREDICTIONS ON WANDB\n",
    "    def __init__(self, train_generator,val_generator):\n",
    "        super().__init__()\n",
    "        self.train_samples = train_generator[0]\n",
    "        self.val_samples = val_generator[0]\n",
    "        self.train_generator = train_generator\n",
    "        \n",
    "    def iou(self, box_predicted, box_truth):\n",
    "        # get (x, y) coordinates of intersection of bounding boxes\n",
    "        top_x_intersect = max(box_predicted[0], box_truth[0])\n",
    "        top_y_intersect = max(box_predicted[1], box_truth[1])\n",
    "        bottom_x_intersect = min(box_predicted[2], box_truth[2])\n",
    "        bottom_y_intersect = min(box_predicted[3], box_truth[3])\n",
    "\n",
    "        # calculate area of the intersection bb (bounding box)\n",
    "        intersection_area = max(0, bottom_x_intersect - top_x_intersect + 1) * max(\n",
    "            0, bottom_y_intersect - top_y_intersect + 1\n",
    "        )\n",
    "\n",
    "        # calculate area of the prediction bb and ground-truth bb\n",
    "        box_predicted_area = (box_predicted[2] - box_predicted[0] + 1) * (\n",
    "            box_predicted[3] - box_predicted[1] + 1\n",
    "        )\n",
    "        box_truth_area = (box_truth[2] - box_truth[0] + 1) * (\n",
    "            box_truth[3] - box_truth[1] + 1\n",
    "        )\n",
    "\n",
    "        # calculate intersection over union by taking intersection\n",
    "        # area and dividing it by the sum of predicted bb and ground truth\n",
    "        # bb areas subtracted by  the interesection area\n",
    "\n",
    "        # return ioU\n",
    "        return intersection_area / float(\n",
    "            box_predicted_area + box_truth_area - intersection_area\n",
    "        )\n",
    "    \n",
    "    def xywh_to_xyxy(self, bboxes):\n",
    "        bboxes = bboxes*IMAGE_SIZE\n",
    "        bboxes[:,0], bboxes[:,2] = bboxes[:,0] - bboxes[:,2]/2,bboxes[:,0] + bboxes[:,2]/2\n",
    "        bboxes[:,1], bboxes[:,3] = bboxes[:,1] - bboxes[:,3]/2, bboxes[:,1] + bboxes[:,3]/2\n",
    "        return bboxes\n",
    "        \n",
    "\n",
    "    def on_epoch_end(self, epoch, logs=None):\n",
    "        if (epoch+1) % 20 == 0:\n",
    "            train_input, train_output = self.train_samples\n",
    "            train_predictions = self.model.predict(train_input, verbose = 0)\n",
    "            train_predictions =self.xywh_to_xyxy(train_predictions)\n",
    "            train_output = self.xywh_to_xyxy(train_output)\n",
    "            for i in range(len(train_predictions)):\n",
    "                iou = self.iou(train_predictions[i], train_output[i])\n",
    "                img = train_input[\"input_image\"][i]*225\n",
    "                text = \"\"\n",
    "                for idx in train_input[\"input_question\"][i]:\n",
    "                    text += self.train_generator.question_dict.idx2word(idx)\n",
    "                    text += \" \"\n",
    "                save_prediction(img, i, train_predictions[i], train_output[i], text, epoch+1, \"train\")\n",
    "                train_table.add_data(epoch+1, \"train\", wandb.Image(f\"./saved_images/train_img_{i}_epoch_{epoch+1}.jpg\"), iou)\n",
    "            \n",
    "            val_input, val_output = self.val_samples\n",
    "            val_predictions = self.model.predict(val_input, verbose = 0)\n",
    "            val_predictions =self.xywh_to_xyxy(val_predictions)\n",
    "            val_output = self.xywh_to_xyxy(val_output)\n",
    "            for i in range(len(val_predictions)):\n",
    "                iou = self.iou(val_predictions[i], val_output[i])\n",
    "                img = val_input[\"input_image\"][i]*225\n",
    "                text = \"\"\n",
    "                for idx in val_input[\"input_question\"][i]:\n",
    "                    text += self.train_generator.question_dict.idx2word(idx)\n",
    "                    text += \" \"\n",
    "                save_prediction(img, i, val_predictions[i], val_output[i], text, epoch+1, \"val\")\n",
    "                val_table.add_data(epoch+1, \"val\", wandb.Image(f\"./saved_images/val_img_{i}_epoch_{epoch+1}.jpg\"), iou)"
   ]
  },
  {
   "cell_type": "code",
   "execution_count": 21,
   "id": "5adcc3b1",
   "metadata": {
    "execution": {
     "iopub.execute_input": "2022-11-23T02:12:47.627585Z",
     "iopub.status.busy": "2022-11-23T02:12:47.627232Z",
     "iopub.status.idle": "2022-11-23T02:12:47.634533Z",
     "shell.execute_reply": "2022-11-23T02:12:47.633686Z"
    }
   },
   "outputs": [],
   "source": [
    "class ImageEncoder(tf.keras.layers.Layer):\n",
    "    def __init__(self, embedding_size, img_size):\n",
    "        super(ImageEncoder, self).__init__()\n",
    "        # Define VGG 16\n",
    "        self.vgg_net = VGG16(weights='imagenet',include_top=False, input_shape=(img_size, img_size, 3))\n",
    "        self.vgg_net.trainable = False\n",
    "        self.dense = layers.Dense(embedding_size, activation = \"relu\")\n",
    "    \n",
    "    def call(self, images):\n",
    "        # batch*img_size*img_size*3\n",
    "        image_tensor = tf.convert_to_tensor(images)\n",
    "\n",
    "        # batch*20*20*512\n",
    "        image_feature = self.vgg_net(image_tensor)\n",
    "\n",
    "        # batch*400*512\n",
    "        #image_feature = layers.Flatten()(image_feature)\n",
    "        image_feature = tf.reshape(image_feature , [-1,image_feature.shape[2]*image_feature.shape[1] , image_feature.shape[3]])\n",
    "        \n",
    "        # batch*400*embedding_size\n",
    "\n",
    "        image_feature = self.dense(image_feature)\n",
    "        return image_feature"
   ]
  },
  {
   "cell_type": "code",
   "execution_count": 22,
   "id": "d9a69fbc",
   "metadata": {
    "execution": {
     "iopub.execute_input": "2022-11-23T02:12:47.639572Z",
     "iopub.status.busy": "2022-11-23T02:12:47.639213Z",
     "iopub.status.idle": "2022-11-23T02:12:47.647347Z",
     "shell.execute_reply": "2022-11-23T02:12:47.646423Z"
    }
   },
   "outputs": [],
   "source": [
    "class QuestionEncoder(tf.keras.layers.Layer):\n",
    "    def __init__(self, question_vocab_size, question_embedding_size, embedding_size, rnn_hidden_size):\n",
    "        super(QuestionEncoder, self).__init__()\n",
    "        self.embedding_size = embedding_size\n",
    "        self.rnn_hidden_size = rnn_hidden_size\n",
    "\n",
    "        #Define Question Embeding\n",
    "        self.word2vec  = layers.Embedding(input_dim=question_vocab_size, output_dim = question_embedding_size)\n",
    "\n",
    "        # Define LSTM\n",
    "        self.lstm = tf.keras.layers.LSTM(rnn_hidden_size)\n",
    "\n",
    "        #Define dense output layer\n",
    "        self.dense = layers.Dense(embedding_size, activation = \"tanh\")\n",
    "\n",
    "    def call(self, questions):\n",
    "        # batch*question_len\n",
    "\n",
    "        question_tensor = tf.convert_to_tensor(questions)\n",
    "\n",
    "        # batch*question_len*question_embedding_size\n",
    "        question_vec = self.word2vec(question_tensor)\n",
    "        \n",
    "        # batch*rnn_hidden_size\n",
    "        question_feature  =  self.lstm(question_vec)\n",
    "        \n",
    "        question_feature = self.dense(question_feature)\n",
    "        return question_feature"
   ]
  },
  {
   "cell_type": "code",
   "execution_count": 23,
   "id": "40c92d1d",
   "metadata": {
    "execution": {
     "iopub.execute_input": "2022-11-23T02:12:47.652382Z",
     "iopub.status.busy": "2022-11-23T02:12:47.651956Z",
     "iopub.status.idle": "2022-11-23T02:12:47.664736Z",
     "shell.execute_reply": "2022-11-23T02:12:47.663681Z"
    }
   },
   "outputs": [],
   "source": [
    "class Attention(tf.keras.layers.Layer):\n",
    "    def __init__(self, output_dim):\n",
    "        super().__init__()\n",
    "        self.image_feature_convert = layers.Dense(output_dim, activation = 'tanh')\n",
    "        self.question_feature_convert = layers.Dense(output_dim, activation = 'tanh')\n",
    "    def call(self, image_features, question_features):\n",
    "        #batch*400*embedding_size\n",
    "        hi = self.image_feature_convert(image_features)\n",
    "        #batch*embedding_size\n",
    "        hq = self.question_feature_convert(question_features)\n",
    "        #batch*1*embedding_size\n",
    "        hq = tf.expand_dims(hq, axis = 1)\n",
    "\n",
    "        #batch*400*embedding_size\n",
    "        ha  = tf.tanh(hi + hq)\n",
    "        ha = layers.Dropout(0.5)(ha)\n",
    "        ha = layers.Dense(1)(ha)\n",
    "        ha = tf.reshape(ha , [-1,ha.shape[1]])\n",
    "        pi = tf.nn.softmax(ha)\n",
    "        pi = tf.expand_dims(pi , axis = -1)\n",
    "        att_layer = tf.reduce_sum(pi * image_features , axis = 1)\n",
    "        u = att_layer + question_features\n",
    "        return  u"
   ]
  },
  {
   "cell_type": "code",
   "execution_count": 24,
   "id": "2d622b82",
   "metadata": {
    "execution": {
     "iopub.execute_input": "2022-11-23T02:12:47.670217Z",
     "iopub.status.busy": "2022-11-23T02:12:47.669756Z",
     "iopub.status.idle": "2022-11-23T02:12:47.681298Z",
     "shell.execute_reply": "2022-11-23T02:12:47.680290Z"
    }
   },
   "outputs": [],
   "source": [
    "class VQA(tf.keras.Model):\n",
    "    def __init__(self, embedding_size, \n",
    "                img_size, \n",
    "                question_vocab_size, \n",
    "                question_embedding_size,\n",
    "                rnn_hidden_size,\n",
    "                atention_out_dim,\n",
    "                num_att_layers):\n",
    "        super().__init__()\n",
    "        self.image_encoder = ImageEncoder(embedding_size, img_size)\n",
    "        self.question_encoder = QuestionEncoder(\n",
    "                                    question_vocab_size = question_vocab_size,\n",
    "                                    question_embedding_size = question_embedding_size,\n",
    "                                    embedding_size = embedding_size,\n",
    "                                    rnn_hidden_size = rnn_hidden_size\n",
    "                                )\n",
    "        \n",
    "        #self.attention = Attention(atention_out_dim)\n",
    "        self.output_layer = layers.Dense(4, activation='sigmoid', name=\"output\")\n",
    "        self.Stacked_Attend = [Attention(output_dim=atention_out_dim)]* num_att_layers\n",
    "\n",
    "    def call(self, data):\n",
    "\n",
    "        images, questions = data[\"input_image\"], data[\"input_question\"]\n",
    "\n",
    "        image_features = self.image_encoder(images)\n",
    "        question_features = self.question_encoder(questions)\n",
    "        u = question_features\n",
    "        for attn_layer in self.Stacked_Attend:\n",
    "            u = attn_layer(image_features, u)\n",
    "        output = self.output_layer(u)\n",
    "        return tf.convert_to_tensor(output)"
   ]
  },
  {
   "cell_type": "code",
   "execution_count": 25,
   "id": "a6c02342",
   "metadata": {
    "execution": {
     "iopub.execute_input": "2022-11-23T02:12:47.686687Z",
     "iopub.status.busy": "2022-11-23T02:12:47.686182Z",
     "iopub.status.idle": "2022-11-23T02:12:47.693073Z",
     "shell.execute_reply": "2022-11-23T02:12:47.692089Z"
    }
   },
   "outputs": [],
   "source": [
    "def scheduler(epoch, lr):\n",
    "    if epoch < 20:\n",
    "        return lr\n",
    "    elif epoch < 40:\n",
    "        return lr/10\n",
    "    elif epoch < 80:\n",
    "        return lr/100\n",
    "    elif epoch < 80:\n",
    "        return lr/1000"
   ]
  },
  {
   "cell_type": "markdown",
   "id": "c5b5eb08",
   "metadata": {},
   "source": [
    "# Traning"
   ]
  },
  {
   "cell_type": "markdown",
   "id": "e6c86a3a",
   "metadata": {},
   "source": []
  },
  {
   "cell_type": "code",
   "execution_count": 26,
   "id": "b2e9c04f",
   "metadata": {
    "colab": {
     "base_uri": "https://localhost:8080/"
    },
    "execution": {
     "iopub.execute_input": "2022-11-23T02:12:47.697896Z",
     "iopub.status.busy": "2022-11-23T02:12:47.697381Z",
     "iopub.status.idle": "2022-11-23T17:44:47.079235Z",
     "shell.execute_reply": "2022-11-23T17:44:47.077979Z"
    },
    "id": "b2e9c04f",
    "outputId": "5d8f3bd8-44ca-4c59-c77f-4f4f9cd9bf72"
   },
   "outputs": [
    {
     "name": "stdout",
     "output_type": "stream",
     "text": [
      "\n",
      "Epoch 1: LearningRateScheduler setting learning rate to 0.0010000000474974513.\n",
      "Epoch 1/100\n"
     ]
    },
    {
     "name": "stderr",
     "output_type": "stream",
     "text": [
      "/home/ngoc/anaconda3/envs/tf/lib/python3.7/site-packages/tensorflow/python/data/ops/structured_function.py:265: UserWarning: Even though the `tf.config.experimental_run_functions_eagerly` option is set, this option does not apply to tf.data functions. To force eager execution of tf.data functions, please use `tf.data.experimental.enable_debug_mode()`.\n",
      "  \"Even though the `tf.config.experimental_run_functions_eagerly` \"\n"
     ]
    },
    {
     "name": "stdout",
     "output_type": "stream",
     "text": [
      "3899/3899 [==============================] - 1748s 448ms/step - loss: 0.0170 - iou: 0.1203 - mae: 0.1404 - root_mean_squared_error: 0.1842 - val_loss: 0.0162 - val_iou: 0.1277 - val_mae: 0.1366 - val_root_mean_squared_error: 0.1809 - lr: 0.0010\n",
      "\n",
      "Epoch 2: LearningRateScheduler setting learning rate to 0.0010000000474974513.\n",
      "Epoch 2/100\n",
      "3899/3899 [==============================] - 1747s 448ms/step - loss: 0.0155 - iou: 0.1241 - mae: 0.1330 - root_mean_squared_error: 0.1763 - val_loss: 0.0159 - val_iou: 0.1256 - val_mae: 0.1335 - val_root_mean_squared_error: 0.1789 - lr: 0.0010\n",
      "\n",
      "Epoch 3: LearningRateScheduler setting learning rate to 0.0010000000474974513.\n",
      "Epoch 3/100\n",
      "3899/3899 [==============================] - 1747s 448ms/step - loss: 0.0149 - iou: 0.1268 - mae: 0.1297 - root_mean_squared_error: 0.1730 - val_loss: 0.0161 - val_iou: 0.1281 - val_mae: 0.1369 - val_root_mean_squared_error: 0.1793 - lr: 0.0010\n",
      "\n",
      "Epoch 4: LearningRateScheduler setting learning rate to 0.0010000000474974513.\n",
      "Epoch 4/100\n",
      "3899/3899 [==============================] - 1746s 448ms/step - loss: 0.0143 - iou: 0.1284 - mae: 0.1267 - root_mean_squared_error: 0.1699 - val_loss: 0.0160 - val_iou: 0.1281 - val_mae: 0.1353 - val_root_mean_squared_error: 0.1793 - lr: 0.0010\n",
      "\n",
      "Epoch 5: LearningRateScheduler setting learning rate to 0.0010000000474974513.\n",
      "Epoch 5/100\n",
      "3899/3899 [==============================] - 1746s 448ms/step - loss: 0.0138 - iou: 0.1300 - mae: 0.1239 - root_mean_squared_error: 0.1669 - val_loss: 0.0160 - val_iou: 0.1256 - val_mae: 0.1339 - val_root_mean_squared_error: 0.1794 - lr: 0.0010\n",
      "\n",
      "Epoch 6: LearningRateScheduler setting learning rate to 0.0010000000474974513.\n",
      "Epoch 6/100\n",
      "3899/3899 [==============================] - 1744s 447ms/step - loss: 0.0132 - iou: 0.1324 - mae: 0.1208 - root_mean_squared_error: 0.1634 - val_loss: 0.0163 - val_iou: 0.1257 - val_mae: 0.1350 - val_root_mean_squared_error: 0.1806 - lr: 0.0010\n",
      "\n",
      "Epoch 7: LearningRateScheduler setting learning rate to 0.0010000000474974513.\n",
      "Epoch 7/100\n",
      "3899/3899 [==============================] - 1745s 447ms/step - loss: 0.0127 - iou: 0.1343 - mae: 0.1180 - root_mean_squared_error: 0.1601 - val_loss: 0.0167 - val_iou: 0.1244 - val_mae: 0.1384 - val_root_mean_squared_error: 0.1823 - lr: 0.0010\n",
      "\n",
      "Epoch 8: LearningRateScheduler setting learning rate to 0.0010000000474974513.\n",
      "Epoch 8/100\n",
      "3899/3899 [==============================] - 1746s 448ms/step - loss: 0.0122 - iou: 0.1381 - mae: 0.1151 - root_mean_squared_error: 0.1570 - val_loss: 0.0167 - val_iou: 0.1282 - val_mae: 0.1358 - val_root_mean_squared_error: 0.1825 - lr: 0.0010\n",
      "\n",
      "Epoch 9: LearningRateScheduler setting learning rate to 0.0010000000474974513.\n",
      "Epoch 9/100\n",
      "3899/3899 [==============================] - 1744s 447ms/step - loss: 0.0118 - iou: 0.1431 - mae: 0.1127 - root_mean_squared_error: 0.1542 - val_loss: 0.0169 - val_iou: 0.1221 - val_mae: 0.1368 - val_root_mean_squared_error: 0.1844 - lr: 0.0010\n",
      "\n",
      "Epoch 10: LearningRateScheduler setting learning rate to 0.0010000000474974513.\n",
      "Epoch 10/100\n",
      "3899/3899 [==============================] - 1749s 448ms/step - loss: 0.0114 - iou: 0.1465 - mae: 0.1103 - root_mean_squared_error: 0.1516 - val_loss: 0.0173 - val_iou: 0.1219 - val_mae: 0.1382 - val_root_mean_squared_error: 0.1859 - lr: 0.0010\n",
      "\n",
      "Epoch 11: LearningRateScheduler setting learning rate to 0.0010000000474974513.\n",
      "Epoch 11/100\n",
      "3899/3899 [==============================] - 1746s 448ms/step - loss: 0.0110 - iou: 0.1495 - mae: 0.1080 - root_mean_squared_error: 0.1489 - val_loss: 0.0175 - val_iou: 0.1280 - val_mae: 0.1396 - val_root_mean_squared_error: 0.1876 - lr: 0.0010\n",
      "\n",
      "Epoch 12: LearningRateScheduler setting learning rate to 0.0010000000474974513.\n",
      "Epoch 12/100\n",
      "3899/3899 [==============================] - 1745s 448ms/step - loss: 0.0107 - iou: 0.1544 - mae: 0.1061 - root_mean_squared_error: 0.1467 - val_loss: 0.0177 - val_iou: 0.1200 - val_mae: 0.1399 - val_root_mean_squared_error: 0.1885 - lr: 0.0010\n",
      "\n",
      "Epoch 13: LearningRateScheduler setting learning rate to 0.0010000000474974513.\n",
      "Epoch 13/100\n",
      "3899/3899 [==============================] - 1745s 448ms/step - loss: 0.0104 - iou: 0.1570 - mae: 0.1044 - root_mean_squared_error: 0.1447 - val_loss: 0.0179 - val_iou: 0.1229 - val_mae: 0.1405 - val_root_mean_squared_error: 0.1890 - lr: 0.0010\n",
      "\n",
      "Epoch 14: LearningRateScheduler setting learning rate to 0.0010000000474974513.\n",
      "Epoch 14/100\n",
      "3899/3899 [==============================] - 1744s 447ms/step - loss: 0.0101 - iou: 0.1593 - mae: 0.1027 - root_mean_squared_error: 0.1424 - val_loss: 0.0179 - val_iou: 0.1216 - val_mae: 0.1406 - val_root_mean_squared_error: 0.1894 - lr: 0.0010\n",
      "\n",
      "Epoch 15: LearningRateScheduler setting learning rate to 0.0010000000474974513.\n",
      "Epoch 15/100\n",
      "3899/3899 [==============================] - 1749s 449ms/step - loss: 0.0098 - iou: 0.1625 - mae: 0.1009 - root_mean_squared_error: 0.1403 - val_loss: 0.0181 - val_iou: 0.1220 - val_mae: 0.1401 - val_root_mean_squared_error: 0.1908 - lr: 0.0010\n",
      "\n",
      "Epoch 16: LearningRateScheduler setting learning rate to 0.0010000000474974513.\n",
      "Epoch 16/100\n",
      "3899/3899 [==============================] - 1746s 448ms/step - loss: 0.0095 - iou: 0.1655 - mae: 0.0994 - root_mean_squared_error: 0.1383 - val_loss: 0.0188 - val_iou: 0.1226 - val_mae: 0.1437 - val_root_mean_squared_error: 0.1940 - lr: 0.0010\n",
      "\n",
      "Epoch 17: LearningRateScheduler setting learning rate to 0.0010000000474974513.\n",
      "Epoch 17/100\n",
      "3899/3899 [==============================] - 1745s 447ms/step - loss: 0.0092 - iou: 0.1672 - mae: 0.0978 - root_mean_squared_error: 0.1363 - val_loss: 0.0187 - val_iou: 0.1212 - val_mae: 0.1420 - val_root_mean_squared_error: 0.1939 - lr: 0.0010\n",
      "\n",
      "Epoch 18: LearningRateScheduler setting learning rate to 0.0010000000474974513.\n",
      "Epoch 18/100\n",
      "3899/3899 [==============================] - 1745s 447ms/step - loss: 0.0090 - iou: 0.1689 - mae: 0.0963 - root_mean_squared_error: 0.1343 - val_loss: 0.0189 - val_iou: 0.1246 - val_mae: 0.1432 - val_root_mean_squared_error: 0.1945 - lr: 0.0010\n",
      "\n",
      "Epoch 19: LearningRateScheduler setting learning rate to 0.0010000000474974513.\n",
      "Epoch 19/100\n",
      "3899/3899 [==============================] - 1782s 457ms/step - loss: 0.0087 - iou: 0.1738 - mae: 0.0947 - root_mean_squared_error: 0.1321 - val_loss: 0.0190 - val_iou: 0.1211 - val_mae: 0.1428 - val_root_mean_squared_error: 0.1949 - lr: 0.0010\n",
      "\n",
      "Epoch 20: LearningRateScheduler setting learning rate to 0.0010000000474974513.\n",
      "Epoch 20/100\n",
      "3899/3899 [==============================] - 1746s 448ms/step - loss: 0.0084 - iou: 0.1726 - mae: 0.0930 - root_mean_squared_error: 0.1297 - val_loss: 0.0195 - val_iou: 0.1208 - val_mae: 0.1457 - val_root_mean_squared_error: 0.1985 - lr: 0.0010\n",
      "\n",
      "Epoch 21: LearningRateScheduler setting learning rate to 0.00010000000474974513.\n",
      "Epoch 21/100\n",
      "3899/3899 [==============================] - 1748s 448ms/step - loss: 0.0072 - iou: 0.1911 - mae: 0.0854 - root_mean_squared_error: 0.1208 - val_loss: 0.0196 - val_iou: 0.1217 - val_mae: 0.1455 - val_root_mean_squared_error: 0.1986 - lr: 1.0000e-04\n",
      "\n",
      "Epoch 22: LearningRateScheduler setting learning rate to 1.0000000474974514e-05.\n",
      "Epoch 22/100\n",
      "3899/3899 [==============================] - 1747s 448ms/step - loss: 0.0069 - iou: 0.1995 - mae: 0.0829 - root_mean_squared_error: 0.1179 - val_loss: 0.0197 - val_iou: 0.1237 - val_mae: 0.1457 - val_root_mean_squared_error: 0.1988 - lr: 1.0000e-05\n",
      "\n",
      "Epoch 23: LearningRateScheduler setting learning rate to 1.0000000656873453e-06.\n",
      "Epoch 23/100\n",
      "3899/3899 [==============================] - 1745s 447ms/step - loss: 0.0069 - iou: 0.1997 - mae: 0.0826 - root_mean_squared_error: 0.1176 - val_loss: 0.0197 - val_iou: 0.1234 - val_mae: 0.1460 - val_root_mean_squared_error: 0.1990 - lr: 1.0000e-06\n",
      "\n",
      "Epoch 24: LearningRateScheduler setting learning rate to 1.0000001111620805e-07.\n",
      "Epoch 24/100\n",
      "3899/3899 [==============================] - 1748s 448ms/step - loss: 0.0069 - iou: 0.1995 - mae: 0.0825 - root_mean_squared_error: 0.1175 - val_loss: 0.0197 - val_iou: 0.1231 - val_mae: 0.1459 - val_root_mean_squared_error: 0.1989 - lr: 1.0000e-07\n",
      "\n",
      "Epoch 25: LearningRateScheduler setting learning rate to 1.000000082740371e-08.\n",
      "Epoch 25/100\n",
      "3899/3899 [==============================] - 1744s 447ms/step - loss: 0.0069 - iou: 0.1993 - mae: 0.0826 - root_mean_squared_error: 0.1176 - val_loss: 0.0197 - val_iou: 0.1239 - val_mae: 0.1459 - val_root_mean_squared_error: 0.1989 - lr: 1.0000e-08\n",
      "\n",
      "Epoch 26: LearningRateScheduler setting learning rate to 1.000000082740371e-09.\n",
      "Epoch 26/100\n",
      "3899/3899 [==============================] - 1747s 448ms/step - loss: 0.0069 - iou: 0.1996 - mae: 0.0827 - root_mean_squared_error: 0.1176 - val_loss: 0.0197 - val_iou: 0.1218 - val_mae: 0.1458 - val_root_mean_squared_error: 0.1988 - lr: 1.0000e-09\n",
      "\n",
      "Epoch 27: LearningRateScheduler setting learning rate to 1.000000082740371e-10.\n",
      "Epoch 27/100\n",
      "3899/3899 [==============================] - 1748s 448ms/step - loss: 0.0069 - iou: 0.1993 - mae: 0.0825 - root_mean_squared_error: 0.1176 - val_loss: 0.0197 - val_iou: 0.1229 - val_mae: 0.1460 - val_root_mean_squared_error: 0.1991 - lr: 1.0000e-10\n",
      "\n",
      "Epoch 28: LearningRateScheduler setting learning rate to 1.000000082740371e-11.\n",
      "Epoch 28/100\n",
      "3899/3899 [==============================] - 1745s 448ms/step - loss: 0.0069 - iou: 0.1986 - mae: 0.0826 - root_mean_squared_error: 0.1176 - val_loss: 0.0197 - val_iou: 0.1217 - val_mae: 0.1458 - val_root_mean_squared_error: 0.1988 - lr: 1.0000e-11\n",
      "\n",
      "Epoch 29: LearningRateScheduler setting learning rate to 1.000000082740371e-12.\n",
      "Epoch 29/100\n",
      "3899/3899 [==============================] - 1747s 448ms/step - loss: 0.0069 - iou: 0.2000 - mae: 0.0825 - root_mean_squared_error: 0.1175 - val_loss: 0.0197 - val_iou: 0.1220 - val_mae: 0.1459 - val_root_mean_squared_error: 0.1989 - lr: 1.0000e-12\n",
      "\n",
      "Epoch 30: LearningRateScheduler setting learning rate to 1.0000001044244145e-13.\n",
      "Epoch 30/100\n",
      "3899/3899 [==============================] - 1746s 448ms/step - loss: 0.0069 - iou: 0.1993 - mae: 0.0826 - root_mean_squared_error: 0.1177 - val_loss: 0.0197 - val_iou: 0.1217 - val_mae: 0.1459 - val_root_mean_squared_error: 0.1989 - lr: 1.0000e-13\n",
      "\n",
      "Epoch 31: LearningRateScheduler setting learning rate to 1.0000001179769416e-14.\n",
      "Epoch 31/100\n",
      "3899/3899 [==============================] - 1746s 448ms/step - loss: 0.0069 - iou: 0.1993 - mae: 0.0826 - root_mean_squared_error: 0.1177 - val_loss: 0.0197 - val_iou: 0.1228 - val_mae: 0.1459 - val_root_mean_squared_error: 0.1988 - lr: 1.0000e-14\n",
      "\n",
      "Epoch 32: LearningRateScheduler setting learning rate to 1.0000001518582595e-15.\n",
      "Epoch 32/100\n",
      "3899/3899 [==============================] - 1746s 448ms/step - loss: 0.0069 - iou: 0.1996 - mae: 0.0825 - root_mean_squared_error: 0.1175 - val_loss: 0.0197 - val_iou: 0.1226 - val_mae: 0.1460 - val_root_mean_squared_error: 0.1989 - lr: 1.0000e-15\n"
     ]
    }
   ],
   "source": [
    "strategy = tf.distribute.OneDeviceStrategy(device=\"/GPU:0\")\n",
    "with strategy.scope():\n",
    "    #Data Generation\n",
    "    train_generator = DataGenerator(df_train,question_vocab, BATCH_SIZE)\n",
    "    val_generator = DataGenerator(df_val,question_vocab, BATCH_SIZE)\n",
    "    \n",
    "    vocab_size = train_generator.question_dict.vocab_size\n",
    "    \n",
    "    #Create VQA model\n",
    "    VQA_model = VQA(\n",
    "        embedding_size = EMBEDIND_SIZE,\n",
    "        img_size=IMAGE_SIZE,\n",
    "        question_embedding_size= WORD_EMBEDING_SIZE,\n",
    "        question_vocab_size = train_generator.question_dict.vocab_size,\n",
    "        rnn_hidden_size=RNN_HIDDEN_SIZE,\n",
    "        atention_out_dim = ATT_EMBEDDING_SIZE,\n",
    "        num_att_layers = 2\n",
    "    \n",
    "    )\n",
    "    \n",
    "    VQA_model.compile(keras.optimizers.Adam(learning_rate=LEARNING_RATE),\n",
    "                      loss=tf.keras.losses.MeanSquaredLogarithmicError(), metrics = [iou, 'mae', tf.keras.metrics.RootMeanSquaredError()])\n",
    "    early_stop = tf.keras.callbacks.EarlyStopping(monitor='val_iou', patience=20) \n",
    "    lr_schedule = tf.keras.callbacks.LearningRateScheduler(scheduler, verbose = 1)\n",
    "    \n",
    "    if WANDB_LOG:\n",
    "        wandb_img_callback = Log_Img_Callback(train_generator, val_generator)\n",
    "        wandb_loss_log = WandbCallback(monitor=\"val_iou\", save_model=False)\n",
    "        callbacks = [wandb_img_callback, wandb_loss_log, early_stop, lr_schedule]\n",
    "    else:\n",
    "        callbacks = [ lr_schedule]\n",
    "        \n",
    "\n",
    "    history = VQA_model.fit(\n",
    "        train_generator,\n",
    "        epochs=NUM_EPOCHS,\n",
    "        callbacks = callbacks,\n",
    "        verbose = 1,\n",
    "        validation_data = val_generator,\n",
    "    )"
   ]
  },
  {
   "cell_type": "code",
   "execution_count": 27,
   "id": "f5b4442c",
   "metadata": {
    "execution": {
     "iopub.execute_input": "2022-11-23T17:44:47.085707Z",
     "iopub.status.busy": "2022-11-23T17:44:47.085212Z",
     "iopub.status.idle": "2022-11-23T17:44:48.043158Z",
     "shell.execute_reply": "2022-11-23T17:44:48.042381Z"
    }
   },
   "outputs": [
    {
     "data": {
      "text/plain": [
       "(<Figure size 2000x1000 with 8 Axes>,\n",
       " array([[<AxesSubplot:title={'center':'Loss'}, xlabel='Epochs', ylabel='Loss'>,\n",
       "         <AxesSubplot:title={'center':'Iou'}, xlabel='Epochs', ylabel='Iou'>,\n",
       "         <AxesSubplot:title={'center':'Mae'}, xlabel='Epochs', ylabel='Mae'>,\n",
       "         <AxesSubplot:title={'center':'Root MSE'}, xlabel='Epochs', ylabel='Root MSE'>],\n",
       "        [<AxesSubplot:title={'center':'Learning rate'}, xlabel='Epochs', ylabel='Learning rate'>,\n",
       "         <AxesSubplot:>, <AxesSubplot:>, <AxesSubplot:>]], dtype=object))"
      ]
     },
     "execution_count": 27,
     "metadata": {},
     "output_type": "execute_result"
    },
    {
     "data": {
      "image/png": "[encoded data removed]",
      "text/plain": [
       "<Figure size 2000x1000 with 8 Axes>"
      ]
     },
     "metadata": {},
     "output_type": "display_data"
    }
   ],
   "source": [
    "plot_history(history)"
   ]
  },
  {
   "cell_type": "code",
   "execution_count": 28,
   "id": "cbb53c49",
   "metadata": {
    "execution": {
     "iopub.execute_input": "2022-11-23T17:44:48.051628Z",
     "iopub.status.busy": "2022-11-23T17:44:48.051322Z",
     "iopub.status.idle": "2022-11-23T17:44:59.535089Z",
     "shell.execute_reply": "2022-11-23T17:44:59.533770Z"
    },
    "id": "cbb53c49"
   },
   "outputs": [
    {
     "data": {
      "text/html": [
       "Waiting for W&B process to finish... <strong style=\"color:green\">(success).</strong>"
      ],
      "text/plain": [
       "<IPython.core.display.HTML object>"
      ]
     },
     "metadata": {},
     "output_type": "display_data"
    },
    {
     "data": {
      "text/html": [
       "<style>\n",
       "    table.wandb td:nth-child(1) { padding: 0 10px; text-align: left ; width: auto;} td:nth-child(2) {text-align: left ; width: 100%}\n",
       "    .wandb-row { display: flex; flex-direction: row; flex-wrap: wrap; justify-content: flex-start; width: 100% }\n",
       "    .wandb-col { display: flex; flex-direction: column; flex-basis: 100%; flex: 1; padding: 10px; }\n",
       "    </style>\n",
       "<div class=\"wandb-row\"><div class=\"wandb-col\"><h3>Run history:</h3><br/><table class=\"wandb\"><tr><td>epoch</td><td>▁▁▁▂▂▂▂▃▃▃▃▃▄▄▄▄▅▅▅▅▆▆▆▆▆▇▇▇▇███</td></tr><tr><td>iou</td><td>▁▁▂▂▂▂▂▃▃▃▄▄▄▄▅▅▅▅▆▆▇███████████</td></tr><tr><td>loss</td><td>█▇▇▆▆▅▅▅▄▄▄▄▃▃▃▃▃▂▂▂▁▁▁▁▁▁▁▁▁▁▁▁</td></tr><tr><td>mae</td><td>█▇▇▆▆▆▅▅▅▄▄▄▄▃▃▃▃▃▂▂▁▁▁▁▁▁▁▁▁▁▁▁</td></tr><tr><td>root_mean_squared_error</td><td>█▇▇▇▆▆▅▅▅▅▄▄▄▄▃▃▃▃▃▂▁▁▁▁▁▁▁▁▁▁▁▁</td></tr><tr><td>val_iou</td><td>█▆██▆▆▅█▃▃█▁▃▂▃▃▂▅▂▂▂▄▄▄▄▃▃▂▃▂▃▃</td></tr><tr><td>val_loss</td><td>▁▁▁▁▁▂▂▂▃▄▄▄▅▅▅▆▆▆▇█████████████</td></tr><tr><td>val_mae</td><td>▃▁▃▂▁▂▄▂▃▄▄▅▅▅▅▇▆▆▆█████████████</td></tr><tr><td>val_root_mean_squared_error</td><td>▂▁▁▁▁▂▂▂▃▃▄▄▄▅▅▆▆▆▇█████████████</td></tr></table><br/></div><div class=\"wandb-col\"><h3>Run summary:</h3><br/><table class=\"wandb\"><tr><td>best_epoch</td><td>11</td></tr><tr><td>best_val_iou</td><td>0.11999</td></tr><tr><td>epoch</td><td>31</td></tr><tr><td>iou</td><td>0.19962</td></tr><tr><td>loss</td><td>0.00685</td></tr><tr><td>mae</td><td>0.08252</td></tr><tr><td>root_mean_squared_error</td><td>0.11753</td></tr><tr><td>val_iou</td><td>0.1226</td></tr><tr><td>val_loss</td><td>0.0197</td></tr><tr><td>val_mae</td><td>0.14598</td></tr><tr><td>val_root_mean_squared_error</td><td>0.19891</td></tr></table><br/></div></div>"
      ],
      "text/plain": [
       "<IPython.core.display.HTML object>"
      ]
     },
     "metadata": {},
     "output_type": "display_data"
    },
    {
     "data": {
      "text/html": [
       "Synced <strong style=\"color:#cdcd00\">restful-snowflake-152</strong>: <a href=\"https://wandb.ai/ngocdunghuynh/WSDM2023/runs/171brbft\" target=\"_blank\">https://wandb.ai/ngocdunghuynh/WSDM2023/runs/171brbft</a><br/>Synced 7 W&B file(s), 3 media file(s), 18 artifact file(s) and 1 other file(s)"
      ],
      "text/plain": [
       "<IPython.core.display.HTML object>"
      ]
     },
     "metadata": {},
     "output_type": "display_data"
    },
    {
     "data": {
      "text/html": [
       "Find logs at: <code>./wandb/run-20221123_131242-171brbft/logs</code>"
      ],
      "text/plain": [
       "<IPython.core.display.HTML object>"
      ]
     },
     "metadata": {},
     "output_type": "display_data"
    }
   ],
   "source": [
    "if WANDB_LOG:\n",
    "    wandb.log({\"train example\": train_table})\n",
    "    wandb.log({\"val example\": val_table})\n",
    "    #os.system('rm -rf saved_images')\n",
    "    wandb.finish()\n"
   ]
  },
  {
   "cell_type": "code",
   "execution_count": null,
   "id": "6f90af09",
   "metadata": {},
   "outputs": [],
   "source": []
  }
 ],
 "metadata": {
  "accelerator": "GPU",
  "colab": {
   "provenance": []
  },
  "gpuClass": "standard",
  "kernelspec": {
   "display_name": "Python 3.7.13 ('py37')",
   "language": "python",
   "name": "python3"
  },
  "language_info": {
   "codemirror_mode": {
    "name": "ipython",
    "version": 3
   },
   "file_extension": ".py",
   "mimetype": "text/x-python",
   "name": "python",
   "nbconvert_exporter": "python",
   "pygments_lexer": "ipython3",
   "version": "3.7.13"
  },
  "vscode": {
   "interpreter": {
    "hash": "fe02f6b7889157858bb1111d52c4e934ad85fe25705987c250f81f06d37a9b7f"
   }
  },
  "widgets": {
   "application/vnd.jupyter.widget-state+json": {
    "state": {
     "070bbea2cbda4c60b52bfdbe56f2b792": {
      "model_module": "@jupyter-widgets/controls",
      "model_module_version": "2.0.0",
      "model_name": "VBoxModel",
      "state": {
       "_dom_classes": [],
       "_model_module": "@jupyter-widgets/controls",
       "_model_module_version": "2.0.0",
       "_model_name": "VBoxModel",
       "_view_count": null,
       "_view_module": "@jupyter-widgets/controls",
       "_view_module_version": "2.0.0",
       "_view_name": "VBoxView",
       "box_style": "",
       "children": [
        "IPY_MODEL_6adc6ce273b140609b06a05468da9082",
        "IPY_MODEL_cb9fccca68a6471096870fa4bb89856d"
       ],
       "layout": "IPY_MODEL_e6140c6fe301472080cadb756663ad21",
       "tabbable": null,
       "tooltip": null
      }
     },
     "088474f502b54cf2a0bde7354bd11ea9": {
      "model_module": "@jupyter-widgets/controls",
      "model_module_version": "2.0.0",
      "model_name": "ProgressStyleModel",
      "state": {
       "_model_module": "@jupyter-widgets/controls",
       "_model_module_version": "2.0.0",
       "_model_name": "ProgressStyleModel",
       "_view_count": null,
       "_view_module": "@jupyter-widgets/base",
       "_view_module_version": "2.0.0",
       "_view_name": "StyleView",
       "bar_color": null,
       "description_width": ""
      }
     },
     "1add081df27e4e568d5f3009ad0e5401": {
      "model_module": "@jupyter-widgets/base",
      "model_module_version": "2.0.0",
      "model_name": "LayoutModel",
      "state": {
       "_model_module": "@jupyter-widgets/base",
       "_model_module_version": "2.0.0",
       "_model_name": "LayoutModel",
       "_view_count": null,
       "_view_module": "@jupyter-widgets/base",
       "_view_module_version": "2.0.0",
       "_view_name": "LayoutView",
       "align_content": null,
       "align_items": null,
       "align_self": null,
       "border_bottom": null,
       "border_left": null,
       "border_right": null,
       "border_top": null,
       "bottom": null,
       "display": null,
       "flex": null,
       "flex_flow": null,
       "grid_area": null,
       "grid_auto_columns": null,
       "grid_auto_flow": null,
       "grid_auto_rows": null,
       "grid_column": null,
       "grid_gap": null,
       "grid_row": null,
       "grid_template_areas": null,
       "grid_template_columns": null,
       "grid_template_rows": null,
       "height": null,
       "justify_content": null,
       "justify_items": null,
       "left": null,
       "margin": null,
       "max_height": null,
       "max_width": null,
       "min_height": null,
       "min_width": null,
       "object_fit": null,
       "object_position": null,
       "order": null,
       "overflow": null,
       "padding": null,
       "right": null,
       "top": null,
       "visibility": null,
       "width": null
      }
     },
     "204366daa87e4d60804ab0b913dca8ea": {
      "model_module": "@jupyter-widgets/controls",
      "model_module_version": "2.0.0",
      "model_name": "LabelModel",
      "state": {
       "_dom_classes": [],
       "_model_module": "@jupyter-widgets/controls",
       "_model_module_version": "2.0.0",
       "_model_name": "LabelModel",
       "_view_count": null,
       "_view_module": "@jupyter-widgets/controls",
       "_view_module_version": "2.0.0",
       "_view_name": "LabelView",
       "description": "",
       "description_allow_html": false,
       "layout": "IPY_MODEL_b5bad1cc36594808bd96d651b7585c63",
       "placeholder": "​",
       "style": "IPY_MODEL_4da84433afdd450e8d3b45a5ad214942",
       "tabbable": null,
       "tooltip": null,
       "value": ""
      }
     },
     "2c3675d66aaa4f7a95546c6e012a1d74": {
      "model_module": "@jupyter-widgets/controls",
      "model_module_version": "2.0.0",
      "model_name": "FloatProgressModel",
      "state": {
       "_dom_classes": [],
       "_model_module": "@jupyter-widgets/controls",
       "_model_module_version": "2.0.0",
       "_model_name": "FloatProgressModel",
       "_view_count": null,
       "_view_module": "@jupyter-widgets/controls",
       "_view_module_version": "2.0.0",
       "_view_name": "ProgressView",
       "bar_style": "",
       "description": "",
       "description_allow_html": false,
       "layout": "IPY_MODEL_4bc317396fff471bae18c8cb8b1d6376",
       "max": 1,
       "min": 0,
       "orientation": "horizontal",
       "style": "IPY_MODEL_088474f502b54cf2a0bde7354bd11ea9",
       "tabbable": null,
       "tooltip": null,
       "value": 0
      }
     },
     "378830888aef454e834a8bc54257052b": {
      "model_module": "@jupyter-widgets/base",
      "model_module_version": "2.0.0",
      "model_name": "LayoutModel",
      "state": {
       "_model_module": "@jupyter-widgets/base",
       "_model_module_version": "2.0.0",
       "_model_name": "LayoutModel",
       "_view_count": null,
       "_view_module": "@jupyter-widgets/base",
       "_view_module_version": "2.0.0",
       "_view_name": "LayoutView",
       "align_content": null,
       "align_items": null,
       "align_self": null,
       "border_bottom": null,
       "border_left": null,
       "border_right": null,
       "border_top": null,
       "bottom": null,
       "display": null,
       "flex": null,
       "flex_flow": null,
       "grid_area": null,
       "grid_auto_columns": null,
       "grid_auto_flow": null,
       "grid_auto_rows": null,
       "grid_column": null,
       "grid_gap": null,
       "grid_row": null,
       "grid_template_areas": null,
       "grid_template_columns": null,
       "grid_template_rows": null,
       "height": null,
       "justify_content": null,
       "justify_items": null,
       "left": null,
       "margin": null,
       "max_height": null,
       "max_width": null,
       "min_height": null,
       "min_width": null,
       "object_fit": null,
       "object_position": null,
       "order": null,
       "overflow": null,
       "padding": null,
       "right": null,
       "top": null,
       "visibility": null,
       "width": null
      }
     },
     "4bc317396fff471bae18c8cb8b1d6376": {
      "model_module": "@jupyter-widgets/base",
      "model_module_version": "2.0.0",
      "model_name": "LayoutModel",
      "state": {
       "_model_module": "@jupyter-widgets/base",
       "_model_module_version": "2.0.0",
       "_model_name": "LayoutModel",
       "_view_count": null,
       "_view_module": "@jupyter-widgets/base",
       "_view_module_version": "2.0.0",
       "_view_name": "LayoutView",
       "align_content": null,
       "align_items": null,
       "align_self": null,
       "border_bottom": null,
       "border_left": null,
       "border_right": null,
       "border_top": null,
       "bottom": null,
       "display": null,
       "flex": null,
       "flex_flow": null,
       "grid_area": null,
       "grid_auto_columns": null,
       "grid_auto_flow": null,
       "grid_auto_rows": null,
       "grid_column": null,
       "grid_gap": null,
       "grid_row": null,
       "grid_template_areas": null,
       "grid_template_columns": null,
       "grid_template_rows": null,
       "height": null,
       "justify_content": null,
       "justify_items": null,
       "left": null,
       "margin": null,
       "max_height": null,
       "max_width": null,
       "min_height": null,
       "min_width": null,
       "object_fit": null,
       "object_position": null,
       "order": null,
       "overflow": null,
       "padding": null,
       "right": null,
       "top": null,
       "visibility": null,
       "width": null
      }
     },
     "4da84433afdd450e8d3b45a5ad214942": {
      "model_module": "@jupyter-widgets/controls",
      "model_module_version": "2.0.0",
      "model_name": "LabelStyleModel",
      "state": {
       "_model_module": "@jupyter-widgets/controls",
       "_model_module_version": "2.0.0",
       "_model_name": "LabelStyleModel",
       "_view_count": null,
       "_view_module": "@jupyter-widgets/base",
       "_view_module_version": "2.0.0",
       "_view_name": "StyleView",
       "background": null,
       "description_width": "",
       "font_family": null,
       "font_size": null,
       "font_style": null,
       "font_variant": null,
       "font_weight": null,
       "text_color": null,
       "text_decoration": null
      }
     },
     "6adc6ce273b140609b06a05468da9082": {
      "model_module": "@jupyter-widgets/controls",
      "model_module_version": "2.0.0",
      "model_name": "LabelModel",
      "state": {
       "_dom_classes": [],
       "_model_module": "@jupyter-widgets/controls",
       "_model_module_version": "2.0.0",
       "_model_name": "LabelModel",
       "_view_count": null,
       "_view_module": "@jupyter-widgets/controls",
       "_view_module_version": "2.0.0",
       "_view_name": "LabelView",
       "description": "",
       "description_allow_html": false,
       "layout": "IPY_MODEL_378830888aef454e834a8bc54257052b",
       "placeholder": "​",
       "style": "IPY_MODEL_ae08c6ece70040be8f799f1c224a43f3",
       "tabbable": null,
       "tooltip": null,
       "value": ""
      }
     },
     "ae08c6ece70040be8f799f1c224a43f3": {
      "model_module": "@jupyter-widgets/controls",
      "model_module_version": "2.0.0",
      "model_name": "LabelStyleModel",
      "state": {
       "_model_module": "@jupyter-widgets/controls",
       "_model_module_version": "2.0.0",
       "_model_name": "LabelStyleModel",
       "_view_count": null,
       "_view_module": "@jupyter-widgets/base",
       "_view_module_version": "2.0.0",
       "_view_name": "StyleView",
       "background": null,
       "description_width": "",
       "font_family": null,
       "font_size": null,
       "font_style": null,
       "font_variant": null,
       "font_weight": null,
       "text_color": null,
       "text_decoration": null
      }
     },
     "b5bad1cc36594808bd96d651b7585c63": {
      "model_module": "@jupyter-widgets/base",
      "model_module_version": "2.0.0",
      "model_name": "LayoutModel",
      "state": {
       "_model_module": "@jupyter-widgets/base",
       "_model_module_version": "2.0.0",
       "_model_name": "LayoutModel",
       "_view_count": null,
       "_view_module": "@jupyter-widgets/base",
       "_view_module_version": "2.0.0",
       "_view_name": "LayoutView",
       "align_content": null,
       "align_items": null,
       "align_self": null,
       "border_bottom": null,
       "border_left": null,
       "border_right": null,
       "border_top": null,
       "bottom": null,
       "display": null,
       "flex": null,
       "flex_flow": null,
       "grid_area": null,
       "grid_auto_columns": null,
       "grid_auto_flow": null,
       "grid_auto_rows": null,
       "grid_column": null,
       "grid_gap": null,
       "grid_row": null,
       "grid_template_areas": null,
       "grid_template_columns": null,
       "grid_template_rows": null,
       "height": null,
       "justify_content": null,
       "justify_items": null,
       "left": null,
       "margin": null,
       "max_height": null,
       "max_width": null,
       "min_height": null,
       "min_width": null,
       "object_fit": null,
       "object_position": null,
       "order": null,
       "overflow": null,
       "padding": null,
       "right": null,
       "top": null,
       "visibility": null,
       "width": null
      }
     },
     "c8f9e444e1fe4a7abe9a54bfabfb602d": {
      "model_module": "@jupyter-widgets/base",
      "model_module_version": "2.0.0",
      "model_name": "LayoutModel",
      "state": {
       "_model_module": "@jupyter-widgets/base",
       "_model_module_version": "2.0.0",
       "_model_name": "LayoutModel",
       "_view_count": null,
       "_view_module": "@jupyter-widgets/base",
       "_view_module_version": "2.0.0",
       "_view_name": "LayoutView",
       "align_content": null,
       "align_items": null,
       "align_self": null,
       "border_bottom": null,
       "border_left": null,
       "border_right": null,
       "border_top": null,
       "bottom": null,
       "display": null,
       "flex": null,
       "flex_flow": null,
       "grid_area": null,
       "grid_auto_columns": null,
       "grid_auto_flow": null,
       "grid_auto_rows": null,
       "grid_column": null,
       "grid_gap": null,
       "grid_row": null,
       "grid_template_areas": null,
       "grid_template_columns": null,
       "grid_template_rows": null,
       "height": null,
       "justify_content": null,
       "justify_items": null,
       "left": null,
       "margin": null,
       "max_height": null,
       "max_width": null,
       "min_height": null,
       "min_width": null,
       "object_fit": null,
       "object_position": null,
       "order": null,
       "overflow": null,
       "padding": null,
       "right": null,
       "top": null,
       "visibility": null,
       "width": null
      }
     },
     "ca7463fc4f374e03b6b47477d558ad64": {
      "model_module": "@jupyter-widgets/controls",
      "model_module_version": "2.0.0",
      "model_name": "ProgressStyleModel",
      "state": {
       "_model_module": "@jupyter-widgets/controls",
       "_model_module_version": "2.0.0",
       "_model_name": "ProgressStyleModel",
       "_view_count": null,
       "_view_module": "@jupyter-widgets/base",
       "_view_module_version": "2.0.0",
       "_view_name": "StyleView",
       "bar_color": null,
       "description_width": ""
      }
     },
     "cb9fccca68a6471096870fa4bb89856d": {
      "model_module": "@jupyter-widgets/controls",
      "model_module_version": "2.0.0",
      "model_name": "FloatProgressModel",
      "state": {
       "_dom_classes": [],
       "_model_module": "@jupyter-widgets/controls",
       "_model_module_version": "2.0.0",
       "_model_name": "FloatProgressModel",
       "_view_count": null,
       "_view_module": "@jupyter-widgets/controls",
       "_view_module_version": "2.0.0",
       "_view_name": "ProgressView",
       "bar_style": "",
       "description": "",
       "description_allow_html": false,
       "layout": "IPY_MODEL_1add081df27e4e568d5f3009ad0e5401",
       "max": 1,
       "min": 0,
       "orientation": "horizontal",
       "style": "IPY_MODEL_ca7463fc4f374e03b6b47477d558ad64",
       "tabbable": null,
       "tooltip": null,
       "value": 0
      }
     },
     "e6140c6fe301472080cadb756663ad21": {
      "model_module": "@jupyter-widgets/base",
      "model_module_version": "2.0.0",
      "model_name": "LayoutModel",
      "state": {
       "_model_module": "@jupyter-widgets/base",
       "_model_module_version": "2.0.0",
       "_model_name": "LayoutModel",
       "_view_count": null,
       "_view_module": "@jupyter-widgets/base",
       "_view_module_version": "2.0.0",
       "_view_name": "LayoutView",
       "align_content": null,
       "align_items": null,
       "align_self": null,
       "border_bottom": null,
       "border_left": null,
       "border_right": null,
       "border_top": null,
       "bottom": null,
       "display": null,
       "flex": null,
       "flex_flow": null,
       "grid_area": null,
       "grid_auto_columns": null,
       "grid_auto_flow": null,
       "grid_auto_rows": null,
       "grid_column": null,
       "grid_gap": null,
       "grid_row": null,
       "grid_template_areas": null,
       "grid_template_columns": null,
       "grid_template_rows": null,
       "height": null,
       "justify_content": null,
       "justify_items": null,
       "left": null,
       "margin": null,
       "max_height": null,
       "max_width": null,
       "min_height": null,
       "min_width": null,
       "object_fit": null,
       "object_position": null,
       "order": null,
       "overflow": null,
       "padding": null,
       "right": null,
       "top": null,
       "visibility": null,
       "width": null
      }
     },
     "ee1898be1eb24a95894f436f854d9b9e": {
      "model_module": "@jupyter-widgets/controls",
      "model_module_version": "2.0.0",
      "model_name": "VBoxModel",
      "state": {
       "_dom_classes": [],
       "_model_module": "@jupyter-widgets/controls",
       "_model_module_version": "2.0.0",
       "_model_name": "VBoxModel",
       "_view_count": null,
       "_view_module": "@jupyter-widgets/controls",
       "_view_module_version": "2.0.0",
       "_view_name": "VBoxView",
       "box_style": "",
       "children": [
        "IPY_MODEL_204366daa87e4d60804ab0b913dca8ea",
        "IPY_MODEL_2c3675d66aaa4f7a95546c6e012a1d74"
       ],
       "layout": "IPY_MODEL_c8f9e444e1fe4a7abe9a54bfabfb602d",
       "tabbable": null,
       "tooltip": null
      }
     }
    },
    "version_major": 2,
    "version_minor": 0
   }
  }
 },
 "nbformat": 4,
 "nbformat_minor": 5
}
